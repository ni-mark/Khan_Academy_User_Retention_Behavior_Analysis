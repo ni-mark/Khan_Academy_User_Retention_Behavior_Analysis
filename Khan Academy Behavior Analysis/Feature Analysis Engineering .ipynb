{
 "cells": [
  {
   "cell_type": "code",
   "execution_count": 1,
   "id": "ead60d46",
   "metadata": {},
   "outputs": [],
   "source": [
    "import pandas as pd \n",
    "import numpy as np \n",
    "import matplotlib.pyplot as plt\n",
    "import seaborn as sns\n",
    "\n",
    "from sklearn.decomposition import PCA\n",
    "from sklearn.preprocessing import scale\n",
    "\n",
    "import statsmodels.api as sm \n",
    "from statsmodels.graphics.api import abline_plot\n",
    "from sklearn.metrics import mean_squared_error, r2_score \n",
    "from sklearn.model_selection import train_test_split\n",
    "\n",
    "from scipy import stats"
   ]
  },
  {
   "cell_type": "code",
   "execution_count": 2,
   "id": "342ebcb5",
   "metadata": {},
   "outputs": [],
   "source": [
    "khan_data = pd.read_csv('./data/return_user.csv')"
   ]
  },
  {
   "cell_type": "code",
   "execution_count": 3,
   "id": "5ecb248c",
   "metadata": {},
   "outputs": [],
   "source": [
    "khan_data = khan_data.drop(['Unnamed: 0'], axis =1)"
   ]
  },
  {
   "cell_type": "code",
   "execution_count": 4,
   "id": "87f8d713",
   "metadata": {},
   "outputs": [
    {
     "name": "stdout",
     "output_type": "stream",
     "text": [
      "<class 'pandas.core.frame.DataFrame'>\n",
      "RangeIndex: 31481 entries, 0 to 31480\n",
      "Data columns (total 13 columns):\n",
      " #   Column                Non-Null Count  Dtype \n",
      "---  ------                --------------  ----- \n",
      " 0   timestamp             31481 non-null  object\n",
      " 1   user_id               31481 non-null  int64 \n",
      " 2   session_id            31481 non-null  int64 \n",
      " 3   country               31481 non-null  object\n",
      " 4   language              31481 non-null  object\n",
      " 5   user_registered_flag  31481 non-null  bool  \n",
      " 6   device_type           31481 non-null  object\n",
      " 7   KA_app_flag           31481 non-null  bool  \n",
      " 8   OS                    31481 non-null  object\n",
      " 9   URI                   26149 non-null  object\n",
      " 10  conversion            31481 non-null  object\n",
      " 11  returned_user         31481 non-null  int64 \n",
      " 12  returner              31481 non-null  object\n",
      "dtypes: bool(2), int64(3), object(8)\n",
      "memory usage: 2.7+ MB\n"
     ]
    }
   ],
   "source": [
    "khan_data.info()"
   ]
  },
  {
   "cell_type": "code",
   "execution_count": 34,
   "id": "5f984475",
   "metadata": {},
   "outputs": [
    {
     "data": {
      "text/plain": [
       "count     31481\n",
       "unique        2\n",
       "top         Yes\n",
       "freq      21790\n",
       "Name: returner, dtype: object"
      ]
     },
     "execution_count": 34,
     "metadata": {},
     "output_type": "execute_result"
    }
   ],
   "source": [
    "khan_data['returner'].describe()"
   ]
  },
  {
   "cell_type": "code",
   "execution_count": 27,
   "id": "4d9f8d11",
   "metadata": {},
   "outputs": [
    {
     "data": {
      "text/html": [
       "<div>\n",
       "<style scoped>\n",
       "    .dataframe tbody tr th:only-of-type {\n",
       "        vertical-align: middle;\n",
       "    }\n",
       "\n",
       "    .dataframe tbody tr th {\n",
       "        vertical-align: top;\n",
       "    }\n",
       "\n",
       "    .dataframe thead th {\n",
       "        text-align: right;\n",
       "    }\n",
       "</style>\n",
       "<table border=\"1\" class=\"dataframe\">\n",
       "  <thead>\n",
       "    <tr style=\"text-align: right;\">\n",
       "      <th></th>\n",
       "      <th>timestamp</th>\n",
       "      <th>user_id</th>\n",
       "      <th>session_id</th>\n",
       "      <th>country</th>\n",
       "      <th>language</th>\n",
       "      <th>user_registered_flag</th>\n",
       "      <th>device_type</th>\n",
       "      <th>KA_app_flag</th>\n",
       "      <th>OS</th>\n",
       "      <th>URI</th>\n",
       "      <th>conversion</th>\n",
       "      <th>returned_user</th>\n",
       "      <th>returner</th>\n",
       "    </tr>\n",
       "  </thead>\n",
       "  <tbody>\n",
       "    <tr>\n",
       "      <th>0</th>\n",
       "      <td>2016-02-18 18:05:34.408245 UTC</td>\n",
       "      <td>461023995001001</td>\n",
       "      <td>7269247775762971847</td>\n",
       "      <td>US</td>\n",
       "      <td>en</td>\n",
       "      <td>True</td>\n",
       "      <td>desktop</td>\n",
       "      <td>False</td>\n",
       "      <td>Windows</td>\n",
       "      <td>NaN</td>\n",
       "      <td>login</td>\n",
       "      <td>1</td>\n",
       "      <td>Yes</td>\n",
       "    </tr>\n",
       "    <tr>\n",
       "      <th>1</th>\n",
       "      <td>2016-02-18 18:05:35.156166 UTC</td>\n",
       "      <td>461023995001001</td>\n",
       "      <td>7269247775762971847</td>\n",
       "      <td>US</td>\n",
       "      <td>en</td>\n",
       "      <td>True</td>\n",
       "      <td>desktop</td>\n",
       "      <td>False</td>\n",
       "      <td>Windows</td>\n",
       "      <td>NaN</td>\n",
       "      <td>homepage_view</td>\n",
       "      <td>1</td>\n",
       "      <td>Yes</td>\n",
       "    </tr>\n",
       "    <tr>\n",
       "      <th>2</th>\n",
       "      <td>2016-02-18 18:05:44.033396 UTC</td>\n",
       "      <td>461023995001001</td>\n",
       "      <td>7269247775762971847</td>\n",
       "      <td>US</td>\n",
       "      <td>en</td>\n",
       "      <td>True</td>\n",
       "      <td>desktop</td>\n",
       "      <td>False</td>\n",
       "      <td>Windows</td>\n",
       "      <td>\"/welcome\"</td>\n",
       "      <td>pageview</td>\n",
       "      <td>1</td>\n",
       "      <td>Yes</td>\n",
       "    </tr>\n",
       "    <tr>\n",
       "      <th>3</th>\n",
       "      <td>2016-02-18 18:06:39.681943 UTC</td>\n",
       "      <td>461023995001001</td>\n",
       "      <td>7269247775762971847</td>\n",
       "      <td>US</td>\n",
       "      <td>en</td>\n",
       "      <td>True</td>\n",
       "      <td>desktop</td>\n",
       "      <td>False</td>\n",
       "      <td>Windows</td>\n",
       "      <td>\"/math/cc-third-grade-math\"</td>\n",
       "      <td>pageview</td>\n",
       "      <td>1</td>\n",
       "      <td>Yes</td>\n",
       "    </tr>\n",
       "    <tr>\n",
       "      <th>4</th>\n",
       "      <td>2016-02-18 18:06:55.040427 UTC</td>\n",
       "      <td>461023995001001</td>\n",
       "      <td>7269247775762971847</td>\n",
       "      <td>US</td>\n",
       "      <td>en</td>\n",
       "      <td>True</td>\n",
       "      <td>desktop</td>\n",
       "      <td>False</td>\n",
       "      <td>Windows</td>\n",
       "      <td>\"/mission/cc-third-grade-math\"</td>\n",
       "      <td>pageview</td>\n",
       "      <td>1</td>\n",
       "      <td>Yes</td>\n",
       "    </tr>\n",
       "    <tr>\n",
       "      <th>5</th>\n",
       "      <td>2016-02-18 18:07:06.233494 UTC</td>\n",
       "      <td>461023995001001</td>\n",
       "      <td>7269247775762971847</td>\n",
       "      <td>US</td>\n",
       "      <td>en</td>\n",
       "      <td>True</td>\n",
       "      <td>desktop</td>\n",
       "      <td>False</td>\n",
       "      <td>Windows</td>\n",
       "      <td>\"/mission/cc-third-grade-math/task/63250174127...</td>\n",
       "      <td>pageview</td>\n",
       "      <td>1</td>\n",
       "      <td>Yes</td>\n",
       "    </tr>\n",
       "    <tr>\n",
       "      <th>6</th>\n",
       "      <td>2016-02-18 18:08:23.21072 UTC</td>\n",
       "      <td>461023995001001</td>\n",
       "      <td>7269247775762971847</td>\n",
       "      <td>US</td>\n",
       "      <td>en</td>\n",
       "      <td>True</td>\n",
       "      <td>desktop</td>\n",
       "      <td>False</td>\n",
       "      <td>Windows</td>\n",
       "      <td>\"/mission/cc-third-grade-math\"</td>\n",
       "      <td>pageview</td>\n",
       "      <td>1</td>\n",
       "      <td>Yes</td>\n",
       "    </tr>\n",
       "    <tr>\n",
       "      <th>7</th>\n",
       "      <td>2016-02-18 18:08:35.05428 UTC</td>\n",
       "      <td>461023995001001</td>\n",
       "      <td>7269247775762971847</td>\n",
       "      <td>US</td>\n",
       "      <td>en</td>\n",
       "      <td>True</td>\n",
       "      <td>desktop</td>\n",
       "      <td>False</td>\n",
       "      <td>Windows</td>\n",
       "      <td>\"/math/cc-fifth-grade-math\"</td>\n",
       "      <td>pageview</td>\n",
       "      <td>1</td>\n",
       "      <td>Yes</td>\n",
       "    </tr>\n",
       "    <tr>\n",
       "      <th>8</th>\n",
       "      <td>2016-02-18 18:08:41.48111 UTC</td>\n",
       "      <td>461023995001001</td>\n",
       "      <td>7269247775762971847</td>\n",
       "      <td>US</td>\n",
       "      <td>en</td>\n",
       "      <td>True</td>\n",
       "      <td>desktop</td>\n",
       "      <td>False</td>\n",
       "      <td>Windows</td>\n",
       "      <td>\"/mission/cc-fifth-grade-math\"</td>\n",
       "      <td>pageview</td>\n",
       "      <td>1</td>\n",
       "      <td>Yes</td>\n",
       "    </tr>\n",
       "    <tr>\n",
       "      <th>9</th>\n",
       "      <td>2016-02-18 18:08:46.90117 UTC</td>\n",
       "      <td>461023995001001</td>\n",
       "      <td>7269247775762971847</td>\n",
       "      <td>US</td>\n",
       "      <td>en</td>\n",
       "      <td>True</td>\n",
       "      <td>desktop</td>\n",
       "      <td>False</td>\n",
       "      <td>Windows</td>\n",
       "      <td>\"/mission/cc-fifth-grade-math/task/60413444865...</td>\n",
       "      <td>pageview</td>\n",
       "      <td>1</td>\n",
       "      <td>Yes</td>\n",
       "    </tr>\n",
       "  </tbody>\n",
       "</table>\n",
       "</div>"
      ],
      "text/plain": [
       "                        timestamp          user_id           session_id  \\\n",
       "0  2016-02-18 18:05:34.408245 UTC  461023995001001  7269247775762971847   \n",
       "1  2016-02-18 18:05:35.156166 UTC  461023995001001  7269247775762971847   \n",
       "2  2016-02-18 18:05:44.033396 UTC  461023995001001  7269247775762971847   \n",
       "3  2016-02-18 18:06:39.681943 UTC  461023995001001  7269247775762971847   \n",
       "4  2016-02-18 18:06:55.040427 UTC  461023995001001  7269247775762971847   \n",
       "5  2016-02-18 18:07:06.233494 UTC  461023995001001  7269247775762971847   \n",
       "6   2016-02-18 18:08:23.21072 UTC  461023995001001  7269247775762971847   \n",
       "7   2016-02-18 18:08:35.05428 UTC  461023995001001  7269247775762971847   \n",
       "8   2016-02-18 18:08:41.48111 UTC  461023995001001  7269247775762971847   \n",
       "9   2016-02-18 18:08:46.90117 UTC  461023995001001  7269247775762971847   \n",
       "\n",
       "  country language  user_registered_flag device_type  KA_app_flag       OS  \\\n",
       "0      US       en                  True     desktop        False  Windows   \n",
       "1      US       en                  True     desktop        False  Windows   \n",
       "2      US       en                  True     desktop        False  Windows   \n",
       "3      US       en                  True     desktop        False  Windows   \n",
       "4      US       en                  True     desktop        False  Windows   \n",
       "5      US       en                  True     desktop        False  Windows   \n",
       "6      US       en                  True     desktop        False  Windows   \n",
       "7      US       en                  True     desktop        False  Windows   \n",
       "8      US       en                  True     desktop        False  Windows   \n",
       "9      US       en                  True     desktop        False  Windows   \n",
       "\n",
       "                                                 URI     conversion  \\\n",
       "0                                                NaN          login   \n",
       "1                                                NaN  homepage_view   \n",
       "2                                         \"/welcome\"       pageview   \n",
       "3                        \"/math/cc-third-grade-math\"       pageview   \n",
       "4                     \"/mission/cc-third-grade-math\"       pageview   \n",
       "5  \"/mission/cc-third-grade-math/task/63250174127...       pageview   \n",
       "6                     \"/mission/cc-third-grade-math\"       pageview   \n",
       "7                        \"/math/cc-fifth-grade-math\"       pageview   \n",
       "8                     \"/mission/cc-fifth-grade-math\"       pageview   \n",
       "9  \"/mission/cc-fifth-grade-math/task/60413444865...       pageview   \n",
       "\n",
       "   returned_user returner  \n",
       "0              1      Yes  \n",
       "1              1      Yes  \n",
       "2              1      Yes  \n",
       "3              1      Yes  \n",
       "4              1      Yes  \n",
       "5              1      Yes  \n",
       "6              1      Yes  \n",
       "7              1      Yes  \n",
       "8              1      Yes  \n",
       "9              1      Yes  "
      ]
     },
     "execution_count": 27,
     "metadata": {},
     "output_type": "execute_result"
    }
   ],
   "source": [
    "khan_data.head(10)"
   ]
  },
  {
   "cell_type": "markdown",
   "id": "72a325a8",
   "metadata": {},
   "source": [
    "## Chi-square test "
   ]
  },
  {
   "cell_type": "markdown",
   "id": "96f1ae04",
   "metadata": {},
   "source": [
    "Using a Chi-square test to decide whether there is a relationiship between two categorical variables\n",
    "H₀: The two categorical variables have no relationship\n",
    "H₁: There is a relationship between two categorical variables\n",
    "\n"
   ]
  },
  {
   "cell_type": "code",
   "execution_count": 41,
   "id": "903066c8",
   "metadata": {},
   "outputs": [],
   "source": [
    "# Generate Dummy varibles for categorical variables -> shouldn't be needed as that is why I make a crosstab\n",
    "from scipy.stats import chi2_contingency \n",
    "import numpy as np"
   ]
  },
  {
   "cell_type": "code",
   "execution_count": 42,
   "id": "6b6dc40d",
   "metadata": {},
   "outputs": [],
   "source": [
    "#Create contigency table \n",
    "data_crosstab = pd.crosstab(khan_data['returner'], khan_data['language'], margins=True)"
   ]
  },
  {
   "cell_type": "code",
   "execution_count": 43,
   "id": "7a68586d",
   "metadata": {},
   "outputs": [],
   "source": [
    "#Set Significance level\n",
    "alpha = 0.05"
   ]
  },
  {
   "cell_type": "code",
   "execution_count": 38,
   "id": "f8f1b820",
   "metadata": {},
   "outputs": [],
   "source": [
    "#Calculation of Chisquare for language\n",
    "chi_square = 0 \n",
    "rows = khan_data['returner'].unique()\n",
    "columns = khan_data['language'].unique()\n",
    "for i in columns:\n",
    "    for j in rows:\n",
    "        O = data_crosstab[i][j]\n",
    "        E = data_crosstab[i]['Total'] * data_crosstab['Total'][j] / data_crosstab['Total']['Total']\n",
    "        chi_square += (O-E)**2/E"
   ]
  },
  {
   "cell_type": "code",
   "execution_count": 39,
   "id": "c4ae4e23",
   "metadata": {},
   "outputs": [
    {
     "name": "stdout",
     "output_type": "stream",
     "text": [
      "Appraoch 1: The p-value approach to hypothesis testing in the decision rule\n",
      "chisquare-score is: 303.42106797957115  and p value is: 0.0\n",
      "Null Hypothesis is rejected.\n",
      "\n",
      "--------------------------------------------------------------------------------------\n",
      "Approach 2: The critical value approach to hypothesis testing in the decision rule\n",
      "chisquare-score is: 303.42106797957115  and critical value is: 18.307038053275146\n",
      "Null Hypothesis is rejected.\n"
     ]
    }
   ],
   "source": [
    "#Printing the results with the p-value approach \n",
    "print(\"Appraoch 1: The p-value approach to hypothesis testing in the decision rule\")\n",
    "p_value = 1 - stats.chi2.cdf(chi_square, (len(rows)-1)*(len(columns)-1))\n",
    "conclusion = \"Failed to reject the null hypothesis.\"\n",
    "if p_value <= alpha:\n",
    "    conclusion = \"Null Hypothesis is rejected.\"\n",
    "        \n",
    "print(\"chisquare-score is:\", chi_square, \" and p value is:\", p_value)\n",
    "print(conclusion)\n",
    "\n",
    "print(\"\\n--------------------------------------------------------------------------------------\")\n",
    "\n",
    "print(\"Approach 2: The critical value approach to hypothesis testing in the decision rule\")\n",
    "critical_value = stats.chi2.ppf(1-alpha, (len(rows)-1)*(len(columns)-1))\n",
    "conclusion = \"Failed to reject the null hypothesis.\"\n",
    "if chi_square > critical_value:\n",
    "    conclusion = \"Null Hypothesis is rejected.\"\n",
    "        \n",
    "print(\"chisquare-score is:\", chi_square, \" and critical value is:\", critical_value)\n",
    "print(conclusion)"
   ]
  },
  {
   "cell_type": "markdown",
   "id": "ee32d733",
   "metadata": {},
   "source": [
    "## Simpiler chi2 Test"
   ]
  },
  {
   "cell_type": "markdown",
   "id": "acda27f5",
   "metadata": {},
   "source": [
    "### Being a returner correlated with language"
   ]
  },
  {
   "cell_type": "code",
   "execution_count": 48,
   "id": "a81af930",
   "metadata": {},
   "outputs": [
    {
     "name": "stdout",
     "output_type": "stream",
     "text": [
      "language  da  de     en   es  fr   nb  pl   pt  th  tr  zh-HANS    All\n",
      "returner                                                              \n",
      "No        19   1   9061  411  11    8  14  136   4  24        2   9691\n",
      "Yes        0   0  20636  493   0  153  24  484   0   0        0  21790\n",
      "All       19   1  29697  904  11  161  38  620   4  24        2  31481\n"
     ]
    }
   ],
   "source": [
    "chisqt = pd.crosstab(khan_data.returner, khan_data.language, margins=True)\n",
    "print(chisqt)"
   ]
  },
  {
   "cell_type": "code",
   "execution_count": 49,
   "id": "b31f872f",
   "metadata": {},
   "outputs": [
    {
     "name": "stdout",
     "output_type": "stream",
     "text": [
      "(160.66359102254185, 1.0534279768462328e-33, 4)\n"
     ]
    }
   ],
   "source": [
    "from scipy.stats import chi2_contingency \n",
    "import numpy as np\n",
    "value = np.array([chisqt.iloc[0][0:5].values,\n",
    "                  chisqt.iloc[1][0:5].values])\n",
    "print(chi2_contingency(value)[0:3])"
   ]
  },
  {
   "cell_type": "markdown",
   "id": "2547ed2a",
   "metadata": {},
   "source": [
    "The p-value is 1.05, 160.66 is the statistical value with 4 degrees of freedom, we are unable to reject the null hypothesis, thus, language and being a returner is not correlated"
   ]
  },
  {
   "cell_type": "markdown",
   "id": "f0759df7",
   "metadata": {},
   "source": [
    "### Being a returner correlated with country - Significant"
   ]
  },
  {
   "cell_type": "code",
   "execution_count": 54,
   "id": "24f3aa8e",
   "metadata": {},
   "outputs": [
    {
     "name": "stdout",
     "output_type": "stream",
     "text": [
      "country   AE  AM  AR  AT   AU  BD  BE   BR  BS  BY  ...  TR  TT  TW  UA  \\\n",
      "returner                                            ...                   \n",
      "No        39   1   2   4  257   2  19  156   5  12  ...  20   9  14  11   \n",
      "Yes       21   0   0   2  350  38   0  461   0   0  ...  15  13   0  16   \n",
      "All       60   1   2   6  607  40  19  617   5  12  ...  35  22  14  27   \n",
      "\n",
      "country      US  VE  VN   ZA  ZM    All  \n",
      "returner                                 \n",
      "No         7212   7   9   45  16   9691  \n",
      "Yes       14761   0   0  247   0  21790  \n",
      "All       21973   7   9  292  16  31481  \n",
      "\n",
      "[3 rows x 78 columns]\n"
     ]
    }
   ],
   "source": [
    "chisqt1 = pd.crosstab(khan_data.returner, khan_data.country, margins=True)\n",
    "print(chisqt1)"
   ]
  },
  {
   "cell_type": "code",
   "execution_count": 51,
   "id": "f5841284",
   "metadata": {},
   "outputs": [
    {
     "name": "stdout",
     "output_type": "stream",
     "text": [
      "(16.241057773576184, 0.0027121839245656267, 4)\n"
     ]
    }
   ],
   "source": [
    "value = np.array([chisqt1.iloc[0][0:5].values,\n",
    "                  chisqt1.iloc[1][0:5].values])\n",
    "print(chi2_contingency(value)[0:3])"
   ]
  },
  {
   "cell_type": "markdown",
   "id": "95be7738",
   "metadata": {},
   "source": [
    "The p-value is 0.003, 16.24 is the statistical value with 4 degrees of freedom, we are able to reject the null hypothesis, thus, country of orgin and being a returner is correlated"
   ]
  },
  {
   "cell_type": "markdown",
   "id": "6fea6688",
   "metadata": {},
   "source": [
    "### Being a returner correlated with Operating System (OS)"
   ]
  },
  {
   "cell_type": "code",
   "execution_count": 55,
   "id": "65326722",
   "metadata": {},
   "outputs": [
    {
     "name": "stdout",
     "output_type": "stream",
     "text": [
      "OS        Android  BlackBerry OS  Chrome OS  Linux  Mac OS X  Other  Ubuntu  \\\n",
      "returner                                                                      \n",
      "No            449              3       1360     98      1795      7      27   \n",
      "Yes          1055              0       2379     82      3710      0     412   \n",
      "All          1504              3       3739    180      5505      7     439   \n",
      "\n",
      "OS        Windows  Windows Phone   iOS    All  \n",
      "returner                                       \n",
      "No           5008              0   944   9691  \n",
      "Yes         12116             14  2022  21790  \n",
      "All         17124             14  2966  31481  \n"
     ]
    }
   ],
   "source": [
    "chisqt2 = pd.crosstab(khan_data.returner, khan_data.OS, margins=True)\n",
    "print(chisqt2)"
   ]
  },
  {
   "cell_type": "code",
   "execution_count": 56,
   "id": "965a993f",
   "metadata": {},
   "outputs": [
    {
     "name": "stdout",
     "output_type": "stream",
     "text": [
      "(65.06510802392796, 2.493204735921778e-13, 4)\n"
     ]
    }
   ],
   "source": [
    "value = np.array([chisqt2.iloc[0][0:5].values,\n",
    "                  chisqt2.iloc[1][0:5].values])\n",
    "print(chi2_contingency(value)[0:3])"
   ]
  },
  {
   "cell_type": "markdown",
   "id": "679e5539",
   "metadata": {},
   "source": [
    "The p-value is 2.49, 95.07 is the statistical value with 4 degrees of freedom, we are unable to reject the null hypothesis, thus, Operating System(OS) and being a returner is not correlated"
   ]
  },
  {
   "cell_type": "markdown",
   "id": "1b19ad2d",
   "metadata": {},
   "source": [
    "### Being a returner correlated with using Khan Academy App"
   ]
  },
  {
   "cell_type": "code",
   "execution_count": 57,
   "id": "aa6ead29",
   "metadata": {},
   "outputs": [
    {
     "name": "stdout",
     "output_type": "stream",
     "text": [
      "KA_app_flag  False  True    All\n",
      "returner                       \n",
      "No            9498   193   9691\n",
      "Yes          21387   403  21790\n",
      "All          30885   596  31481\n"
     ]
    }
   ],
   "source": [
    "chisqt3 = pd.crosstab(khan_data.returner, khan_data.KA_app_flag, margins=True)\n",
    "print(chisqt3)"
   ]
  },
  {
   "cell_type": "code",
   "execution_count": 58,
   "id": "ba05481f",
   "metadata": {},
   "outputs": [
    {
     "name": "stdout",
     "output_type": "stream",
     "text": [
      "(0.7288911104843107, 0.6945816512928396, 2)\n"
     ]
    }
   ],
   "source": [
    "value = np.array([chisqt3.iloc[0][0:5].values,\n",
    "                  chisqt3.iloc[1][0:5].values])\n",
    "print(chi2_contingency(value)[0:3])"
   ]
  },
  {
   "cell_type": "markdown",
   "id": "afb41080",
   "metadata": {},
   "source": [
    "The p-value is 0.69, 0.73 is the statistical value with 2 degrees of freedom, we are unable to reject the null hypothesis, thus, using the Khan Academy app and being a returner is not correlated"
   ]
  },
  {
   "cell_type": "markdown",
   "id": "d64bdb7f",
   "metadata": {},
   "source": [
    "### Being a returner correlated with device used"
   ]
  },
  {
   "cell_type": "code",
   "execution_count": 59,
   "id": "973cdd0c",
   "metadata": {},
   "outputs": [
    {
     "name": "stdout",
     "output_type": "stream",
     "text": [
      "device_type  desktop  phone  tablet  unknown/other    All\n",
      "returner                                                 \n",
      "No              8263    724     697              7   9691\n",
      "Yes            18622   1148    2020              0  21790\n",
      "All            26885   1872    2717              7  31481\n"
     ]
    }
   ],
   "source": [
    "chisqt4 = pd.crosstab(khan_data.returner, khan_data.device_type, margins=True)\n",
    "print(chisqt4)"
   ]
  },
  {
   "cell_type": "code",
   "execution_count": 60,
   "id": "8dddb2f7",
   "metadata": {},
   "outputs": [
    {
     "name": "stdout",
     "output_type": "stream",
     "text": [
      "(104.04690298413593, 1.3519794225204459e-21, 4)\n"
     ]
    }
   ],
   "source": [
    "value = np.array([chisqt4.iloc[0][0:5].values,\n",
    "                  chisqt4.iloc[1][0:5].values])\n",
    "print(chi2_contingency(value)[0:3])"
   ]
  },
  {
   "cell_type": "markdown",
   "id": "b5e78eac",
   "metadata": {},
   "source": [
    "The p-value is 1.35, 104.05 is the statistical value with 4 degrees of freedom, we are unable to reject the null hypothesis, thus, device type and being a returner is not correlated"
   ]
  },
  {
   "cell_type": "markdown",
   "id": "3365a87a",
   "metadata": {},
   "source": [
    "### Being a returner correlated with being a registered user on Khan Academy - Significant"
   ]
  },
  {
   "cell_type": "code",
   "execution_count": 61,
   "id": "3799071e",
   "metadata": {},
   "outputs": [
    {
     "name": "stdout",
     "output_type": "stream",
     "text": [
      "user_registered_flag  False   True    All\n",
      "returner                                 \n",
      "No                     3262   6429   9691\n",
      "Yes                    2079  19711  21790\n",
      "All                    5341  26140  31481\n"
     ]
    }
   ],
   "source": [
    "chisqt5 = pd.crosstab(khan_data.returner, khan_data.user_registered_flag, margins=True)\n",
    "print(chisqt5)"
   ]
  },
  {
   "cell_type": "code",
   "execution_count": 62,
   "id": "65e4f52b",
   "metadata": {},
   "outputs": [
    {
     "name": "stdout",
     "output_type": "stream",
     "text": [
      "(2769.909687905716, 0.0, 2)\n"
     ]
    }
   ],
   "source": [
    "value = np.array([chisqt5.iloc[0][0:5].values,\n",
    "                  chisqt5.iloc[1][0:5].values])\n",
    "print(chi2_contingency(value)[0:3])"
   ]
  },
  {
   "cell_type": "markdown",
   "id": "f7f822b4",
   "metadata": {},
   "source": [
    "The p-value is 0.0, 2769.91 is the statistical value with 2 degrees of freedom, we are unable to reject the null hypothesis, thus, device type and being a returner is not correlated"
   ]
  }
 ],
 "metadata": {
  "kernelspec": {
   "display_name": "Python 3 (ipykernel)",
   "language": "python",
   "name": "python3"
  },
  "language_info": {
   "codemirror_mode": {
    "name": "ipython",
    "version": 3
   },
   "file_extension": ".py",
   "mimetype": "text/x-python",
   "name": "python",
   "nbconvert_exporter": "python",
   "pygments_lexer": "ipython3",
   "version": "3.9.7"
  }
 },
 "nbformat": 4,
 "nbformat_minor": 5
}

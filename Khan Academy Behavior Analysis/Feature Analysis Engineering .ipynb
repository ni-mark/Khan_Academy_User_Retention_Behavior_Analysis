{
 "cells": [
  {
   "cell_type": "code",
   "execution_count": 1,
   "id": "ead60d46",
   "metadata": {},
   "outputs": [],
   "source": [
    "import pandas as pd \n",
    "import numpy as np \n",
    "import matplotlib.pyplot as plt\n",
    "import seaborn as sns\n",
    "\n",
    "from sklearn.decomposition import PCA\n",
    "from sklearn.preprocessing import scale\n",
    "\n",
    "import statsmodels.api as sm \n",
    "from statsmodels.graphics.api import abline_plot\n",
    "from sklearn.metrics import mean_squared_error, r2_score \n",
    "from sklearn.model_selection import train_test_split\n",
    "\n",
    "from scipy import stats"
   ]
  },
  {
   "cell_type": "code",
   "execution_count": 2,
   "id": "342ebcb5",
   "metadata": {},
   "outputs": [],
   "source": [
    "khan_data = pd.read_csv('./data/return_user.csv')"
   ]
  },
  {
   "cell_type": "code",
   "execution_count": 3,
   "id": "5ecb248c",
   "metadata": {},
   "outputs": [],
   "source": [
    "khan_data = khan_data.drop(['Unnamed: 0'], axis =1)"
   ]
  },
  {
   "cell_type": "code",
   "execution_count": 4,
   "id": "87f8d713",
   "metadata": {},
   "outputs": [
    {
     "name": "stdout",
     "output_type": "stream",
     "text": [
      "<class 'pandas.core.frame.DataFrame'>\n",
      "RangeIndex: 31481 entries, 0 to 31480\n",
      "Data columns (total 13 columns):\n",
      " #   Column                Non-Null Count  Dtype \n",
      "---  ------                --------------  ----- \n",
      " 0   timestamp             31481 non-null  object\n",
      " 1   user_id               31481 non-null  int64 \n",
      " 2   session_id            31481 non-null  int64 \n",
      " 3   country               31481 non-null  object\n",
      " 4   language              31481 non-null  object\n",
      " 5   user_registered_flag  31481 non-null  bool  \n",
      " 6   device_type           31481 non-null  object\n",
      " 7   KA_app_flag           31481 non-null  bool  \n",
      " 8   OS                    31481 non-null  object\n",
      " 9   URI                   26149 non-null  object\n",
      " 10  conversion            31481 non-null  object\n",
      " 11  returned_user         31481 non-null  int64 \n",
      " 12  returner              31481 non-null  object\n",
      "dtypes: bool(2), int64(3), object(8)\n",
      "memory usage: 2.7+ MB\n"
     ]
    }
   ],
   "source": [
    "khan_data.info()"
   ]
  },
  {
   "cell_type": "code",
   "execution_count": 34,
   "id": "01f7b895",
   "metadata": {},
   "outputs": [
    {
     "data": {
      "text/plain": [
       "count     31481\n",
       "unique        2\n",
       "top         Yes\n",
       "freq      21790\n",
       "Name: returner, dtype: object"
      ]
     },
     "execution_count": 34,
     "metadata": {},
     "output_type": "execute_result"
    }
   ],
   "source": [
    "khan_data['returner'].describe()"
   ]
  },
  {
   "cell_type": "code",
   "execution_count": 27,
   "id": "4d9f8d11",
   "metadata": {},
   "outputs": [
    {
     "data": {
      "text/html": [
       "<div>\n",
       "<style scoped>\n",
       "    .dataframe tbody tr th:only-of-type {\n",
       "        vertical-align: middle;\n",
       "    }\n",
       "\n",
       "    .dataframe tbody tr th {\n",
       "        vertical-align: top;\n",
       "    }\n",
       "\n",
       "    .dataframe thead th {\n",
       "        text-align: right;\n",
       "    }\n",
       "</style>\n",
       "<table border=\"1\" class=\"dataframe\">\n",
       "  <thead>\n",
       "    <tr style=\"text-align: right;\">\n",
       "      <th></th>\n",
       "      <th>timestamp</th>\n",
       "      <th>user_id</th>\n",
       "      <th>session_id</th>\n",
       "      <th>country</th>\n",
       "      <th>language</th>\n",
       "      <th>user_registered_flag</th>\n",
       "      <th>device_type</th>\n",
       "      <th>KA_app_flag</th>\n",
       "      <th>OS</th>\n",
       "      <th>URI</th>\n",
       "      <th>conversion</th>\n",
       "      <th>returned_user</th>\n",
       "      <th>returner</th>\n",
       "    </tr>\n",
       "  </thead>\n",
       "  <tbody>\n",
       "    <tr>\n",
       "      <th>0</th>\n",
       "      <td>2016-02-18 18:05:34.408245 UTC</td>\n",
       "      <td>461023995001001</td>\n",
       "      <td>7269247775762971847</td>\n",
       "      <td>US</td>\n",
       "      <td>en</td>\n",
       "      <td>True</td>\n",
       "      <td>desktop</td>\n",
       "      <td>False</td>\n",
       "      <td>Windows</td>\n",
       "      <td>NaN</td>\n",
       "      <td>login</td>\n",
       "      <td>1</td>\n",
       "      <td>Yes</td>\n",
       "    </tr>\n",
       "    <tr>\n",
       "      <th>1</th>\n",
       "      <td>2016-02-18 18:05:35.156166 UTC</td>\n",
       "      <td>461023995001001</td>\n",
       "      <td>7269247775762971847</td>\n",
       "      <td>US</td>\n",
       "      <td>en</td>\n",
       "      <td>True</td>\n",
       "      <td>desktop</td>\n",
       "      <td>False</td>\n",
       "      <td>Windows</td>\n",
       "      <td>NaN</td>\n",
       "      <td>homepage_view</td>\n",
       "      <td>1</td>\n",
       "      <td>Yes</td>\n",
       "    </tr>\n",
       "    <tr>\n",
       "      <th>2</th>\n",
       "      <td>2016-02-18 18:05:44.033396 UTC</td>\n",
       "      <td>461023995001001</td>\n",
       "      <td>7269247775762971847</td>\n",
       "      <td>US</td>\n",
       "      <td>en</td>\n",
       "      <td>True</td>\n",
       "      <td>desktop</td>\n",
       "      <td>False</td>\n",
       "      <td>Windows</td>\n",
       "      <td>\"/welcome\"</td>\n",
       "      <td>pageview</td>\n",
       "      <td>1</td>\n",
       "      <td>Yes</td>\n",
       "    </tr>\n",
       "    <tr>\n",
       "      <th>3</th>\n",
       "      <td>2016-02-18 18:06:39.681943 UTC</td>\n",
       "      <td>461023995001001</td>\n",
       "      <td>7269247775762971847</td>\n",
       "      <td>US</td>\n",
       "      <td>en</td>\n",
       "      <td>True</td>\n",
       "      <td>desktop</td>\n",
       "      <td>False</td>\n",
       "      <td>Windows</td>\n",
       "      <td>\"/math/cc-third-grade-math\"</td>\n",
       "      <td>pageview</td>\n",
       "      <td>1</td>\n",
       "      <td>Yes</td>\n",
       "    </tr>\n",
       "    <tr>\n",
       "      <th>4</th>\n",
       "      <td>2016-02-18 18:06:55.040427 UTC</td>\n",
       "      <td>461023995001001</td>\n",
       "      <td>7269247775762971847</td>\n",
       "      <td>US</td>\n",
       "      <td>en</td>\n",
       "      <td>True</td>\n",
       "      <td>desktop</td>\n",
       "      <td>False</td>\n",
       "      <td>Windows</td>\n",
       "      <td>\"/mission/cc-third-grade-math\"</td>\n",
       "      <td>pageview</td>\n",
       "      <td>1</td>\n",
       "      <td>Yes</td>\n",
       "    </tr>\n",
       "    <tr>\n",
       "      <th>5</th>\n",
       "      <td>2016-02-18 18:07:06.233494 UTC</td>\n",
       "      <td>461023995001001</td>\n",
       "      <td>7269247775762971847</td>\n",
       "      <td>US</td>\n",
       "      <td>en</td>\n",
       "      <td>True</td>\n",
       "      <td>desktop</td>\n",
       "      <td>False</td>\n",
       "      <td>Windows</td>\n",
       "      <td>\"/mission/cc-third-grade-math/task/63250174127...</td>\n",
       "      <td>pageview</td>\n",
       "      <td>1</td>\n",
       "      <td>Yes</td>\n",
       "    </tr>\n",
       "    <tr>\n",
       "      <th>6</th>\n",
       "      <td>2016-02-18 18:08:23.21072 UTC</td>\n",
       "      <td>461023995001001</td>\n",
       "      <td>7269247775762971847</td>\n",
       "      <td>US</td>\n",
       "      <td>en</td>\n",
       "      <td>True</td>\n",
       "      <td>desktop</td>\n",
       "      <td>False</td>\n",
       "      <td>Windows</td>\n",
       "      <td>\"/mission/cc-third-grade-math\"</td>\n",
       "      <td>pageview</td>\n",
       "      <td>1</td>\n",
       "      <td>Yes</td>\n",
       "    </tr>\n",
       "    <tr>\n",
       "      <th>7</th>\n",
       "      <td>2016-02-18 18:08:35.05428 UTC</td>\n",
       "      <td>461023995001001</td>\n",
       "      <td>7269247775762971847</td>\n",
       "      <td>US</td>\n",
       "      <td>en</td>\n",
       "      <td>True</td>\n",
       "      <td>desktop</td>\n",
       "      <td>False</td>\n",
       "      <td>Windows</td>\n",
       "      <td>\"/math/cc-fifth-grade-math\"</td>\n",
       "      <td>pageview</td>\n",
       "      <td>1</td>\n",
       "      <td>Yes</td>\n",
       "    </tr>\n",
       "    <tr>\n",
       "      <th>8</th>\n",
       "      <td>2016-02-18 18:08:41.48111 UTC</td>\n",
       "      <td>461023995001001</td>\n",
       "      <td>7269247775762971847</td>\n",
       "      <td>US</td>\n",
       "      <td>en</td>\n",
       "      <td>True</td>\n",
       "      <td>desktop</td>\n",
       "      <td>False</td>\n",
       "      <td>Windows</td>\n",
       "      <td>\"/mission/cc-fifth-grade-math\"</td>\n",
       "      <td>pageview</td>\n",
       "      <td>1</td>\n",
       "      <td>Yes</td>\n",
       "    </tr>\n",
       "    <tr>\n",
       "      <th>9</th>\n",
       "      <td>2016-02-18 18:08:46.90117 UTC</td>\n",
       "      <td>461023995001001</td>\n",
       "      <td>7269247775762971847</td>\n",
       "      <td>US</td>\n",
       "      <td>en</td>\n",
       "      <td>True</td>\n",
       "      <td>desktop</td>\n",
       "      <td>False</td>\n",
       "      <td>Windows</td>\n",
       "      <td>\"/mission/cc-fifth-grade-math/task/60413444865...</td>\n",
       "      <td>pageview</td>\n",
       "      <td>1</td>\n",
       "      <td>Yes</td>\n",
       "    </tr>\n",
       "  </tbody>\n",
       "</table>\n",
       "</div>"
      ],
      "text/plain": [
       "                        timestamp          user_id           session_id  \\\n",
       "0  2016-02-18 18:05:34.408245 UTC  461023995001001  7269247775762971847   \n",
       "1  2016-02-18 18:05:35.156166 UTC  461023995001001  7269247775762971847   \n",
       "2  2016-02-18 18:05:44.033396 UTC  461023995001001  7269247775762971847   \n",
       "3  2016-02-18 18:06:39.681943 UTC  461023995001001  7269247775762971847   \n",
       "4  2016-02-18 18:06:55.040427 UTC  461023995001001  7269247775762971847   \n",
       "5  2016-02-18 18:07:06.233494 UTC  461023995001001  7269247775762971847   \n",
       "6   2016-02-18 18:08:23.21072 UTC  461023995001001  7269247775762971847   \n",
       "7   2016-02-18 18:08:35.05428 UTC  461023995001001  7269247775762971847   \n",
       "8   2016-02-18 18:08:41.48111 UTC  461023995001001  7269247775762971847   \n",
       "9   2016-02-18 18:08:46.90117 UTC  461023995001001  7269247775762971847   \n",
       "\n",
       "  country language  user_registered_flag device_type  KA_app_flag       OS  \\\n",
       "0      US       en                  True     desktop        False  Windows   \n",
       "1      US       en                  True     desktop        False  Windows   \n",
       "2      US       en                  True     desktop        False  Windows   \n",
       "3      US       en                  True     desktop        False  Windows   \n",
       "4      US       en                  True     desktop        False  Windows   \n",
       "5      US       en                  True     desktop        False  Windows   \n",
       "6      US       en                  True     desktop        False  Windows   \n",
       "7      US       en                  True     desktop        False  Windows   \n",
       "8      US       en                  True     desktop        False  Windows   \n",
       "9      US       en                  True     desktop        False  Windows   \n",
       "\n",
       "                                                 URI     conversion  \\\n",
       "0                                                NaN          login   \n",
       "1                                                NaN  homepage_view   \n",
       "2                                         \"/welcome\"       pageview   \n",
       "3                        \"/math/cc-third-grade-math\"       pageview   \n",
       "4                     \"/mission/cc-third-grade-math\"       pageview   \n",
       "5  \"/mission/cc-third-grade-math/task/63250174127...       pageview   \n",
       "6                     \"/mission/cc-third-grade-math\"       pageview   \n",
       "7                        \"/math/cc-fifth-grade-math\"       pageview   \n",
       "8                     \"/mission/cc-fifth-grade-math\"       pageview   \n",
       "9  \"/mission/cc-fifth-grade-math/task/60413444865...       pageview   \n",
       "\n",
       "   returned_user returner  \n",
       "0              1      Yes  \n",
       "1              1      Yes  \n",
       "2              1      Yes  \n",
       "3              1      Yes  \n",
       "4              1      Yes  \n",
       "5              1      Yes  \n",
       "6              1      Yes  \n",
       "7              1      Yes  \n",
       "8              1      Yes  \n",
       "9              1      Yes  "
      ]
     },
     "execution_count": 27,
     "metadata": {},
     "output_type": "execute_result"
    }
   ],
   "source": [
    "khan_data.head(10)"
   ]
  },
  {
   "cell_type": "markdown",
   "id": "72a325a8",
   "metadata": {},
   "source": [
    "## Chi-square test "
   ]
  },
  {
   "cell_type": "markdown",
   "id": "96f1ae04",
   "metadata": {},
   "source": [
    "Using a Chi-square test to decide whether there is a relationiship between two categorical variables\n",
    "H₀: The two categorical variables have no relationship\n",
    "H₁: There is a relationship between two categorical variables\n",
    "\n"
   ]
  },
  {
   "cell_type": "code",
   "execution_count": 41,
   "id": "903066c8",
   "metadata": {},
   "outputs": [],
   "source": [
    "# Generate Dummy varibles for categorical variables -> shouldn't be needed as that is why I make a crosstab\n",
    "from scipy.stats import chi2_contingency \n",
    "import numpy as np"
   ]
  },
  {
   "cell_type": "code",
   "execution_count": 42,
   "id": "6b6dc40d",
   "metadata": {},
   "outputs": [],
   "source": [
    "#Create contigency table \n",
    "data_crosstab = pd.crosstab(khan_data['returner'], khan_data['language'], margins=True, )"
   ]
  },
  {
   "cell_type": "code",
   "execution_count": 43,
   "id": "7a68586d",
   "metadata": {},
   "outputs": [],
   "source": [
    "#Set Significance level\n",
    "alpha = 0.05"
   ]
  },
  {
   "cell_type": "code",
   "execution_count": 38,
   "id": "f8f1b820",
   "metadata": {},
   "outputs": [],
   "source": [
    "#Calculation of Chisquare for language\n",
    "chi_square = 0 \n",
    "rows = khan_data['returner'].unique()\n",
    "columns = khan_data['language'].unique()\n",
    "for i in columns:\n",
    "    for j in rows:\n",
    "        O = data_crosstab[i][j]\n",
    "        E = data_crosstab[i]['Total'] * data_crosstab['Total'][j] / data_crosstab['Total']['Total']\n",
    "        chi_square += (O-E)**2/E"
   ]
  },
  {
   "cell_type": "code",
   "execution_count": 39,
   "id": "c4ae4e23",
   "metadata": {},
   "outputs": [
    {
     "name": "stdout",
     "output_type": "stream",
     "text": [
      "Appraoch 1: The p-value approach to hypothesis testing in the decision rule\n",
      "chisquare-score is: 303.42106797957115  and p value is: 0.0\n",
      "Null Hypothesis is rejected.\n",
      "\n",
      "--------------------------------------------------------------------------------------\n",
      "Approach 2: The critical value approach to hypothesis testing in the decision rule\n",
      "chisquare-score is: 303.42106797957115  and critical value is: 18.307038053275146\n",
      "Null Hypothesis is rejected.\n"
     ]
    }
   ],
   "source": [
    "#Printing the results with the p-value approach \n",
    "print(\"Appraoch 1: The p-value approach to hypothesis testing in the decision rule\")\n",
    "p_value = 1 - stats.chi2.cdf(chi_square, (len(rows)-1)*(len(columns)-1))\n",
    "conclusion = \"Failed to reject the null hypothesis.\"\n",
    "if p_value <= alpha:\n",
    "    conclusion = \"Null Hypothesis is rejected.\"\n",
    "        \n",
    "print(\"chisquare-score is:\", chi_square, \" and p value is:\", p_value)\n",
    "print(conclusion)\n",
    "\n",
    "print(\"\\n--------------------------------------------------------------------------------------\")\n",
    "\n",
    "print(\"Approach 2: The critical value approach to hypothesis testing in the decision rule\")\n",
    "critical_value = stats.chi2.ppf(1-alpha, (len(rows)-1)*(len(columns)-1))\n",
    "conclusion = \"Failed to reject the null hypothesis.\"\n",
    "if chi_square > critical_value:\n",
    "    conclusion = \"Null Hypothesis is rejected.\"\n",
    "        \n",
    "print(\"chisquare-score is:\", chi_square, \" and critical value is:\", critical_value)\n",
    "print(conclusion)"
   ]
  },
  {
   "cell_type": "markdown",
   "id": "c6bc002d",
   "metadata": {},
   "source": [
    "## Simpiler chi2 Test"
   ]
  },
  {
   "cell_type": "markdown",
   "id": "21fcefc2",
   "metadata": {},
   "source": [
    "### Being a returner correlated with language - Significant"
   ]
  },
  {
   "cell_type": "code",
   "execution_count": 74,
   "id": "c2046daa",
   "metadata": {},
   "outputs": [
    {
     "data": {
      "text/plain": [
       "count     31481\n",
       "unique       11\n",
       "top          en\n",
       "freq      29697\n",
       "Name: language, dtype: object"
      ]
     },
     "execution_count": 74,
     "metadata": {},
     "output_type": "execute_result"
    }
   ],
   "source": [
    "khan_data['language'].describe()"
   ]
  },
  {
   "cell_type": "code",
   "execution_count": 63,
   "id": "8b6e88be",
   "metadata": {},
   "outputs": [
    {
     "name": "stdout",
     "output_type": "stream",
     "text": [
      "language  da  de     en   es  fr   nb  pl   pt  th  tr  zh-HANS    All\n",
      "returner                                                              \n",
      "No        19   1   9061  411  11    8  14  136   4  24        2   9691\n",
      "Yes        0   0  20636  493   0  153  24  484   0   0        0  21790\n",
      "All       19   1  29697  904  11  161  38  620   4  24        2  31481\n"
     ]
    }
   ],
   "source": [
    "chisqt = pd.crosstab(khan_data.returner, khan_data.language, margins=True)\n",
    "print(chisqt)"
   ]
  },
  {
   "cell_type": "code",
   "execution_count": 82,
   "id": "bc2af3ef",
   "metadata": {},
   "outputs": [
    {
     "name": "stdout",
     "output_type": "stream",
     "text": [
      "(303.42106797957115, 2.93988057246509e-59, 10)\n"
     ]
    }
   ],
   "source": [
    "from scipy.stats import chi2_contingency \n",
    "import numpy as np\n",
    "value = np.array([chisqt.iloc[0][0:11].values,\n",
    "                  chisqt.iloc[1][0:11].values])\n",
    "print(chi2_contingency(value)[0:3])"
   ]
  },
  {
   "cell_type": "markdown",
   "id": "c180c8d5",
   "metadata": {},
   "source": [
    "The p-value is 0.0, 303.42 is the statistical value with 4 degrees of freedom, we are able to reject the null hypothesis, thus, language and being a returner is correlated"
   ]
  },
  {
   "cell_type": "markdown",
   "id": "65260fd0",
   "metadata": {},
   "source": [
    "### Being a returner correlated with country - Significant"
   ]
  },
  {
   "cell_type": "code",
   "execution_count": 83,
   "id": "7658567e",
   "metadata": {},
   "outputs": [
    {
     "data": {
      "text/plain": [
       "count     31481\n",
       "unique       77\n",
       "top          US\n",
       "freq      21973\n",
       "Name: country, dtype: object"
      ]
     },
     "execution_count": 83,
     "metadata": {},
     "output_type": "execute_result"
    }
   ],
   "source": [
    "khan_data['country'].describe()"
   ]
  },
  {
   "cell_type": "code",
   "execution_count": 100,
   "id": "6279472a",
   "metadata": {},
   "outputs": [
    {
     "data": {
      "text/plain": [
       "US    21973\n",
       "CA     1842\n",
       "IE     1049\n",
       "GB      649\n",
       "BR      617\n",
       "      ...  \n",
       "CI        2\n",
       "GR        2\n",
       "AM        1\n",
       "MA        1\n",
       "DO        1\n",
       "Name: country, Length: 77, dtype: int64"
      ]
     },
     "execution_count": 100,
     "metadata": {},
     "output_type": "execute_result"
    }
   ],
   "source": [
    "khan_data['country'].value_counts()"
   ]
  },
  {
   "cell_type": "code",
   "execution_count": 54,
   "id": "00ce6321",
   "metadata": {},
   "outputs": [
    {
     "name": "stdout",
     "output_type": "stream",
     "text": [
      "country   AE  AM  AR  AT   AU  BD  BE   BR  BS  BY  ...  TR  TT  TW  UA  \\\n",
      "returner                                            ...                   \n",
      "No        39   1   2   4  257   2  19  156   5  12  ...  20   9  14  11   \n",
      "Yes       21   0   0   2  350  38   0  461   0   0  ...  15  13   0  16   \n",
      "All       60   1   2   6  607  40  19  617   5  12  ...  35  22  14  27   \n",
      "\n",
      "country      US  VE  VN   ZA  ZM    All  \n",
      "returner                                 \n",
      "No         7212   7   9   45  16   9691  \n",
      "Yes       14761   0   0  247   0  21790  \n",
      "All       21973   7   9  292  16  31481  \n",
      "\n",
      "[3 rows x 78 columns]\n"
     ]
    }
   ],
   "source": [
    "chisqt1 = pd.crosstab(khan_data.returner, khan_data.country, margins=True)\n",
    "print(chisqt1)"
   ]
  },
  {
   "cell_type": "code",
   "execution_count": 84,
   "id": "62edc861",
   "metadata": {},
   "outputs": [
    {
     "name": "stdout",
     "output_type": "stream",
     "text": [
      "(2794.7876150166785, 0.0, 77)\n"
     ]
    }
   ],
   "source": [
    "value = np.array([chisqt1.iloc[0][0:78].values,\n",
    "                  chisqt1.iloc[1][0:78].values])\n",
    "print(chi2_contingency(value)[0:3])"
   ]
  },
  {
   "cell_type": "markdown",
   "id": "8ab1ba80",
   "metadata": {},
   "source": [
    "The p-value is 0.00, 2794.79 is the statistical value with 4 degrees of freedom, we are able to reject the null hypothesis, thus, country of orgin and being a returner is correlated"
   ]
  },
  {
   "cell_type": "markdown",
   "id": "15aacfca",
   "metadata": {},
   "source": [
    "### Being a returner correlated with Operating System (OS)"
   ]
  },
  {
   "cell_type": "code",
   "execution_count": 85,
   "id": "1ce56726",
   "metadata": {},
   "outputs": [
    {
     "data": {
      "text/plain": [
       "count       31481\n",
       "unique         10\n",
       "top       Windows\n",
       "freq        17124\n",
       "Name: OS, dtype: object"
      ]
     },
     "execution_count": 85,
     "metadata": {},
     "output_type": "execute_result"
    }
   ],
   "source": [
    "khan_data['OS'].describe()"
   ]
  },
  {
   "cell_type": "code",
   "execution_count": 55,
   "id": "531b99a7",
   "metadata": {},
   "outputs": [
    {
     "name": "stdout",
     "output_type": "stream",
     "text": [
      "OS        Android  BlackBerry OS  Chrome OS  Linux  Mac OS X  Other  Ubuntu  \\\n",
      "returner                                                                      \n",
      "No            449              3       1360     98      1795      7      27   \n",
      "Yes          1055              0       2379     82      3710      0     412   \n",
      "All          1504              3       3739    180      5505      7     439   \n",
      "\n",
      "OS        Windows  Windows Phone   iOS    All  \n",
      "returner                                       \n",
      "No           5008              0   944   9691  \n",
      "Yes         12116             14  2022  21790  \n",
      "All         17124             14  2966  31481  \n"
     ]
    }
   ],
   "source": [
    "chisqt2 = pd.crosstab(khan_data.returner, khan_data.OS, margins=True)\n",
    "print(chisqt2)"
   ]
  },
  {
   "cell_type": "code",
   "execution_count": 86,
   "id": "bd816f09",
   "metadata": {},
   "outputs": [
    {
     "name": "stdout",
     "output_type": "stream",
     "text": [
      "(285.58133175648203, 1.7283849214667232e-55, 10)\n"
     ]
    }
   ],
   "source": [
    "value = np.array([chisqt2.iloc[0][0:11].values,\n",
    "                  chisqt2.iloc[1][0:11].values])\n",
    "print(chi2_contingency(value)[0:3])"
   ]
  },
  {
   "cell_type": "markdown",
   "id": "bbb81fe6",
   "metadata": {},
   "source": [
    "The p-value is 1.73, 285.58 is the statistical value with 4 degrees of freedom, we are unable to reject the null hypothesis, thus, Operating System(OS) and being a returner is not correlated"
   ]
  },
  {
   "cell_type": "markdown",
   "id": "ba601767",
   "metadata": {},
   "source": [
    "### Being a returner correlated with using Khan Academy App"
   ]
  },
  {
   "cell_type": "code",
   "execution_count": 57,
   "id": "02437366",
   "metadata": {},
   "outputs": [
    {
     "name": "stdout",
     "output_type": "stream",
     "text": [
      "KA_app_flag  False  True    All\n",
      "returner                       \n",
      "No            9498   193   9691\n",
      "Yes          21387   403  21790\n",
      "All          30885   596  31481\n"
     ]
    }
   ],
   "source": [
    "chisqt3 = pd.crosstab(khan_data.returner, khan_data.KA_app_flag, margins=True)\n",
    "print(chisqt3)"
   ]
  },
  {
   "cell_type": "code",
   "execution_count": 90,
   "id": "43a67945",
   "metadata": {},
   "outputs": [
    {
     "name": "stdout",
     "output_type": "stream",
     "text": [
      "(0.7288911104843107, 0.6945816512928396, 2)\n"
     ]
    }
   ],
   "source": [
    "value = np.array([chisqt3.iloc[0][0:4].values,\n",
    "                  chisqt3.iloc[1][0:4].values])\n",
    "print(chi2_contingency(value)[0:3])"
   ]
  },
  {
   "cell_type": "markdown",
   "id": "4f51abd0",
   "metadata": {},
   "source": [
    "The p-value is 0.69, 0.73 is the statistical value with 2 degrees of freedom, we are unable to reject the null hypothesis, thus, using the Khan Academy app and being a returner is not correlated"
   ]
  },
  {
   "cell_type": "markdown",
   "id": "f8f16d5d",
   "metadata": {},
   "source": [
    "### Being a returner correlated with device used"
   ]
  },
  {
   "cell_type": "code",
   "execution_count": 59,
   "id": "b86c2255",
   "metadata": {},
   "outputs": [
    {
     "name": "stdout",
     "output_type": "stream",
     "text": [
      "device_type  desktop  phone  tablet  unknown/other    All\n",
      "returner                                                 \n",
      "No              8263    724     697              7   9691\n",
      "Yes            18622   1148    2020              0  21790\n",
      "All            26885   1872    2717              7  31481\n"
     ]
    }
   ],
   "source": [
    "chisqt4 = pd.crosstab(khan_data.returner, khan_data.device_type, margins=True)\n",
    "print(chisqt4)"
   ]
  },
  {
   "cell_type": "code",
   "execution_count": 88,
   "id": "ec8199e8",
   "metadata": {},
   "outputs": [
    {
     "name": "stdout",
     "output_type": "stream",
     "text": [
      "(104.04690298413593, 1.3519794225204459e-21, 4)\n"
     ]
    }
   ],
   "source": [
    "value = np.array([chisqt4.iloc[0][0:6].values,\n",
    "                  chisqt4.iloc[1][0:6].values])\n",
    "print(chi2_contingency(value)[0:3])"
   ]
  },
  {
   "cell_type": "markdown",
   "id": "954c2ac6",
   "metadata": {},
   "source": [
    "The p-value is 1.35, 104.05 is the statistical value with 4 degrees of freedom, we are unable to reject the null hypothesis, thus, device type and being a returner is not correlated"
   ]
  },
  {
   "cell_type": "markdown",
   "id": "6748961e",
   "metadata": {},
   "source": [
    "### Being a returner correlated with being a registered user on Khan Academy - Significant"
   ]
  },
  {
   "cell_type": "code",
   "execution_count": 61,
   "id": "919bb3fb",
   "metadata": {},
   "outputs": [
    {
     "name": "stdout",
     "output_type": "stream",
     "text": [
      "user_registered_flag  False   True    All\n",
      "returner                                 \n",
      "No                     3262   6429   9691\n",
      "Yes                    2079  19711  21790\n",
      "All                    5341  26140  31481\n"
     ]
    }
   ],
   "source": [
    "chisqt5 = pd.crosstab(khan_data.returner, khan_data.user_registered_flag, margins=True)\n",
    "print(chisqt5)"
   ]
  },
  {
   "cell_type": "code",
   "execution_count": 89,
   "id": "ba9ffa61",
   "metadata": {},
   "outputs": [
    {
     "name": "stdout",
     "output_type": "stream",
     "text": [
      "(2769.909687905716, 0.0, 2)\n"
     ]
    }
   ],
   "source": [
    "value = np.array([chisqt5.iloc[0][0:4].values,\n",
    "                  chisqt5.iloc[1][0:4].values])\n",
    "print(chi2_contingency(value)[0:3])"
   ]
  },
  {
   "cell_type": "markdown",
   "id": "541b1699",
   "metadata": {},
   "source": [
    "The p-value is 0.0, 2769.91 is the statistical value with 2 degrees of freedom, we are able to reject the null hypothesis, thus, being a registered user and being a returner is correlated"
   ]
  },
  {
   "cell_type": "markdown",
   "id": "45862eb2",
   "metadata": {},
   "source": [
    "### Significantly correlated variables are language, country, and being a registered user on Khan Academy "
   ]
  },
  {
   "cell_type": "markdown",
   "id": "fcc2751f",
   "metadata": {},
   "source": [
    "## One sided ANOVA on Significant Variables - Finding specific increase for each feature/value"
   ]
  },
  {
   "cell_type": "markdown",
   "id": "9940dade",
   "metadata": {},
   "source": [
    "### ANOVA Languaged watched"
   ]
  },
  {
   "cell_type": "code",
   "execution_count": 95,
   "id": "523123ef",
   "metadata": {
    "scrolled": true
   },
   "outputs": [
    {
     "data": {
      "text/html": [
       "<div>\n",
       "<style scoped>\n",
       "    .dataframe tbody tr th:only-of-type {\n",
       "        vertical-align: middle;\n",
       "    }\n",
       "\n",
       "    .dataframe tbody tr th {\n",
       "        vertical-align: top;\n",
       "    }\n",
       "\n",
       "    .dataframe thead th {\n",
       "        text-align: right;\n",
       "    }\n",
       "</style>\n",
       "<table border=\"1\" class=\"dataframe\">\n",
       "  <thead>\n",
       "    <tr style=\"text-align: right;\">\n",
       "      <th></th>\n",
       "      <th>timestamp</th>\n",
       "      <th>user_id</th>\n",
       "      <th>session_id</th>\n",
       "      <th>country</th>\n",
       "      <th>language</th>\n",
       "      <th>user_registered_flag</th>\n",
       "      <th>device_type</th>\n",
       "      <th>KA_app_flag</th>\n",
       "      <th>OS</th>\n",
       "      <th>URI</th>\n",
       "      <th>conversion</th>\n",
       "      <th>returned_user</th>\n",
       "      <th>returner</th>\n",
       "      <th>lang_filter</th>\n",
       "      <th>lang_encode</th>\n",
       "    </tr>\n",
       "  </thead>\n",
       "  <tbody>\n",
       "    <tr>\n",
       "      <th>0</th>\n",
       "      <td>2016-02-18 18:05:34.408245 UTC</td>\n",
       "      <td>461023995001001</td>\n",
       "      <td>7269247775762971847</td>\n",
       "      <td>US</td>\n",
       "      <td>en</td>\n",
       "      <td>True</td>\n",
       "      <td>desktop</td>\n",
       "      <td>False</td>\n",
       "      <td>Windows</td>\n",
       "      <td>NaN</td>\n",
       "      <td>login</td>\n",
       "      <td>1</td>\n",
       "      <td>Yes</td>\n",
       "      <td>eng</td>\n",
       "      <td>1</td>\n",
       "    </tr>\n",
       "    <tr>\n",
       "      <th>1</th>\n",
       "      <td>2016-02-18 18:05:35.156166 UTC</td>\n",
       "      <td>461023995001001</td>\n",
       "      <td>7269247775762971847</td>\n",
       "      <td>US</td>\n",
       "      <td>en</td>\n",
       "      <td>True</td>\n",
       "      <td>desktop</td>\n",
       "      <td>False</td>\n",
       "      <td>Windows</td>\n",
       "      <td>NaN</td>\n",
       "      <td>homepage_view</td>\n",
       "      <td>1</td>\n",
       "      <td>Yes</td>\n",
       "      <td>eng</td>\n",
       "      <td>1</td>\n",
       "    </tr>\n",
       "    <tr>\n",
       "      <th>2</th>\n",
       "      <td>2016-02-18 18:05:44.033396 UTC</td>\n",
       "      <td>461023995001001</td>\n",
       "      <td>7269247775762971847</td>\n",
       "      <td>US</td>\n",
       "      <td>en</td>\n",
       "      <td>True</td>\n",
       "      <td>desktop</td>\n",
       "      <td>False</td>\n",
       "      <td>Windows</td>\n",
       "      <td>\"/welcome\"</td>\n",
       "      <td>pageview</td>\n",
       "      <td>1</td>\n",
       "      <td>Yes</td>\n",
       "      <td>eng</td>\n",
       "      <td>1</td>\n",
       "    </tr>\n",
       "    <tr>\n",
       "      <th>3</th>\n",
       "      <td>2016-02-18 18:06:39.681943 UTC</td>\n",
       "      <td>461023995001001</td>\n",
       "      <td>7269247775762971847</td>\n",
       "      <td>US</td>\n",
       "      <td>en</td>\n",
       "      <td>True</td>\n",
       "      <td>desktop</td>\n",
       "      <td>False</td>\n",
       "      <td>Windows</td>\n",
       "      <td>\"/math/cc-third-grade-math\"</td>\n",
       "      <td>pageview</td>\n",
       "      <td>1</td>\n",
       "      <td>Yes</td>\n",
       "      <td>eng</td>\n",
       "      <td>1</td>\n",
       "    </tr>\n",
       "    <tr>\n",
       "      <th>4</th>\n",
       "      <td>2016-02-18 18:06:55.040427 UTC</td>\n",
       "      <td>461023995001001</td>\n",
       "      <td>7269247775762971847</td>\n",
       "      <td>US</td>\n",
       "      <td>en</td>\n",
       "      <td>True</td>\n",
       "      <td>desktop</td>\n",
       "      <td>False</td>\n",
       "      <td>Windows</td>\n",
       "      <td>\"/mission/cc-third-grade-math\"</td>\n",
       "      <td>pageview</td>\n",
       "      <td>1</td>\n",
       "      <td>Yes</td>\n",
       "      <td>eng</td>\n",
       "      <td>1</td>\n",
       "    </tr>\n",
       "  </tbody>\n",
       "</table>\n",
       "</div>"
      ],
      "text/plain": [
       "                        timestamp          user_id           session_id  \\\n",
       "0  2016-02-18 18:05:34.408245 UTC  461023995001001  7269247775762971847   \n",
       "1  2016-02-18 18:05:35.156166 UTC  461023995001001  7269247775762971847   \n",
       "2  2016-02-18 18:05:44.033396 UTC  461023995001001  7269247775762971847   \n",
       "3  2016-02-18 18:06:39.681943 UTC  461023995001001  7269247775762971847   \n",
       "4  2016-02-18 18:06:55.040427 UTC  461023995001001  7269247775762971847   \n",
       "\n",
       "  country language  user_registered_flag device_type  KA_app_flag       OS  \\\n",
       "0      US       en                  True     desktop        False  Windows   \n",
       "1      US       en                  True     desktop        False  Windows   \n",
       "2      US       en                  True     desktop        False  Windows   \n",
       "3      US       en                  True     desktop        False  Windows   \n",
       "4      US       en                  True     desktop        False  Windows   \n",
       "\n",
       "                              URI     conversion  returned_user returner  \\\n",
       "0                             NaN          login              1      Yes   \n",
       "1                             NaN  homepage_view              1      Yes   \n",
       "2                      \"/welcome\"       pageview              1      Yes   \n",
       "3     \"/math/cc-third-grade-math\"       pageview              1      Yes   \n",
       "4  \"/mission/cc-third-grade-math\"       pageview              1      Yes   \n",
       "\n",
       "  lang_filter  lang_encode  \n",
       "0         eng            1  \n",
       "1         eng            1  \n",
       "2         eng            1  \n",
       "3         eng            1  \n",
       "4         eng            1  "
      ]
     },
     "execution_count": 95,
     "metadata": {},
     "output_type": "execute_result"
    }
   ],
   "source": [
    "# Make 2 new column that has 2 variables from language: engl & other, (1,0)\n",
    "\n",
    "khan_data['lang_filter'] = np.where(khan_data['language'] == \"en\", 'eng', 'other')\n",
    "khan_data['lang_encode'] = np.where(khan_data['language'].str.contains('en'),1,0)\n",
    "\n",
    "khan_data.head(5)\n"
   ]
  },
  {
   "cell_type": "code",
   "execution_count": 115,
   "id": "dc25c65e",
   "metadata": {},
   "outputs": [
    {
     "data": {
      "text/plain": [
       "F_onewayResult(statistic=389.0381747421554, pvalue=4.443156154653244e-86)"
      ]
     },
     "execution_count": 115,
     "metadata": {},
     "output_type": "execute_result"
    }
   ],
   "source": [
    "# ANOVA using SCIPY.STATS\n",
    "import scipy.stats as stats\n",
    "\n",
    "stats.f_oneway(khan_data['returned_user'][khan_data['lang_filter'] == 'eng'],\n",
    "               khan_data['returned_user'][khan_data['lang_filter'] == 'other'])"
   ]
  },
  {
   "cell_type": "code",
   "execution_count": 106,
   "id": "3414b108",
   "metadata": {},
   "outputs": [],
   "source": [
    "# Anova test for Language based on lang_filter column Using STATSMODELS\n",
    "import statsmodels.api as sm\n",
    "from statsmodels.formula.api import ols"
   ]
  },
  {
   "cell_type": "code",
   "execution_count": 109,
   "id": "b9ad5013",
   "metadata": {},
   "outputs": [
    {
     "data": {
      "text/html": [
       "<div>\n",
       "<style scoped>\n",
       "    .dataframe tbody tr th:only-of-type {\n",
       "        vertical-align: middle;\n",
       "    }\n",
       "\n",
       "    .dataframe tbody tr th {\n",
       "        vertical-align: top;\n",
       "    }\n",
       "\n",
       "    .dataframe thead th {\n",
       "        text-align: right;\n",
       "    }\n",
       "</style>\n",
       "<table border=\"1\" class=\"dataframe\">\n",
       "  <thead>\n",
       "    <tr style=\"text-align: right;\">\n",
       "      <th></th>\n",
       "      <th>sum_sq</th>\n",
       "      <th>df</th>\n",
       "      <th>F</th>\n",
       "      <th>PR(&gt;F)</th>\n",
       "    </tr>\n",
       "  </thead>\n",
       "  <tbody>\n",
       "    <tr>\n",
       "      <th>C(lang_filter)</th>\n",
       "      <td>3444.947169</td>\n",
       "      <td>1.0</td>\n",
       "      <td>389.038175</td>\n",
       "      <td>4.443156e-86</td>\n",
       "    </tr>\n",
       "    <tr>\n",
       "      <th>Residual</th>\n",
       "      <td>278747.688453</td>\n",
       "      <td>31479.0</td>\n",
       "      <td>NaN</td>\n",
       "      <td>NaN</td>\n",
       "    </tr>\n",
       "  </tbody>\n",
       "</table>\n",
       "</div>"
      ],
      "text/plain": [
       "                       sum_sq       df           F        PR(>F)\n",
       "C(lang_filter)    3444.947169      1.0  389.038175  4.443156e-86\n",
       "Residual        278747.688453  31479.0         NaN           NaN"
      ]
     },
     "execution_count": 109,
     "metadata": {},
     "output_type": "execute_result"
    }
   ],
   "source": [
    "# Set model\n",
    "\n",
    "model = ols('returned_user ~ C(lang_filter)', data=khan_data).fit()\n",
    "aov_table = sm.stats.anova_lm(model, typ=2)\n",
    "aov_table"
   ]
  },
  {
   "cell_type": "code",
   "execution_count": 110,
   "id": "b1ab71ac",
   "metadata": {},
   "outputs": [
    {
     "data": {
      "text/html": [
       "<div>\n",
       "<style scoped>\n",
       "    .dataframe tbody tr th:only-of-type {\n",
       "        vertical-align: middle;\n",
       "    }\n",
       "\n",
       "    .dataframe tbody tr th {\n",
       "        vertical-align: top;\n",
       "    }\n",
       "\n",
       "    .dataframe thead th {\n",
       "        text-align: right;\n",
       "    }\n",
       "</style>\n",
       "<table border=\"1\" class=\"dataframe\">\n",
       "  <thead>\n",
       "    <tr style=\"text-align: right;\">\n",
       "      <th></th>\n",
       "      <th>sum_sq</th>\n",
       "      <th>df</th>\n",
       "      <th>mean_sq</th>\n",
       "      <th>F</th>\n",
       "      <th>PR(&gt;F)</th>\n",
       "      <th>eta_sq</th>\n",
       "      <th>omega_sq</th>\n",
       "    </tr>\n",
       "  </thead>\n",
       "  <tbody>\n",
       "    <tr>\n",
       "      <th>C(lang_filter)</th>\n",
       "      <td>3444.947169</td>\n",
       "      <td>1.0</td>\n",
       "      <td>3444.947169</td>\n",
       "      <td>389.038175</td>\n",
       "      <td>4.443156e-86</td>\n",
       "      <td>0.012208</td>\n",
       "      <td>0.012176</td>\n",
       "    </tr>\n",
       "    <tr>\n",
       "      <th>Residual</th>\n",
       "      <td>278747.688453</td>\n",
       "      <td>31479.0</td>\n",
       "      <td>8.855036</td>\n",
       "      <td>NaN</td>\n",
       "      <td>NaN</td>\n",
       "      <td>NaN</td>\n",
       "      <td>NaN</td>\n",
       "    </tr>\n",
       "  </tbody>\n",
       "</table>\n",
       "</div>"
      ],
      "text/plain": [
       "                       sum_sq       df      mean_sq           F        PR(>F)  \\\n",
       "C(lang_filter)    3444.947169      1.0  3444.947169  389.038175  4.443156e-86   \n",
       "Residual        278747.688453  31479.0     8.855036         NaN           NaN   \n",
       "\n",
       "                  eta_sq  omega_sq  \n",
       "C(lang_filter)  0.012208  0.012176  \n",
       "Residual             NaN       NaN  "
      ]
     },
     "execution_count": 110,
     "metadata": {},
     "output_type": "execute_result"
    }
   ],
   "source": [
    "# Create table to interpret the model\n",
    "def anova_table(aov):\n",
    "    aov['mean_sq'] = aov[:]['sum_sq']/aov[:]['df']\n",
    "\n",
    "    aov['eta_sq'] = aov[:-1]['sum_sq']/sum(aov['sum_sq'])\n",
    "\n",
    "    aov['omega_sq'] = (aov[:-1]['sum_sq']-(aov[:-1]['df']*aov['mean_sq'][-1]))/(sum(aov['sum_sq'])+aov['mean_sq'][-1])\n",
    "\n",
    "    cols = ['sum_sq', 'df', 'mean_sq', 'F', 'PR(>F)', 'eta_sq', 'omega_sq']\n",
    "    aov = aov[cols]\n",
    "    return aov\n",
    "\n",
    "anova_table(aov_table)"
   ]
  },
  {
   "cell_type": "code",
   "execution_count": 111,
   "id": "1e3648d6",
   "metadata": {},
   "outputs": [
    {
     "name": "stderr",
     "output_type": "stream",
     "text": [
      "/Users/nicholasmai/opt/anaconda3/lib/python3.9/site-packages/scipy/stats/morestats.py:1760: UserWarning: p-value may not be accurate for N > 5000.\n",
      "  warnings.warn(\"p-value may not be accurate for N > 5000.\")\n"
     ]
    },
    {
     "data": {
      "text/plain": [
       "ShapiroResult(statistic=0.7649711966514587, pvalue=0.0)"
      ]
     },
     "execution_count": 111,
     "metadata": {},
     "output_type": "execute_result"
    }
   ],
   "source": [
    "# Assumption check that the data has normality - Shapiro test may not be the best test because data \n",
    "# is distributed over time, also sample seems to be too large (see warning) \n",
    "\n",
    "import scipy.stats as stats\n",
    "\n",
    "stats.shapiro(model.resid)"
   ]
  },
  {
   "cell_type": "code",
   "execution_count": 112,
   "id": "1cb9a7a1",
   "metadata": {},
   "outputs": [
    {
     "data": {
      "image/png": "[encoded data removed]",
      "text/plain": [
       "<Figure size 720x720 with 1 Axes>"
      ]
     },
     "metadata": {
      "needs_background": "light"
     },
     "output_type": "display_data"
    }
   ],
   "source": [
    "import matplotlib.pyplot as plt\n",
    "\n",
    "fig = plt.figure(figsize= (10, 10))\n",
    "ax = fig.add_subplot(111)\n",
    "\n",
    "normality_plot, stat = stats.probplot(model.resid, plot= plt, rvalue= True)\n",
    "ax.set_title(\"Probability plot of model residual's\", fontsize= 20)\n",
    "ax.set\n",
    "\n",
    "plt.show()"
   ]
  },
  {
   "cell_type": "code",
   "execution_count": 113,
   "id": "efb3b430",
   "metadata": {},
   "outputs": [
    {
     "data": {
      "text/plain": [
       "LeveneResult(statistic=440.7942888264609, pvalue=3.377216582910751e-97)"
      ]
     },
     "execution_count": 113,
     "metadata": {},
     "output_type": "execute_result"
    }
   ],
   "source": [
    "# Assumption check 2: Homogeneity of variance, does each group have equal variances\n",
    "stats.levene(khan_data['returned_user'][khan_data['lang_filter'] == 'eng'],\n",
    "             khan_data['returned_user'][khan_data['lang_filter'] == 'other'])\n",
    "\n"
   ]
  },
  {
   "cell_type": "code",
   "execution_count": 114,
   "id": "be078ecd",
   "metadata": {},
   "outputs": [
    {
     "data": {
      "image/png": "[encoded data removed]",
      "text/plain": [
       "<Figure size 720x720 with 1 Axes>"
      ]
     },
     "metadata": {
      "needs_background": "light"
     },
     "output_type": "display_data"
    }
   ],
   "source": [
    "fig = plt.figure(figsize= (10, 10))\n",
    "ax = fig.add_subplot(111)\n",
    "\n",
    "ax.set_title(\"Box Plot of Return User by Language\", fontsize= 20)\n",
    "ax.set\n",
    "\n",
    "data = [khan_data['returned_user'][khan_data['lang_filter'] == 'eng'],\n",
    "             khan_data['returned_user'][khan_data['lang_filter'] == 'other']]\n",
    "\n",
    "ax.boxplot(data,\n",
    "           labels= ['eng', 'other'],\n",
    "           showmeans= True)\n",
    "\n",
    "plt.xlabel(\"In English\")\n",
    "plt.ylabel(\"Return User\")\n",
    "\n",
    "plt.show()"
   ]
  },
  {
   "cell_type": "code",
   "execution_count": 133,
   "id": "a0833b15",
   "metadata": {},
   "outputs": [],
   "source": [
    "# Redeo analysis with n=2000, randomly selected 2000 rows in new data frame (df)\n",
    "df = pd.DataFrame(khan_data, columns=['user_id',\n",
    "                                      'returned_user',\n",
    "                                      'returner','lang_filter',\n",
    "                                      'lang_encode', \n",
    "                                      'country_filter',\n",
    "                                      'country_encode', \n",
    "                                      'user_registered_flag',\n",
    "                                      'registered_user'])"
   ]
  },
  {
   "cell_type": "code",
   "execution_count": 138,
   "id": "f1a3dcb5",
   "metadata": {},
   "outputs": [],
   "source": [
    "df = df.sample(n=2000)"
   ]
  },
  {
   "cell_type": "code",
   "execution_count": 140,
   "id": "5f021939",
   "metadata": {},
   "outputs": [
    {
     "name": "stdout",
     "output_type": "stream",
     "text": [
      "<class 'pandas.core.frame.DataFrame'>\n",
      "Int64Index: 2000 entries, 4229 to 23699\n",
      "Data columns (total 9 columns):\n",
      " #   Column                Non-Null Count  Dtype \n",
      "---  ------                --------------  ----- \n",
      " 0   user_id               2000 non-null   int64 \n",
      " 1   returned_user         2000 non-null   int64 \n",
      " 2   returner              2000 non-null   object\n",
      " 3   lang_filter           2000 non-null   object\n",
      " 4   lang_encode           2000 non-null   int64 \n",
      " 5   country_filter        2000 non-null   object\n",
      " 6   country_encode        2000 non-null   int64 \n",
      " 7   user_registered_flag  2000 non-null   bool  \n",
      " 8   registered_user       2000 non-null   int64 \n",
      "dtypes: bool(1), int64(5), object(3)\n",
      "memory usage: 142.6+ KB\n"
     ]
    },
    {
     "data": {
      "text/html": [
       "<div>\n",
       "<style scoped>\n",
       "    .dataframe tbody tr th:only-of-type {\n",
       "        vertical-align: middle;\n",
       "    }\n",
       "\n",
       "    .dataframe tbody tr th {\n",
       "        vertical-align: top;\n",
       "    }\n",
       "\n",
       "    .dataframe thead th {\n",
       "        text-align: right;\n",
       "    }\n",
       "</style>\n",
       "<table border=\"1\" class=\"dataframe\">\n",
       "  <thead>\n",
       "    <tr style=\"text-align: right;\">\n",
       "      <th></th>\n",
       "      <th>user_id</th>\n",
       "      <th>returned_user</th>\n",
       "      <th>returner</th>\n",
       "      <th>lang_filter</th>\n",
       "      <th>lang_encode</th>\n",
       "      <th>country_filter</th>\n",
       "      <th>country_encode</th>\n",
       "      <th>user_registered_flag</th>\n",
       "      <th>registered_user</th>\n",
       "    </tr>\n",
       "  </thead>\n",
       "  <tbody>\n",
       "    <tr>\n",
       "      <th>4229</th>\n",
       "      <td>1305618049999078001</td>\n",
       "      <td>2</td>\n",
       "      <td>Yes</td>\n",
       "      <td>eng</td>\n",
       "      <td>1</td>\n",
       "      <td>other</td>\n",
       "      <td>0</td>\n",
       "      <td>True</td>\n",
       "      <td>1</td>\n",
       "    </tr>\n",
       "    <tr>\n",
       "      <th>2592</th>\n",
       "      <td>780040238317029001</td>\n",
       "      <td>4</td>\n",
       "      <td>Yes</td>\n",
       "      <td>eng</td>\n",
       "      <td>1</td>\n",
       "      <td>USA</td>\n",
       "      <td>1</td>\n",
       "      <td>True</td>\n",
       "      <td>1</td>\n",
       "    </tr>\n",
       "    <tr>\n",
       "      <th>29444</th>\n",
       "      <td>8707542974417399001</td>\n",
       "      <td>0</td>\n",
       "      <td>No</td>\n",
       "      <td>eng</td>\n",
       "      <td>1</td>\n",
       "      <td>USA</td>\n",
       "      <td>1</td>\n",
       "      <td>True</td>\n",
       "      <td>1</td>\n",
       "    </tr>\n",
       "    <tr>\n",
       "      <th>11490</th>\n",
       "      <td>3423849276838252001</td>\n",
       "      <td>2</td>\n",
       "      <td>Yes</td>\n",
       "      <td>eng</td>\n",
       "      <td>1</td>\n",
       "      <td>other</td>\n",
       "      <td>0</td>\n",
       "      <td>True</td>\n",
       "      <td>1</td>\n",
       "    </tr>\n",
       "    <tr>\n",
       "      <th>6721</th>\n",
       "      <td>1986362364688284001</td>\n",
       "      <td>1</td>\n",
       "      <td>Yes</td>\n",
       "      <td>eng</td>\n",
       "      <td>1</td>\n",
       "      <td>USA</td>\n",
       "      <td>1</td>\n",
       "      <td>False</td>\n",
       "      <td>0</td>\n",
       "    </tr>\n",
       "  </tbody>\n",
       "</table>\n",
       "</div>"
      ],
      "text/plain": [
       "                   user_id  returned_user returner lang_filter  lang_encode  \\\n",
       "4229   1305618049999078001              2      Yes         eng            1   \n",
       "2592    780040238317029001              4      Yes         eng            1   \n",
       "29444  8707542974417399001              0       No         eng            1   \n",
       "11490  3423849276838252001              2      Yes         eng            1   \n",
       "6721   1986362364688284001              1      Yes         eng            1   \n",
       "\n",
       "      country_filter  country_encode  user_registered_flag  registered_user  \n",
       "4229           other               0                  True                1  \n",
       "2592             USA               1                  True                1  \n",
       "29444            USA               1                  True                1  \n",
       "11490          other               0                  True                1  \n",
       "6721             USA               1                 False                0  "
      ]
     },
     "execution_count": 140,
     "metadata": {},
     "output_type": "execute_result"
    }
   ],
   "source": [
    "df.info()\n",
    "df.head(5)"
   ]
  },
  {
   "cell_type": "code",
   "execution_count": 141,
   "id": "b722a48c",
   "metadata": {},
   "outputs": [
    {
     "data": {
      "text/plain": [
       "F_onewayResult(statistic=23.722386304291266, pvalue=1.2002800035487185e-06)"
      ]
     },
     "execution_count": 141,
     "metadata": {},
     "output_type": "execute_result"
    }
   ],
   "source": [
    "stats.f_oneway(df['returned_user'][df['lang_filter'] == 'eng'],\n",
    "               df['returned_user'][df['lang_filter'] == 'other'])"
   ]
  },
  {
   "cell_type": "code",
   "execution_count": 144,
   "id": "feb63e6a",
   "metadata": {},
   "outputs": [
    {
     "data": {
      "text/html": [
       "<div>\n",
       "<style scoped>\n",
       "    .dataframe tbody tr th:only-of-type {\n",
       "        vertical-align: middle;\n",
       "    }\n",
       "\n",
       "    .dataframe tbody tr th {\n",
       "        vertical-align: top;\n",
       "    }\n",
       "\n",
       "    .dataframe thead th {\n",
       "        text-align: right;\n",
       "    }\n",
       "</style>\n",
       "<table border=\"1\" class=\"dataframe\">\n",
       "  <thead>\n",
       "    <tr style=\"text-align: right;\">\n",
       "      <th></th>\n",
       "      <th>sum_sq</th>\n",
       "      <th>df</th>\n",
       "      <th>F</th>\n",
       "      <th>PR(&gt;F)</th>\n",
       "    </tr>\n",
       "  </thead>\n",
       "  <tbody>\n",
       "    <tr>\n",
       "      <th>C(country_filter)</th>\n",
       "      <td>8805.864584</td>\n",
       "      <td>1.0</td>\n",
       "      <td>1013.94742</td>\n",
       "      <td>5.024738e-219</td>\n",
       "    </tr>\n",
       "    <tr>\n",
       "      <th>Residual</th>\n",
       "      <td>273386.771038</td>\n",
       "      <td>31479.0</td>\n",
       "      <td>NaN</td>\n",
       "      <td>NaN</td>\n",
       "    </tr>\n",
       "  </tbody>\n",
       "</table>\n",
       "</div>"
      ],
      "text/plain": [
       "                          sum_sq       df           F         PR(>F)\n",
       "C(country_filter)    8805.864584      1.0  1013.94742  5.024738e-219\n",
       "Residual           273386.771038  31479.0         NaN            NaN"
      ]
     },
     "execution_count": 144,
     "metadata": {},
     "output_type": "execute_result"
    }
   ],
   "source": [
    "model3 = ols('returned_user ~ C(lang_filter)', data=df).fit()\n",
    "aov_table = sm.stats.anova_lm(model, typ=2)\n",
    "aov_table"
   ]
  },
  {
   "cell_type": "code",
   "execution_count": 145,
   "id": "f7e3c8a7",
   "metadata": {},
   "outputs": [
    {
     "data": {
      "text/plain": [
       "ShapiroResult(statistic=0.7639626860618591, pvalue=0.0)"
      ]
     },
     "execution_count": 145,
     "metadata": {},
     "output_type": "execute_result"
    }
   ],
   "source": [
    "stats.shapiro(model3.resid)"
   ]
  },
  {
   "cell_type": "code",
   "execution_count": 146,
   "id": "063abdc7",
   "metadata": {},
   "outputs": [
    {
     "data": {
      "image/png": "[encoded data removed]",
      "text/plain": [
       "<Figure size 720x720 with 1 Axes>"
      ]
     },
     "metadata": {
      "needs_background": "light"
     },
     "output_type": "display_data"
    }
   ],
   "source": [
    "fig = plt.figure(figsize= (10, 10))\n",
    "ax = fig.add_subplot(111)\n",
    "\n",
    "normality_plot, stat = stats.probplot(model3.resid, plot= plt, rvalue= True)\n",
    "ax.set_title(\"Probability plot of model residual's\", fontsize= 20)\n",
    "ax.set\n",
    "\n",
    "plt.show()"
   ]
  },
  {
   "cell_type": "code",
   "execution_count": null,
   "id": "6e0ebde2",
   "metadata": {},
   "outputs": [],
   "source": []
  },
  {
   "cell_type": "code",
   "execution_count": null,
   "id": "8b71b4f1",
   "metadata": {},
   "outputs": [],
   "source": []
  },
  {
   "cell_type": "markdown",
   "id": "765ed9c6",
   "metadata": {},
   "source": [
    "### ANOVA Country orgin"
   ]
  },
  {
   "cell_type": "code",
   "execution_count": 101,
   "id": "3aff356d",
   "metadata": {},
   "outputs": [
    {
     "data": {
      "text/html": [
       "<div>\n",
       "<style scoped>\n",
       "    .dataframe tbody tr th:only-of-type {\n",
       "        vertical-align: middle;\n",
       "    }\n",
       "\n",
       "    .dataframe tbody tr th {\n",
       "        vertical-align: top;\n",
       "    }\n",
       "\n",
       "    .dataframe thead th {\n",
       "        text-align: right;\n",
       "    }\n",
       "</style>\n",
       "<table border=\"1\" class=\"dataframe\">\n",
       "  <thead>\n",
       "    <tr style=\"text-align: right;\">\n",
       "      <th></th>\n",
       "      <th>timestamp</th>\n",
       "      <th>user_id</th>\n",
       "      <th>session_id</th>\n",
       "      <th>country</th>\n",
       "      <th>language</th>\n",
       "      <th>user_registered_flag</th>\n",
       "      <th>device_type</th>\n",
       "      <th>KA_app_flag</th>\n",
       "      <th>OS</th>\n",
       "      <th>URI</th>\n",
       "      <th>conversion</th>\n",
       "      <th>returned_user</th>\n",
       "      <th>returner</th>\n",
       "      <th>lang_filter</th>\n",
       "      <th>lang_encode</th>\n",
       "      <th>country_filter</th>\n",
       "      <th>country_encode</th>\n",
       "    </tr>\n",
       "  </thead>\n",
       "  <tbody>\n",
       "    <tr>\n",
       "      <th>0</th>\n",
       "      <td>2016-02-18 18:05:34.408245 UTC</td>\n",
       "      <td>461023995001001</td>\n",
       "      <td>7269247775762971847</td>\n",
       "      <td>US</td>\n",
       "      <td>en</td>\n",
       "      <td>True</td>\n",
       "      <td>desktop</td>\n",
       "      <td>False</td>\n",
       "      <td>Windows</td>\n",
       "      <td>NaN</td>\n",
       "      <td>login</td>\n",
       "      <td>1</td>\n",
       "      <td>Yes</td>\n",
       "      <td>eng</td>\n",
       "      <td>1</td>\n",
       "      <td>USA</td>\n",
       "      <td>1</td>\n",
       "    </tr>\n",
       "    <tr>\n",
       "      <th>1</th>\n",
       "      <td>2016-02-18 18:05:35.156166 UTC</td>\n",
       "      <td>461023995001001</td>\n",
       "      <td>7269247775762971847</td>\n",
       "      <td>US</td>\n",
       "      <td>en</td>\n",
       "      <td>True</td>\n",
       "      <td>desktop</td>\n",
       "      <td>False</td>\n",
       "      <td>Windows</td>\n",
       "      <td>NaN</td>\n",
       "      <td>homepage_view</td>\n",
       "      <td>1</td>\n",
       "      <td>Yes</td>\n",
       "      <td>eng</td>\n",
       "      <td>1</td>\n",
       "      <td>USA</td>\n",
       "      <td>1</td>\n",
       "    </tr>\n",
       "    <tr>\n",
       "      <th>2</th>\n",
       "      <td>2016-02-18 18:05:44.033396 UTC</td>\n",
       "      <td>461023995001001</td>\n",
       "      <td>7269247775762971847</td>\n",
       "      <td>US</td>\n",
       "      <td>en</td>\n",
       "      <td>True</td>\n",
       "      <td>desktop</td>\n",
       "      <td>False</td>\n",
       "      <td>Windows</td>\n",
       "      <td>\"/welcome\"</td>\n",
       "      <td>pageview</td>\n",
       "      <td>1</td>\n",
       "      <td>Yes</td>\n",
       "      <td>eng</td>\n",
       "      <td>1</td>\n",
       "      <td>USA</td>\n",
       "      <td>1</td>\n",
       "    </tr>\n",
       "    <tr>\n",
       "      <th>3</th>\n",
       "      <td>2016-02-18 18:06:39.681943 UTC</td>\n",
       "      <td>461023995001001</td>\n",
       "      <td>7269247775762971847</td>\n",
       "      <td>US</td>\n",
       "      <td>en</td>\n",
       "      <td>True</td>\n",
       "      <td>desktop</td>\n",
       "      <td>False</td>\n",
       "      <td>Windows</td>\n",
       "      <td>\"/math/cc-third-grade-math\"</td>\n",
       "      <td>pageview</td>\n",
       "      <td>1</td>\n",
       "      <td>Yes</td>\n",
       "      <td>eng</td>\n",
       "      <td>1</td>\n",
       "      <td>USA</td>\n",
       "      <td>1</td>\n",
       "    </tr>\n",
       "    <tr>\n",
       "      <th>4</th>\n",
       "      <td>2016-02-18 18:06:55.040427 UTC</td>\n",
       "      <td>461023995001001</td>\n",
       "      <td>7269247775762971847</td>\n",
       "      <td>US</td>\n",
       "      <td>en</td>\n",
       "      <td>True</td>\n",
       "      <td>desktop</td>\n",
       "      <td>False</td>\n",
       "      <td>Windows</td>\n",
       "      <td>\"/mission/cc-third-grade-math\"</td>\n",
       "      <td>pageview</td>\n",
       "      <td>1</td>\n",
       "      <td>Yes</td>\n",
       "      <td>eng</td>\n",
       "      <td>1</td>\n",
       "      <td>USA</td>\n",
       "      <td>1</td>\n",
       "    </tr>\n",
       "  </tbody>\n",
       "</table>\n",
       "</div>"
      ],
      "text/plain": [
       "                        timestamp          user_id           session_id  \\\n",
       "0  2016-02-18 18:05:34.408245 UTC  461023995001001  7269247775762971847   \n",
       "1  2016-02-18 18:05:35.156166 UTC  461023995001001  7269247775762971847   \n",
       "2  2016-02-18 18:05:44.033396 UTC  461023995001001  7269247775762971847   \n",
       "3  2016-02-18 18:06:39.681943 UTC  461023995001001  7269247775762971847   \n",
       "4  2016-02-18 18:06:55.040427 UTC  461023995001001  7269247775762971847   \n",
       "\n",
       "  country language  user_registered_flag device_type  KA_app_flag       OS  \\\n",
       "0      US       en                  True     desktop        False  Windows   \n",
       "1      US       en                  True     desktop        False  Windows   \n",
       "2      US       en                  True     desktop        False  Windows   \n",
       "3      US       en                  True     desktop        False  Windows   \n",
       "4      US       en                  True     desktop        False  Windows   \n",
       "\n",
       "                              URI     conversion  returned_user returner  \\\n",
       "0                             NaN          login              1      Yes   \n",
       "1                             NaN  homepage_view              1      Yes   \n",
       "2                      \"/welcome\"       pageview              1      Yes   \n",
       "3     \"/math/cc-third-grade-math\"       pageview              1      Yes   \n",
       "4  \"/mission/cc-third-grade-math\"       pageview              1      Yes   \n",
       "\n",
       "  lang_filter  lang_encode country_filter  country_encode  \n",
       "0         eng            1            USA               1  \n",
       "1         eng            1            USA               1  \n",
       "2         eng            1            USA               1  \n",
       "3         eng            1            USA               1  \n",
       "4         eng            1            USA               1  "
      ]
     },
     "execution_count": 101,
     "metadata": {},
     "output_type": "execute_result"
    }
   ],
   "source": [
    "# Make 2 new columns that has 2 variables from country: US & other , (1,0)\n",
    "\n",
    "khan_data['country_filter'] = np.where(khan_data['country'] == 'US', 'USA', 'other')\n",
    "khan_data['country_encode'] = np.where(khan_data['country'].str.contains('US'),1,0)\n",
    "\n",
    "khan_data.head(5)"
   ]
  },
  {
   "cell_type": "code",
   "execution_count": 116,
   "id": "70f9fa9c",
   "metadata": {},
   "outputs": [
    {
     "data": {
      "text/plain": [
       "F_onewayResult(statistic=1013.9474202716715, pvalue=5.0247384120845334e-219)"
      ]
     },
     "execution_count": 116,
     "metadata": {},
     "output_type": "execute_result"
    }
   ],
   "source": [
    "# ANOVA using SCIPY.STATS\n",
    "stats.f_oneway(khan_data['returned_user'][khan_data['country_filter'] == 'USA'],\n",
    "               khan_data['returned_user'][khan_data['country_filter'] == 'other'])"
   ]
  },
  {
   "cell_type": "code",
   "execution_count": 147,
   "id": "aa51730b",
   "metadata": {},
   "outputs": [
    {
     "data": {
      "text/plain": [
       "F_onewayResult(statistic=20.7875493511381, pvalue=5.44223698641368e-06)"
      ]
     },
     "execution_count": 147,
     "metadata": {},
     "output_type": "execute_result"
    }
   ],
   "source": [
    "stats.f_oneway(df['returned_user'][df['country_filter'] == 'USA'],\n",
    "               df['returned_user'][df['country_filter'] == 'other'])"
   ]
  },
  {
   "cell_type": "code",
   "execution_count": 119,
   "id": "2535d03b",
   "metadata": {},
   "outputs": [
    {
     "data": {
      "text/html": [
       "<div>\n",
       "<style scoped>\n",
       "    .dataframe tbody tr th:only-of-type {\n",
       "        vertical-align: middle;\n",
       "    }\n",
       "\n",
       "    .dataframe tbody tr th {\n",
       "        vertical-align: top;\n",
       "    }\n",
       "\n",
       "    .dataframe thead th {\n",
       "        text-align: right;\n",
       "    }\n",
       "</style>\n",
       "<table border=\"1\" class=\"dataframe\">\n",
       "  <thead>\n",
       "    <tr style=\"text-align: right;\">\n",
       "      <th></th>\n",
       "      <th>sum_sq</th>\n",
       "      <th>df</th>\n",
       "      <th>F</th>\n",
       "      <th>PR(&gt;F)</th>\n",
       "    </tr>\n",
       "  </thead>\n",
       "  <tbody>\n",
       "    <tr>\n",
       "      <th>C(country_filter)</th>\n",
       "      <td>8805.864584</td>\n",
       "      <td>1.0</td>\n",
       "      <td>1013.94742</td>\n",
       "      <td>5.024738e-219</td>\n",
       "    </tr>\n",
       "    <tr>\n",
       "      <th>Residual</th>\n",
       "      <td>273386.771038</td>\n",
       "      <td>31479.0</td>\n",
       "      <td>NaN</td>\n",
       "      <td>NaN</td>\n",
       "    </tr>\n",
       "  </tbody>\n",
       "</table>\n",
       "</div>"
      ],
      "text/plain": [
       "                          sum_sq       df           F         PR(>F)\n",
       "C(country_filter)    8805.864584      1.0  1013.94742  5.024738e-219\n",
       "Residual           273386.771038  31479.0         NaN            NaN"
      ]
     },
     "execution_count": 119,
     "metadata": {},
     "output_type": "execute_result"
    }
   ],
   "source": [
    "# ANOVA using STATSMODEL\n",
    "model1 = ols('returned_user ~ C(country_filter)', data=khan_data).fit()\n",
    "aov_table = sm.stats.anova_lm(model, typ=2)\n",
    "aov_table"
   ]
  },
  {
   "cell_type": "code",
   "execution_count": 120,
   "id": "934cd07a",
   "metadata": {},
   "outputs": [
    {
     "name": "stderr",
     "output_type": "stream",
     "text": [
      "/Users/nicholasmai/opt/anaconda3/lib/python3.9/site-packages/scipy/stats/morestats.py:1760: UserWarning: p-value may not be accurate for N > 5000.\n",
      "  warnings.warn(\"p-value may not be accurate for N > 5000.\")\n"
     ]
    },
    {
     "data": {
      "text/plain": [
       "ShapiroResult(statistic=0.7949135303497314, pvalue=0.0)"
      ]
     },
     "execution_count": 120,
     "metadata": {},
     "output_type": "execute_result"
    }
   ],
   "source": [
    "# Assumption check of normality \n",
    "stats.shapiro(model1.resid)"
   ]
  },
  {
   "cell_type": "code",
   "execution_count": 121,
   "id": "8b7a02cc",
   "metadata": {},
   "outputs": [
    {
     "data": {
      "image/png": "[encoded data removed]",
      "text/plain": [
       "<Figure size 720x720 with 1 Axes>"
      ]
     },
     "metadata": {
      "needs_background": "light"
     },
     "output_type": "display_data"
    }
   ],
   "source": [
    "fig = plt.figure(figsize= (10, 10))\n",
    "ax = fig.add_subplot(111)\n",
    "\n",
    "normality_plot, stat = stats.probplot(model1.resid, plot= plt, rvalue= True)\n",
    "ax.set_title(\"Probability plot of model residual's\", fontsize= 20)\n",
    "ax.set\n",
    "\n",
    "plt.show()"
   ]
  },
  {
   "cell_type": "code",
   "execution_count": 122,
   "id": "a08f3a0f",
   "metadata": {},
   "outputs": [
    {
     "data": {
      "text/plain": [
       "LeveneResult(statistic=1027.5531054884093, pvalue=6.865486601091774e-222)"
      ]
     },
     "execution_count": 122,
     "metadata": {},
     "output_type": "execute_result"
    }
   ],
   "source": [
    "# Assumption check 2: Homogeneity of variance, does each group have equal variances\n",
    "stats.levene(khan_data['returned_user'][khan_data['country_filter'] == 'USA'],\n",
    "             khan_data['returned_user'][khan_data['country_filter'] == 'other'])"
   ]
  },
  {
   "cell_type": "code",
   "execution_count": 123,
   "id": "0d314778",
   "metadata": {},
   "outputs": [
    {
     "data": {
      "image/png": "[encoded data removed]",
      "text/plain": [
       "<Figure size 720x720 with 1 Axes>"
      ]
     },
     "metadata": {
      "needs_background": "light"
     },
     "output_type": "display_data"
    }
   ],
   "source": [
    "fig = plt.figure(figsize= (10, 10))\n",
    "ax = fig.add_subplot(111)\n",
    "\n",
    "ax.set_title(\"Box Plot of Return User by Country\", fontsize= 20)\n",
    "ax.set\n",
    "\n",
    "data = [khan_data['returned_user'][khan_data['country_filter'] == 'USA'],\n",
    "             khan_data['returned_user'][khan_data['country_filter'] == 'other']]\n",
    "\n",
    "ax.boxplot(data,\n",
    "           labels= ['USA', 'other'],\n",
    "           showmeans= True)\n",
    "\n",
    "plt.xlabel(\"From USA\")\n",
    "plt.ylabel(\"Return User\")\n",
    "\n",
    "plt.show()"
   ]
  },
  {
   "cell_type": "markdown",
   "id": "be465faf",
   "metadata": {},
   "source": [
    "### ANOVA Registered KA User"
   ]
  },
  {
   "cell_type": "code",
   "execution_count": 104,
   "id": "b127a6a0",
   "metadata": {},
   "outputs": [
    {
     "data": {
      "text/html": [
       "<div>\n",
       "<style scoped>\n",
       "    .dataframe tbody tr th:only-of-type {\n",
       "        vertical-align: middle;\n",
       "    }\n",
       "\n",
       "    .dataframe tbody tr th {\n",
       "        vertical-align: top;\n",
       "    }\n",
       "\n",
       "    .dataframe thead th {\n",
       "        text-align: right;\n",
       "    }\n",
       "</style>\n",
       "<table border=\"1\" class=\"dataframe\">\n",
       "  <thead>\n",
       "    <tr style=\"text-align: right;\">\n",
       "      <th></th>\n",
       "      <th>timestamp</th>\n",
       "      <th>user_id</th>\n",
       "      <th>session_id</th>\n",
       "      <th>country</th>\n",
       "      <th>language</th>\n",
       "      <th>user_registered_flag</th>\n",
       "      <th>device_type</th>\n",
       "      <th>KA_app_flag</th>\n",
       "      <th>OS</th>\n",
       "      <th>URI</th>\n",
       "      <th>conversion</th>\n",
       "      <th>returned_user</th>\n",
       "      <th>returner</th>\n",
       "      <th>lang_filter</th>\n",
       "      <th>lang_encode</th>\n",
       "      <th>country_filter</th>\n",
       "      <th>country_encode</th>\n",
       "      <th>registered_user</th>\n",
       "    </tr>\n",
       "  </thead>\n",
       "  <tbody>\n",
       "    <tr>\n",
       "      <th>0</th>\n",
       "      <td>2016-02-18 18:05:34.408245 UTC</td>\n",
       "      <td>461023995001001</td>\n",
       "      <td>7269247775762971847</td>\n",
       "      <td>US</td>\n",
       "      <td>en</td>\n",
       "      <td>True</td>\n",
       "      <td>desktop</td>\n",
       "      <td>False</td>\n",
       "      <td>Windows</td>\n",
       "      <td>NaN</td>\n",
       "      <td>login</td>\n",
       "      <td>1</td>\n",
       "      <td>Yes</td>\n",
       "      <td>eng</td>\n",
       "      <td>1</td>\n",
       "      <td>USA</td>\n",
       "      <td>1</td>\n",
       "      <td>1</td>\n",
       "    </tr>\n",
       "    <tr>\n",
       "      <th>1</th>\n",
       "      <td>2016-02-18 18:05:35.156166 UTC</td>\n",
       "      <td>461023995001001</td>\n",
       "      <td>7269247775762971847</td>\n",
       "      <td>US</td>\n",
       "      <td>en</td>\n",
       "      <td>True</td>\n",
       "      <td>desktop</td>\n",
       "      <td>False</td>\n",
       "      <td>Windows</td>\n",
       "      <td>NaN</td>\n",
       "      <td>homepage_view</td>\n",
       "      <td>1</td>\n",
       "      <td>Yes</td>\n",
       "      <td>eng</td>\n",
       "      <td>1</td>\n",
       "      <td>USA</td>\n",
       "      <td>1</td>\n",
       "      <td>1</td>\n",
       "    </tr>\n",
       "    <tr>\n",
       "      <th>2</th>\n",
       "      <td>2016-02-18 18:05:44.033396 UTC</td>\n",
       "      <td>461023995001001</td>\n",
       "      <td>7269247775762971847</td>\n",
       "      <td>US</td>\n",
       "      <td>en</td>\n",
       "      <td>True</td>\n",
       "      <td>desktop</td>\n",
       "      <td>False</td>\n",
       "      <td>Windows</td>\n",
       "      <td>\"/welcome\"</td>\n",
       "      <td>pageview</td>\n",
       "      <td>1</td>\n",
       "      <td>Yes</td>\n",
       "      <td>eng</td>\n",
       "      <td>1</td>\n",
       "      <td>USA</td>\n",
       "      <td>1</td>\n",
       "      <td>1</td>\n",
       "    </tr>\n",
       "    <tr>\n",
       "      <th>3</th>\n",
       "      <td>2016-02-18 18:06:39.681943 UTC</td>\n",
       "      <td>461023995001001</td>\n",
       "      <td>7269247775762971847</td>\n",
       "      <td>US</td>\n",
       "      <td>en</td>\n",
       "      <td>True</td>\n",
       "      <td>desktop</td>\n",
       "      <td>False</td>\n",
       "      <td>Windows</td>\n",
       "      <td>\"/math/cc-third-grade-math\"</td>\n",
       "      <td>pageview</td>\n",
       "      <td>1</td>\n",
       "      <td>Yes</td>\n",
       "      <td>eng</td>\n",
       "      <td>1</td>\n",
       "      <td>USA</td>\n",
       "      <td>1</td>\n",
       "      <td>1</td>\n",
       "    </tr>\n",
       "    <tr>\n",
       "      <th>4</th>\n",
       "      <td>2016-02-18 18:06:55.040427 UTC</td>\n",
       "      <td>461023995001001</td>\n",
       "      <td>7269247775762971847</td>\n",
       "      <td>US</td>\n",
       "      <td>en</td>\n",
       "      <td>True</td>\n",
       "      <td>desktop</td>\n",
       "      <td>False</td>\n",
       "      <td>Windows</td>\n",
       "      <td>\"/mission/cc-third-grade-math\"</td>\n",
       "      <td>pageview</td>\n",
       "      <td>1</td>\n",
       "      <td>Yes</td>\n",
       "      <td>eng</td>\n",
       "      <td>1</td>\n",
       "      <td>USA</td>\n",
       "      <td>1</td>\n",
       "      <td>1</td>\n",
       "    </tr>\n",
       "  </tbody>\n",
       "</table>\n",
       "</div>"
      ],
      "text/plain": [
       "                        timestamp          user_id           session_id  \\\n",
       "0  2016-02-18 18:05:34.408245 UTC  461023995001001  7269247775762971847   \n",
       "1  2016-02-18 18:05:35.156166 UTC  461023995001001  7269247775762971847   \n",
       "2  2016-02-18 18:05:44.033396 UTC  461023995001001  7269247775762971847   \n",
       "3  2016-02-18 18:06:39.681943 UTC  461023995001001  7269247775762971847   \n",
       "4  2016-02-18 18:06:55.040427 UTC  461023995001001  7269247775762971847   \n",
       "\n",
       "  country language  user_registered_flag device_type  KA_app_flag       OS  \\\n",
       "0      US       en                  True     desktop        False  Windows   \n",
       "1      US       en                  True     desktop        False  Windows   \n",
       "2      US       en                  True     desktop        False  Windows   \n",
       "3      US       en                  True     desktop        False  Windows   \n",
       "4      US       en                  True     desktop        False  Windows   \n",
       "\n",
       "                              URI     conversion  returned_user returner  \\\n",
       "0                             NaN          login              1      Yes   \n",
       "1                             NaN  homepage_view              1      Yes   \n",
       "2                      \"/welcome\"       pageview              1      Yes   \n",
       "3     \"/math/cc-third-grade-math\"       pageview              1      Yes   \n",
       "4  \"/mission/cc-third-grade-math\"       pageview              1      Yes   \n",
       "\n",
       "  lang_filter  lang_encode country_filter  country_encode  registered_user  \n",
       "0         eng            1            USA               1                1  \n",
       "1         eng            1            USA               1                1  \n",
       "2         eng            1            USA               1                1  \n",
       "3         eng            1            USA               1                1  \n",
       "4         eng            1            USA               1                1  "
      ]
     },
     "execution_count": 104,
     "metadata": {},
     "output_type": "execute_result"
    }
   ],
   "source": [
    "# Make 1 encoded column for registered KA user: (1,0)\n",
    "\n",
    "khan_data['registered_user'] = np.where(khan_data['user_registered_flag'] == True, 1, 0)\n",
    "\n",
    "khan_data.head(5)"
   ]
  },
  {
   "cell_type": "code",
   "execution_count": 124,
   "id": "a7f454ce",
   "metadata": {},
   "outputs": [
    {
     "data": {
      "text/plain": [
       "F_onewayResult(statistic=1648.8340570229059, pvalue=0.0)"
      ]
     },
     "execution_count": 124,
     "metadata": {},
     "output_type": "execute_result"
    }
   ],
   "source": [
    "# ANOVA using SCIPY.STATS\n",
    "stats.f_oneway(khan_data['returned_user'][khan_data['user_registered_flag'] == True],\n",
    "               khan_data['returned_user'][khan_data['user_registered_flag'] == False])"
   ]
  },
  {
   "cell_type": "code",
   "execution_count": 148,
   "id": "cd4b42e7",
   "metadata": {},
   "outputs": [
    {
     "data": {
      "text/plain": [
       "F_onewayResult(statistic=101.20452654628959, pvalue=2.937773261734725e-23)"
      ]
     },
     "execution_count": 148,
     "metadata": {},
     "output_type": "execute_result"
    }
   ],
   "source": [
    "stats.f_oneway(df['returned_user'][df['user_registered_flag'] == True],\n",
    "               df['returned_user'][df['user_registered_flag'] == False])"
   ]
  },
  {
   "cell_type": "code",
   "execution_count": 126,
   "id": "452351ee",
   "metadata": {},
   "outputs": [
    {
     "data": {
      "text/html": [
       "<div>\n",
       "<style scoped>\n",
       "    .dataframe tbody tr th:only-of-type {\n",
       "        vertical-align: middle;\n",
       "    }\n",
       "\n",
       "    .dataframe tbody tr th {\n",
       "        vertical-align: top;\n",
       "    }\n",
       "\n",
       "    .dataframe thead th {\n",
       "        text-align: right;\n",
       "    }\n",
       "</style>\n",
       "<table border=\"1\" class=\"dataframe\">\n",
       "  <thead>\n",
       "    <tr style=\"text-align: right;\">\n",
       "      <th></th>\n",
       "      <th>sum_sq</th>\n",
       "      <th>df</th>\n",
       "      <th>F</th>\n",
       "      <th>PR(&gt;F)</th>\n",
       "    </tr>\n",
       "  </thead>\n",
       "  <tbody>\n",
       "    <tr>\n",
       "      <th>C(country_filter)</th>\n",
       "      <td>8805.864584</td>\n",
       "      <td>1.0</td>\n",
       "      <td>1013.94742</td>\n",
       "      <td>5.024738e-219</td>\n",
       "    </tr>\n",
       "    <tr>\n",
       "      <th>Residual</th>\n",
       "      <td>273386.771038</td>\n",
       "      <td>31479.0</td>\n",
       "      <td>NaN</td>\n",
       "      <td>NaN</td>\n",
       "    </tr>\n",
       "  </tbody>\n",
       "</table>\n",
       "</div>"
      ],
      "text/plain": [
       "                          sum_sq       df           F         PR(>F)\n",
       "C(country_filter)    8805.864584      1.0  1013.94742  5.024738e-219\n",
       "Residual           273386.771038  31479.0         NaN            NaN"
      ]
     },
     "execution_count": 126,
     "metadata": {},
     "output_type": "execute_result"
    }
   ],
   "source": [
    "# ANOVA using STATSMODEL\n",
    "model2 = ols('returned_user ~ user_registered_flag', data=khan_data).fit()\n",
    "aov_table = sm.stats.anova_lm(model, typ=2)\n",
    "aov_table"
   ]
  },
  {
   "cell_type": "code",
   "execution_count": 127,
   "id": "b1b221d3",
   "metadata": {},
   "outputs": [
    {
     "name": "stderr",
     "output_type": "stream",
     "text": [
      "/Users/nicholasmai/opt/anaconda3/lib/python3.9/site-packages/scipy/stats/morestats.py:1760: UserWarning: p-value may not be accurate for N > 5000.\n",
      "  warnings.warn(\"p-value may not be accurate for N > 5000.\")\n"
     ]
    },
    {
     "data": {
      "text/plain": [
       "ShapiroResult(statistic=0.7807454466819763, pvalue=0.0)"
      ]
     },
     "execution_count": 127,
     "metadata": {},
     "output_type": "execute_result"
    }
   ],
   "source": [
    "# Assumption check of normality \n",
    "stats.shapiro(model2.resid)"
   ]
  },
  {
   "cell_type": "code",
   "execution_count": 128,
   "id": "46d43c9e",
   "metadata": {},
   "outputs": [
    {
     "data": {
      "image/png": "[encoded data removed]",
      "text/plain": [
       "<Figure size 720x720 with 1 Axes>"
      ]
     },
     "metadata": {
      "needs_background": "light"
     },
     "output_type": "display_data"
    }
   ],
   "source": [
    "fig = plt.figure(figsize= (10, 10))\n",
    "ax = fig.add_subplot(111)\n",
    "\n",
    "normality_plot, stat = stats.probplot(model2.resid, plot= plt, rvalue= True)\n",
    "ax.set_title(\"Probability plot of model residual's\", fontsize= 20)\n",
    "ax.set\n",
    "\n",
    "plt.show()"
   ]
  },
  {
   "cell_type": "code",
   "execution_count": 130,
   "id": "07623ae8",
   "metadata": {},
   "outputs": [
    {
     "data": {
      "text/plain": [
       "LeveneResult(statistic=1300.796950571617, pvalue=3.706519834209885e-279)"
      ]
     },
     "execution_count": 130,
     "metadata": {},
     "output_type": "execute_result"
    }
   ],
   "source": [
    "# Assumption check 2: Homogeneity of variance, does each group have equal variances\n",
    "stats.levene(khan_data['returned_user'][khan_data['user_registered_flag'] == True],\n",
    "             khan_data['returned_user'][khan_data['user_registered_flag'] == False])"
   ]
  },
  {
   "cell_type": "code",
   "execution_count": 131,
   "id": "b5eb8888",
   "metadata": {},
   "outputs": [
    {
     "data": {
      "image/png": "[encoded data removed]",
      "text/plain": [
       "<Figure size 720x720 with 1 Axes>"
      ]
     },
     "metadata": {
      "needs_background": "light"
     },
     "output_type": "display_data"
    }
   ],
   "source": [
    "fig = plt.figure(figsize= (10, 10))\n",
    "ax = fig.add_subplot(111)\n",
    "\n",
    "ax.set_title(\"Box Plot of Return User are Registered Users\", fontsize= 20)\n",
    "ax.set\n",
    "\n",
    "data = [khan_data['returned_user'][khan_data['user_registered_flag'] == True],\n",
    "             khan_data['returned_user'][khan_data['user_registered_flag'] == False]]\n",
    "\n",
    "ax.boxplot(data,\n",
    "           labels= ['True', 'False'],\n",
    "           showmeans= True)\n",
    "\n",
    "plt.xlabel(\"Registered Member\")\n",
    "plt.ylabel(\"Return User\")\n",
    "\n",
    "plt.show()"
   ]
  },
  {
   "cell_type": "markdown",
   "id": "adcd7834",
   "metadata": {},
   "source": [
    "## MANOVA attempt\n"
   ]
  },
  {
   "cell_type": "code",
   "execution_count": 152,
   "id": "3c140064",
   "metadata": {},
   "outputs": [
    {
     "name": "stdout",
     "output_type": "stream",
     "text": [
      "                                 Multivariate linear model\n",
      "============================================================================================\n",
      "                                                                                            \n",
      "--------------------------------------------------------------------------------------------\n",
      "       Intercept               Value        Num DF   Den DF           F Value         Pr > F\n",
      "--------------------------------------------------------------------------------------------\n",
      "          Wilks' lambda             -0.0000 3.0000 31477.0000 -15087250475823722.0000 1.0000\n",
      "         Pillai's trace              1.0000 3.0000 31477.0000 -15087250475823722.0000 1.0000\n",
      " Hotelling-Lawley trace -1437930915508.8213 3.0000 31477.0000 -15087250475823720.0000 1.0000\n",
      "    Roy's greatest root -1437930915508.8213 3.0000 31477.0000 -15087250475823724.0000 1.0000\n",
      "--------------------------------------------------------------------------------------------\n",
      "                                                                                            \n",
      "-------------------------------------------------------------------------------------------------\n",
      "             returned_user           Value       Num DF        Den DF        F Value       Pr > F\n",
      "-------------------------------------------------------------------------------------------------\n",
      "                  Wilks' lambda      0.9368      3.0000      31477.0000      708.3116      0.0000\n",
      "                 Pillai's trace      0.0632      3.0000      31477.0000      708.3116      0.0000\n",
      "         Hotelling-Lawley trace      0.0675      3.0000      31477.0000      708.3116      0.0000\n",
      "            Roy's greatest root      0.0675      3.0000      31477.0000      708.3116      0.0000\n",
      "============================================================================================\n",
      "\n"
     ]
    }
   ],
   "source": [
    "from statsmodels.multivariate.manova import MANOVA\n",
    "fit = MANOVA.from_formula('country_filter + lang_filter ~ returned_user', data=khan_data)\n",
    "print(fit.mv_test())"
   ]
  },
  {
   "cell_type": "code",
   "execution_count": 153,
   "id": "5eca078e",
   "metadata": {},
   "outputs": [
    {
     "name": "stdout",
     "output_type": "stream",
     "text": [
      "                                 Multivariate linear model\n",
      "============================================================================================\n",
      "                                                                                            \n",
      "--------------------------------------------------------------------------------------------\n",
      "       Intercept               Value        Num DF   Den DF           F Value         Pr > F\n",
      "--------------------------------------------------------------------------------------------\n",
      "          Wilks' lambda             -0.0000 4.0000 31476.0000 -11315078374138914.0000 1.0000\n",
      "         Pillai's trace              1.0000 4.0000 31476.0000 -11315078374138914.0000 1.0000\n",
      " Hotelling-Lawley trace -1437930915508.8213 4.0000 31476.0000 -11315078374138916.0000 1.0000\n",
      "    Roy's greatest root -1437930915508.8213 4.0000 31476.0000 -11315078374138914.0000 1.0000\n",
      "--------------------------------------------------------------------------------------------\n",
      "                                                                                            \n",
      "-------------------------------------------------------------------------------------------------\n",
      "            returned_user           Value       Num DF        Den DF         F Value       Pr > F\n",
      "-------------------------------------------------------------------------------------------------\n",
      "                 Wilks' lambda      0.8807      4.0000      31476.0000      1065.9556      0.0000\n",
      "                Pillai's trace      0.1193      4.0000      31476.0000      1065.9556      0.0000\n",
      "        Hotelling-Lawley trace      0.1355      4.0000      31476.0000      1065.9556      0.0000\n",
      "           Roy's greatest root      0.1355      4.0000      31476.0000      1065.9556      0.0000\n",
      "============================================================================================\n",
      "\n"
     ]
    }
   ],
   "source": [
    "fit1 = MANOVA.from_formula('country_filter + lang_filter + user_registered_flag ~ returned_user', data=khan_data)\n",
    "print(fit1.mv_test())"
   ]
  },
  {
   "cell_type": "code",
   "execution_count": 160,
   "id": "4e9f9d76",
   "metadata": {},
   "outputs": [
    {
     "data": {
      "text/plain": [
       "US    21973\n",
       "CA     1842\n",
       "IE     1049\n",
       "GB      649\n",
       "BR      617\n",
       "      ...  \n",
       "CI        2\n",
       "GR        2\n",
       "AM        1\n",
       "MA        1\n",
       "DO        1\n",
       "Name: country, Length: 77, dtype: int64"
      ]
     },
     "execution_count": 160,
     "metadata": {},
     "output_type": "execute_result"
    }
   ],
   "source": [
    "khan_data['country'].value_counts()"
   ]
  },
  {
   "cell_type": "markdown",
   "id": "9fd73a85",
   "metadata": {},
   "source": [
    "### ANOVA attempt with 3 unique categorical values cause apparently ANOVA requires 3 values per dependent variable\n"
   ]
  },
  {
   "cell_type": "code",
   "execution_count": 163,
   "id": "6163e9bd",
   "metadata": {},
   "outputs": [
    {
     "data": {
      "text/html": [
       "<div>\n",
       "<style scoped>\n",
       "    .dataframe tbody tr th:only-of-type {\n",
       "        vertical-align: middle;\n",
       "    }\n",
       "\n",
       "    .dataframe tbody tr th {\n",
       "        vertical-align: top;\n",
       "    }\n",
       "\n",
       "    .dataframe thead th {\n",
       "        text-align: right;\n",
       "    }\n",
       "</style>\n",
       "<table border=\"1\" class=\"dataframe\">\n",
       "  <thead>\n",
       "    <tr style=\"text-align: right;\">\n",
       "      <th></th>\n",
       "      <th>timestamp</th>\n",
       "      <th>user_id</th>\n",
       "      <th>session_id</th>\n",
       "      <th>country</th>\n",
       "      <th>language</th>\n",
       "      <th>user_registered_flag</th>\n",
       "      <th>device_type</th>\n",
       "      <th>KA_app_flag</th>\n",
       "      <th>OS</th>\n",
       "      <th>URI</th>\n",
       "      <th>conversion</th>\n",
       "      <th>returned_user</th>\n",
       "      <th>returner</th>\n",
       "      <th>lang_filter</th>\n",
       "      <th>lang_encode</th>\n",
       "      <th>country_filter</th>\n",
       "      <th>country_encode</th>\n",
       "      <th>registered_user</th>\n",
       "      <th>lang_3</th>\n",
       "      <th>country_3</th>\n",
       "    </tr>\n",
       "  </thead>\n",
       "  <tbody>\n",
       "    <tr>\n",
       "      <th>0</th>\n",
       "      <td>2016-02-18 18:05:34.408245 UTC</td>\n",
       "      <td>461023995001001</td>\n",
       "      <td>7269247775762971847</td>\n",
       "      <td>US</td>\n",
       "      <td>en</td>\n",
       "      <td>True</td>\n",
       "      <td>desktop</td>\n",
       "      <td>False</td>\n",
       "      <td>Windows</td>\n",
       "      <td>NaN</td>\n",
       "      <td>login</td>\n",
       "      <td>1</td>\n",
       "      <td>Yes</td>\n",
       "      <td>eng</td>\n",
       "      <td>1</td>\n",
       "      <td>USA</td>\n",
       "      <td>1</td>\n",
       "      <td>1</td>\n",
       "      <td>eng</td>\n",
       "      <td>other</td>\n",
       "    </tr>\n",
       "    <tr>\n",
       "      <th>1</th>\n",
       "      <td>2016-02-18 18:05:35.156166 UTC</td>\n",
       "      <td>461023995001001</td>\n",
       "      <td>7269247775762971847</td>\n",
       "      <td>US</td>\n",
       "      <td>en</td>\n",
       "      <td>True</td>\n",
       "      <td>desktop</td>\n",
       "      <td>False</td>\n",
       "      <td>Windows</td>\n",
       "      <td>NaN</td>\n",
       "      <td>homepage_view</td>\n",
       "      <td>1</td>\n",
       "      <td>Yes</td>\n",
       "      <td>eng</td>\n",
       "      <td>1</td>\n",
       "      <td>USA</td>\n",
       "      <td>1</td>\n",
       "      <td>1</td>\n",
       "      <td>eng</td>\n",
       "      <td>other</td>\n",
       "    </tr>\n",
       "    <tr>\n",
       "      <th>2</th>\n",
       "      <td>2016-02-18 18:05:44.033396 UTC</td>\n",
       "      <td>461023995001001</td>\n",
       "      <td>7269247775762971847</td>\n",
       "      <td>US</td>\n",
       "      <td>en</td>\n",
       "      <td>True</td>\n",
       "      <td>desktop</td>\n",
       "      <td>False</td>\n",
       "      <td>Windows</td>\n",
       "      <td>\"/welcome\"</td>\n",
       "      <td>pageview</td>\n",
       "      <td>1</td>\n",
       "      <td>Yes</td>\n",
       "      <td>eng</td>\n",
       "      <td>1</td>\n",
       "      <td>USA</td>\n",
       "      <td>1</td>\n",
       "      <td>1</td>\n",
       "      <td>eng</td>\n",
       "      <td>other</td>\n",
       "    </tr>\n",
       "    <tr>\n",
       "      <th>3</th>\n",
       "      <td>2016-02-18 18:06:39.681943 UTC</td>\n",
       "      <td>461023995001001</td>\n",
       "      <td>7269247775762971847</td>\n",
       "      <td>US</td>\n",
       "      <td>en</td>\n",
       "      <td>True</td>\n",
       "      <td>desktop</td>\n",
       "      <td>False</td>\n",
       "      <td>Windows</td>\n",
       "      <td>\"/math/cc-third-grade-math\"</td>\n",
       "      <td>pageview</td>\n",
       "      <td>1</td>\n",
       "      <td>Yes</td>\n",
       "      <td>eng</td>\n",
       "      <td>1</td>\n",
       "      <td>USA</td>\n",
       "      <td>1</td>\n",
       "      <td>1</td>\n",
       "      <td>eng</td>\n",
       "      <td>other</td>\n",
       "    </tr>\n",
       "    <tr>\n",
       "      <th>4</th>\n",
       "      <td>2016-02-18 18:06:55.040427 UTC</td>\n",
       "      <td>461023995001001</td>\n",
       "      <td>7269247775762971847</td>\n",
       "      <td>US</td>\n",
       "      <td>en</td>\n",
       "      <td>True</td>\n",
       "      <td>desktop</td>\n",
       "      <td>False</td>\n",
       "      <td>Windows</td>\n",
       "      <td>\"/mission/cc-third-grade-math\"</td>\n",
       "      <td>pageview</td>\n",
       "      <td>1</td>\n",
       "      <td>Yes</td>\n",
       "      <td>eng</td>\n",
       "      <td>1</td>\n",
       "      <td>USA</td>\n",
       "      <td>1</td>\n",
       "      <td>1</td>\n",
       "      <td>eng</td>\n",
       "      <td>other</td>\n",
       "    </tr>\n",
       "  </tbody>\n",
       "</table>\n",
       "</div>"
      ],
      "text/plain": [
       "                        timestamp          user_id           session_id  \\\n",
       "0  2016-02-18 18:05:34.408245 UTC  461023995001001  7269247775762971847   \n",
       "1  2016-02-18 18:05:35.156166 UTC  461023995001001  7269247775762971847   \n",
       "2  2016-02-18 18:05:44.033396 UTC  461023995001001  7269247775762971847   \n",
       "3  2016-02-18 18:06:39.681943 UTC  461023995001001  7269247775762971847   \n",
       "4  2016-02-18 18:06:55.040427 UTC  461023995001001  7269247775762971847   \n",
       "\n",
       "  country language  user_registered_flag device_type  KA_app_flag       OS  \\\n",
       "0      US       en                  True     desktop        False  Windows   \n",
       "1      US       en                  True     desktop        False  Windows   \n",
       "2      US       en                  True     desktop        False  Windows   \n",
       "3      US       en                  True     desktop        False  Windows   \n",
       "4      US       en                  True     desktop        False  Windows   \n",
       "\n",
       "                              URI     conversion  returned_user returner  \\\n",
       "0                             NaN          login              1      Yes   \n",
       "1                             NaN  homepage_view              1      Yes   \n",
       "2                      \"/welcome\"       pageview              1      Yes   \n",
       "3     \"/math/cc-third-grade-math\"       pageview              1      Yes   \n",
       "4  \"/mission/cc-third-grade-math\"       pageview              1      Yes   \n",
       "\n",
       "  lang_filter  lang_encode country_filter  country_encode  registered_user  \\\n",
       "0         eng            1            USA               1                1   \n",
       "1         eng            1            USA               1                1   \n",
       "2         eng            1            USA               1                1   \n",
       "3         eng            1            USA               1                1   \n",
       "4         eng            1            USA               1                1   \n",
       "\n",
       "  lang_3 country_3  \n",
       "0    eng     other  \n",
       "1    eng     other  \n",
       "2    eng     other  \n",
       "3    eng     other  \n",
       "4    eng     other  "
      ]
     },
     "execution_count": 163,
     "metadata": {},
     "output_type": "execute_result"
    }
   ],
   "source": [
    "# Make 2 new column that has 2 variables from language: engl & other, (1,0)\n",
    "\n",
    "khan_data['lang_3'] = np.where(khan_data['language'] == \"en\", 'eng', np.where(\n",
    "                                    khan_data['language'] == \"es\", 'spanish','other'))\n",
    "\n",
    "khan_data.head(5)"
   ]
  },
  {
   "cell_type": "code",
   "execution_count": 159,
   "id": "e64e8f44",
   "metadata": {},
   "outputs": [
    {
     "data": {
      "text/plain": [
       "F_onewayResult(statistic=194.5131044021443, pvalue=1.100971335214026e-84)"
      ]
     },
     "execution_count": 159,
     "metadata": {},
     "output_type": "execute_result"
    }
   ],
   "source": [
    "stats.f_oneway(khan_data['returned_user'][khan_data['lang_3'] == 'eng'],\n",
    "               khan_data['returned_user'][khan_data['lang_3'] == 'spanish'],\n",
    "               khan_data['returned_user'][khan_data['lang_3'] == 'other'])\n",
    "\n",
    "# previous result with 2 unique values (eng, other):\n",
    "# F_onewayResult(statistic=389.0381747421554, pvalue=4.443156154653244e-86)"
   ]
  },
  {
   "cell_type": "code",
   "execution_count": 165,
   "id": "50299351",
   "metadata": {},
   "outputs": [
    {
     "data": {
      "text/html": [
       "<div>\n",
       "<style scoped>\n",
       "    .dataframe tbody tr th:only-of-type {\n",
       "        vertical-align: middle;\n",
       "    }\n",
       "\n",
       "    .dataframe tbody tr th {\n",
       "        vertical-align: top;\n",
       "    }\n",
       "\n",
       "    .dataframe thead th {\n",
       "        text-align: right;\n",
       "    }\n",
       "</style>\n",
       "<table border=\"1\" class=\"dataframe\">\n",
       "  <thead>\n",
       "    <tr style=\"text-align: right;\">\n",
       "      <th></th>\n",
       "      <th>timestamp</th>\n",
       "      <th>user_id</th>\n",
       "      <th>session_id</th>\n",
       "      <th>country</th>\n",
       "      <th>language</th>\n",
       "      <th>user_registered_flag</th>\n",
       "      <th>device_type</th>\n",
       "      <th>KA_app_flag</th>\n",
       "      <th>OS</th>\n",
       "      <th>URI</th>\n",
       "      <th>conversion</th>\n",
       "      <th>returned_user</th>\n",
       "      <th>returner</th>\n",
       "      <th>lang_filter</th>\n",
       "      <th>lang_encode</th>\n",
       "      <th>country_filter</th>\n",
       "      <th>country_encode</th>\n",
       "      <th>registered_user</th>\n",
       "      <th>lang_3</th>\n",
       "      <th>country_3</th>\n",
       "    </tr>\n",
       "  </thead>\n",
       "  <tbody>\n",
       "    <tr>\n",
       "      <th>0</th>\n",
       "      <td>2016-02-18 18:05:34.408245 UTC</td>\n",
       "      <td>461023995001001</td>\n",
       "      <td>7269247775762971847</td>\n",
       "      <td>US</td>\n",
       "      <td>en</td>\n",
       "      <td>True</td>\n",
       "      <td>desktop</td>\n",
       "      <td>False</td>\n",
       "      <td>Windows</td>\n",
       "      <td>NaN</td>\n",
       "      <td>login</td>\n",
       "      <td>1</td>\n",
       "      <td>Yes</td>\n",
       "      <td>eng</td>\n",
       "      <td>1</td>\n",
       "      <td>USA</td>\n",
       "      <td>1</td>\n",
       "      <td>1</td>\n",
       "      <td>eng</td>\n",
       "      <td>us</td>\n",
       "    </tr>\n",
       "    <tr>\n",
       "      <th>1</th>\n",
       "      <td>2016-02-18 18:05:35.156166 UTC</td>\n",
       "      <td>461023995001001</td>\n",
       "      <td>7269247775762971847</td>\n",
       "      <td>US</td>\n",
       "      <td>en</td>\n",
       "      <td>True</td>\n",
       "      <td>desktop</td>\n",
       "      <td>False</td>\n",
       "      <td>Windows</td>\n",
       "      <td>NaN</td>\n",
       "      <td>homepage_view</td>\n",
       "      <td>1</td>\n",
       "      <td>Yes</td>\n",
       "      <td>eng</td>\n",
       "      <td>1</td>\n",
       "      <td>USA</td>\n",
       "      <td>1</td>\n",
       "      <td>1</td>\n",
       "      <td>eng</td>\n",
       "      <td>us</td>\n",
       "    </tr>\n",
       "    <tr>\n",
       "      <th>2</th>\n",
       "      <td>2016-02-18 18:05:44.033396 UTC</td>\n",
       "      <td>461023995001001</td>\n",
       "      <td>7269247775762971847</td>\n",
       "      <td>US</td>\n",
       "      <td>en</td>\n",
       "      <td>True</td>\n",
       "      <td>desktop</td>\n",
       "      <td>False</td>\n",
       "      <td>Windows</td>\n",
       "      <td>\"/welcome\"</td>\n",
       "      <td>pageview</td>\n",
       "      <td>1</td>\n",
       "      <td>Yes</td>\n",
       "      <td>eng</td>\n",
       "      <td>1</td>\n",
       "      <td>USA</td>\n",
       "      <td>1</td>\n",
       "      <td>1</td>\n",
       "      <td>eng</td>\n",
       "      <td>us</td>\n",
       "    </tr>\n",
       "    <tr>\n",
       "      <th>3</th>\n",
       "      <td>2016-02-18 18:06:39.681943 UTC</td>\n",
       "      <td>461023995001001</td>\n",
       "      <td>7269247775762971847</td>\n",
       "      <td>US</td>\n",
       "      <td>en</td>\n",
       "      <td>True</td>\n",
       "      <td>desktop</td>\n",
       "      <td>False</td>\n",
       "      <td>Windows</td>\n",
       "      <td>\"/math/cc-third-grade-math\"</td>\n",
       "      <td>pageview</td>\n",
       "      <td>1</td>\n",
       "      <td>Yes</td>\n",
       "      <td>eng</td>\n",
       "      <td>1</td>\n",
       "      <td>USA</td>\n",
       "      <td>1</td>\n",
       "      <td>1</td>\n",
       "      <td>eng</td>\n",
       "      <td>us</td>\n",
       "    </tr>\n",
       "    <tr>\n",
       "      <th>4</th>\n",
       "      <td>2016-02-18 18:06:55.040427 UTC</td>\n",
       "      <td>461023995001001</td>\n",
       "      <td>7269247775762971847</td>\n",
       "      <td>US</td>\n",
       "      <td>en</td>\n",
       "      <td>True</td>\n",
       "      <td>desktop</td>\n",
       "      <td>False</td>\n",
       "      <td>Windows</td>\n",
       "      <td>\"/mission/cc-third-grade-math\"</td>\n",
       "      <td>pageview</td>\n",
       "      <td>1</td>\n",
       "      <td>Yes</td>\n",
       "      <td>eng</td>\n",
       "      <td>1</td>\n",
       "      <td>USA</td>\n",
       "      <td>1</td>\n",
       "      <td>1</td>\n",
       "      <td>eng</td>\n",
       "      <td>us</td>\n",
       "    </tr>\n",
       "  </tbody>\n",
       "</table>\n",
       "</div>"
      ],
      "text/plain": [
       "                        timestamp          user_id           session_id  \\\n",
       "0  2016-02-18 18:05:34.408245 UTC  461023995001001  7269247775762971847   \n",
       "1  2016-02-18 18:05:35.156166 UTC  461023995001001  7269247775762971847   \n",
       "2  2016-02-18 18:05:44.033396 UTC  461023995001001  7269247775762971847   \n",
       "3  2016-02-18 18:06:39.681943 UTC  461023995001001  7269247775762971847   \n",
       "4  2016-02-18 18:06:55.040427 UTC  461023995001001  7269247775762971847   \n",
       "\n",
       "  country language  user_registered_flag device_type  KA_app_flag       OS  \\\n",
       "0      US       en                  True     desktop        False  Windows   \n",
       "1      US       en                  True     desktop        False  Windows   \n",
       "2      US       en                  True     desktop        False  Windows   \n",
       "3      US       en                  True     desktop        False  Windows   \n",
       "4      US       en                  True     desktop        False  Windows   \n",
       "\n",
       "                              URI     conversion  returned_user returner  \\\n",
       "0                             NaN          login              1      Yes   \n",
       "1                             NaN  homepage_view              1      Yes   \n",
       "2                      \"/welcome\"       pageview              1      Yes   \n",
       "3     \"/math/cc-third-grade-math\"       pageview              1      Yes   \n",
       "4  \"/mission/cc-third-grade-math\"       pageview              1      Yes   \n",
       "\n",
       "  lang_filter  lang_encode country_filter  country_encode  registered_user  \\\n",
       "0         eng            1            USA               1                1   \n",
       "1         eng            1            USA               1                1   \n",
       "2         eng            1            USA               1                1   \n",
       "3         eng            1            USA               1                1   \n",
       "4         eng            1            USA               1                1   \n",
       "\n",
       "  lang_3 country_3  \n",
       "0    eng        us  \n",
       "1    eng        us  \n",
       "2    eng        us  \n",
       "3    eng        us  \n",
       "4    eng        us  "
      ]
     },
     "execution_count": 165,
     "metadata": {},
     "output_type": "execute_result"
    }
   ],
   "source": [
    "khan_data['country_3'] = np.where(khan_data['country'] == \"US\", 'us', np.where(\n",
    "                                    khan_data['country'] == \"CA\", 'ca','other'))\n",
    "\n",
    "khan_data.head(5)"
   ]
  },
  {
   "cell_type": "code",
   "execution_count": 166,
   "id": "4acd281b",
   "metadata": {},
   "outputs": [
    {
     "data": {
      "text/plain": [
       "F_onewayResult(statistic=938.598110706762, pvalue=0.0)"
      ]
     },
     "execution_count": 166,
     "metadata": {},
     "output_type": "execute_result"
    }
   ],
   "source": [
    "stats.f_oneway(khan_data['returned_user'][khan_data['country_3'] == 'us'],\n",
    "               khan_data['returned_user'][khan_data['country_3'] == 'ca'],\n",
    "               khan_data['returned_user'][khan_data['country_3'] == 'other'])\n",
    "\n",
    "# previous result with 2 unique values (USA, other):\n",
    "# F_onewayResult(statistic=1013.9474202716715, pvalue=5.0247384120845334e-219)"
   ]
  },
  {
   "cell_type": "code",
   "execution_count": null,
   "id": "003e1ab8",
   "metadata": {},
   "outputs": [],
   "source": []
  }
 ],
 "metadata": {
  "kernelspec": {
   "display_name": "Python 3 (ipykernel)",
   "language": "python",
   "name": "python3"
  },
  "language_info": {
   "codemirror_mode": {
    "name": "ipython",
    "version": 3
   },
   "file_extension": ".py",
   "mimetype": "text/x-python",
   "name": "python",
   "nbconvert_exporter": "python",
   "pygments_lexer": "ipython3",
   "version": "3.9.7"
  }
 },
 "nbformat": 4,
 "nbformat_minor": 5
}

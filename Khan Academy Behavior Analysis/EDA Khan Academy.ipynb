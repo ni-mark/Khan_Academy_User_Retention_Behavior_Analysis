{
 "cells": [
  {
   "cell_type": "markdown",
   "id": "71e9e555",
   "metadata": {},
   "source": [
    "# Exploratory Data Analysis "
   ]
  },
  {
   "cell_type": "code",
   "execution_count": 129,
   "id": "105a5442",
   "metadata": {},
   "outputs": [],
   "source": [
    "import pandas as pd \n",
    "import numpy as np \n",
    "import matplotlib.pyplot as plt\n",
    "import matplotlib.patches as mpatches\n",
    "import seaborn as sns\n",
    "from sklearn.decomposition import PCA\n",
    "from sklearn.preprocessing import scale\n",
    "\n",
    "import statsmodels.api as sm \n",
    "from statsmodels.graphics.api import abline_plot\n",
    "from sklearn.metrics import mean_squared_error, r2_score \n",
    "from sklearn.model_selection import train_test_split\n",
    "\n",
    "from scipy import stats"
   ]
  },
  {
   "cell_type": "markdown",
   "id": "f044bb02",
   "metadata": {},
   "source": [
    "### 1a. Import Cleaned Khan Data set "
   ]
  },
  {
   "cell_type": "code",
   "execution_count": 2,
   "id": "1a7422ba",
   "metadata": {},
   "outputs": [],
   "source": [
    "khan_data = pd.read_csv('./data/return_user.csv')"
   ]
  },
  {
   "cell_type": "code",
   "execution_count": 3,
   "id": "835889b4",
   "metadata": {},
   "outputs": [],
   "source": [
    "# Categorical data is prevelant so this EDA is to asking questions and answering with data \n",
    "# Example how many users are from the US? \n",
    "# Are all returned users from the US? What type of users are more likely to return with OS?\n",
    "# Bar chart to count how many users \n",
    "# Make a new column of returned user of Yes and No -> call it label with Yes and No \n",
    "# chi2 to find corr between categorical variables "
   ]
  },
  {
   "cell_type": "markdown",
   "id": "b71184a8",
   "metadata": {},
   "source": [
    "### 1b. Exploring the data"
   ]
  },
  {
   "cell_type": "code",
   "execution_count": 4,
   "id": "b33caefa",
   "metadata": {},
   "outputs": [
    {
     "name": "stdout",
     "output_type": "stream",
     "text": [
      "<class 'pandas.core.frame.DataFrame'>\n",
      "RangeIndex: 31481 entries, 0 to 31480\n",
      "Data columns (total 14 columns):\n",
      " #   Column                Non-Null Count  Dtype \n",
      "---  ------                --------------  ----- \n",
      " 0   Unnamed: 0            31481 non-null  int64 \n",
      " 1   timestamp             31481 non-null  object\n",
      " 2   user_id               31481 non-null  int64 \n",
      " 3   session_id            31481 non-null  int64 \n",
      " 4   country               31481 non-null  object\n",
      " 5   language              31481 non-null  object\n",
      " 6   user_registered_flag  31481 non-null  bool  \n",
      " 7   device_type           31481 non-null  object\n",
      " 8   KA_app_flag           31481 non-null  bool  \n",
      " 9   OS                    31481 non-null  object\n",
      " 10  URI                   26149 non-null  object\n",
      " 11  conversion            31481 non-null  object\n",
      " 12  returned_user         31481 non-null  int64 \n",
      " 13  returner              31481 non-null  object\n",
      "dtypes: bool(2), int64(4), object(8)\n",
      "memory usage: 2.9+ MB\n"
     ]
    }
   ],
   "source": [
    "khan_data.info()"
   ]
  },
  {
   "cell_type": "code",
   "execution_count": 5,
   "id": "4f126270",
   "metadata": {},
   "outputs": [
    {
     "data": {
      "text/html": [
       "<div>\n",
       "<style scoped>\n",
       "    .dataframe tbody tr th:only-of-type {\n",
       "        vertical-align: middle;\n",
       "    }\n",
       "\n",
       "    .dataframe tbody tr th {\n",
       "        vertical-align: top;\n",
       "    }\n",
       "\n",
       "    .dataframe thead th {\n",
       "        text-align: right;\n",
       "    }\n",
       "</style>\n",
       "<table border=\"1\" class=\"dataframe\">\n",
       "  <thead>\n",
       "    <tr style=\"text-align: right;\">\n",
       "      <th></th>\n",
       "      <th>Unnamed: 0</th>\n",
       "      <th>timestamp</th>\n",
       "      <th>user_id</th>\n",
       "      <th>session_id</th>\n",
       "      <th>country</th>\n",
       "      <th>language</th>\n",
       "      <th>user_registered_flag</th>\n",
       "      <th>device_type</th>\n",
       "      <th>KA_app_flag</th>\n",
       "      <th>OS</th>\n",
       "      <th>URI</th>\n",
       "      <th>conversion</th>\n",
       "      <th>returned_user</th>\n",
       "      <th>returner</th>\n",
       "    </tr>\n",
       "  </thead>\n",
       "  <tbody>\n",
       "    <tr>\n",
       "      <th>0</th>\n",
       "      <td>0</td>\n",
       "      <td>2016-02-18 18:05:34.408245 UTC</td>\n",
       "      <td>461023995001001</td>\n",
       "      <td>7269247775762971847</td>\n",
       "      <td>US</td>\n",
       "      <td>en</td>\n",
       "      <td>True</td>\n",
       "      <td>desktop</td>\n",
       "      <td>False</td>\n",
       "      <td>Windows</td>\n",
       "      <td>NaN</td>\n",
       "      <td>login</td>\n",
       "      <td>1</td>\n",
       "      <td>Yes</td>\n",
       "    </tr>\n",
       "    <tr>\n",
       "      <th>1</th>\n",
       "      <td>1</td>\n",
       "      <td>2016-02-18 18:05:35.156166 UTC</td>\n",
       "      <td>461023995001001</td>\n",
       "      <td>7269247775762971847</td>\n",
       "      <td>US</td>\n",
       "      <td>en</td>\n",
       "      <td>True</td>\n",
       "      <td>desktop</td>\n",
       "      <td>False</td>\n",
       "      <td>Windows</td>\n",
       "      <td>NaN</td>\n",
       "      <td>homepage_view</td>\n",
       "      <td>1</td>\n",
       "      <td>Yes</td>\n",
       "    </tr>\n",
       "    <tr>\n",
       "      <th>2</th>\n",
       "      <td>2</td>\n",
       "      <td>2016-02-18 18:05:44.033396 UTC</td>\n",
       "      <td>461023995001001</td>\n",
       "      <td>7269247775762971847</td>\n",
       "      <td>US</td>\n",
       "      <td>en</td>\n",
       "      <td>True</td>\n",
       "      <td>desktop</td>\n",
       "      <td>False</td>\n",
       "      <td>Windows</td>\n",
       "      <td>\"/welcome\"</td>\n",
       "      <td>pageview</td>\n",
       "      <td>1</td>\n",
       "      <td>Yes</td>\n",
       "    </tr>\n",
       "    <tr>\n",
       "      <th>3</th>\n",
       "      <td>3</td>\n",
       "      <td>2016-02-18 18:06:39.681943 UTC</td>\n",
       "      <td>461023995001001</td>\n",
       "      <td>7269247775762971847</td>\n",
       "      <td>US</td>\n",
       "      <td>en</td>\n",
       "      <td>True</td>\n",
       "      <td>desktop</td>\n",
       "      <td>False</td>\n",
       "      <td>Windows</td>\n",
       "      <td>\"/math/cc-third-grade-math\"</td>\n",
       "      <td>pageview</td>\n",
       "      <td>1</td>\n",
       "      <td>Yes</td>\n",
       "    </tr>\n",
       "    <tr>\n",
       "      <th>4</th>\n",
       "      <td>4</td>\n",
       "      <td>2016-02-18 18:06:55.040427 UTC</td>\n",
       "      <td>461023995001001</td>\n",
       "      <td>7269247775762971847</td>\n",
       "      <td>US</td>\n",
       "      <td>en</td>\n",
       "      <td>True</td>\n",
       "      <td>desktop</td>\n",
       "      <td>False</td>\n",
       "      <td>Windows</td>\n",
       "      <td>\"/mission/cc-third-grade-math\"</td>\n",
       "      <td>pageview</td>\n",
       "      <td>1</td>\n",
       "      <td>Yes</td>\n",
       "    </tr>\n",
       "  </tbody>\n",
       "</table>\n",
       "</div>"
      ],
      "text/plain": [
       "   Unnamed: 0                       timestamp          user_id  \\\n",
       "0           0  2016-02-18 18:05:34.408245 UTC  461023995001001   \n",
       "1           1  2016-02-18 18:05:35.156166 UTC  461023995001001   \n",
       "2           2  2016-02-18 18:05:44.033396 UTC  461023995001001   \n",
       "3           3  2016-02-18 18:06:39.681943 UTC  461023995001001   \n",
       "4           4  2016-02-18 18:06:55.040427 UTC  461023995001001   \n",
       "\n",
       "            session_id country language  user_registered_flag device_type  \\\n",
       "0  7269247775762971847      US       en                  True     desktop   \n",
       "1  7269247775762971847      US       en                  True     desktop   \n",
       "2  7269247775762971847      US       en                  True     desktop   \n",
       "3  7269247775762971847      US       en                  True     desktop   \n",
       "4  7269247775762971847      US       en                  True     desktop   \n",
       "\n",
       "   KA_app_flag       OS                             URI     conversion  \\\n",
       "0        False  Windows                             NaN          login   \n",
       "1        False  Windows                             NaN  homepage_view   \n",
       "2        False  Windows                      \"/welcome\"       pageview   \n",
       "3        False  Windows     \"/math/cc-third-grade-math\"       pageview   \n",
       "4        False  Windows  \"/mission/cc-third-grade-math\"       pageview   \n",
       "\n",
       "   returned_user returner  \n",
       "0              1      Yes  \n",
       "1              1      Yes  \n",
       "2              1      Yes  \n",
       "3              1      Yes  \n",
       "4              1      Yes  "
      ]
     },
     "execution_count": 5,
     "metadata": {},
     "output_type": "execute_result"
    }
   ],
   "source": [
    "khan_data.head()"
   ]
  },
  {
   "cell_type": "code",
   "execution_count": 6,
   "id": "f92d1ee9",
   "metadata": {},
   "outputs": [],
   "source": [
    "khan_data = khan_data.drop(['Unnamed: 0'], axis =1)"
   ]
  },
  {
   "cell_type": "code",
   "execution_count": 7,
   "id": "15db80db",
   "metadata": {},
   "outputs": [
    {
     "name": "stdout",
     "output_type": "stream",
     "text": [
      "There are: 31481 rows.\n",
      "There are: 13 columns.\n"
     ]
    }
   ],
   "source": [
    "# Verify the dimensions of the data set\n",
    "print(\"There are:\", khan_data.shape[0], 'rows.')\n",
    "print(\"There are:\", khan_data.shape[1], 'columns.')"
   ]
  },
  {
   "cell_type": "markdown",
   "id": "9d56e076",
   "metadata": {},
   "source": [
    "### What country are the returned users from?"
   ]
  },
  {
   "cell_type": "code",
   "execution_count": 22,
   "id": "f7eee09d",
   "metadata": {},
   "outputs": [],
   "source": [
    "df = khan_data.groupby('user_id').sum()"
   ]
  },
  {
   "cell_type": "code",
   "execution_count": 24,
   "id": "95a4dfef",
   "metadata": {},
   "outputs": [
    {
     "data": {
      "text/html": [
       "<div>\n",
       "<style scoped>\n",
       "    .dataframe tbody tr th:only-of-type {\n",
       "        vertical-align: middle;\n",
       "    }\n",
       "\n",
       "    .dataframe tbody tr th {\n",
       "        vertical-align: top;\n",
       "    }\n",
       "\n",
       "    .dataframe thead th {\n",
       "        text-align: right;\n",
       "    }\n",
       "</style>\n",
       "<table border=\"1\" class=\"dataframe\">\n",
       "  <thead>\n",
       "    <tr style=\"text-align: right;\">\n",
       "      <th></th>\n",
       "      <th>session_id</th>\n",
       "      <th>user_registered_flag</th>\n",
       "      <th>KA_app_flag</th>\n",
       "      <th>returned_user</th>\n",
       "    </tr>\n",
       "    <tr>\n",
       "      <th>user_id</th>\n",
       "      <th></th>\n",
       "      <th></th>\n",
       "      <th></th>\n",
       "      <th></th>\n",
       "    </tr>\n",
       "  </thead>\n",
       "  <tbody>\n",
       "    <tr>\n",
       "      <th>461023995001001</th>\n",
       "      <td>1.574111e+20</td>\n",
       "      <td>139</td>\n",
       "      <td>0</td>\n",
       "      <td>139</td>\n",
       "    </tr>\n",
       "    <tr>\n",
       "      <th>3899589871790001</th>\n",
       "      <td>1.268540e+19</td>\n",
       "      <td>9</td>\n",
       "      <td>0</td>\n",
       "      <td>0</td>\n",
       "    </tr>\n",
       "    <tr>\n",
       "      <th>6937833080824001</th>\n",
       "      <td>-3.123441e+19</td>\n",
       "      <td>0</td>\n",
       "      <td>0</td>\n",
       "      <td>0</td>\n",
       "    </tr>\n",
       "    <tr>\n",
       "      <th>8828372710491001</th>\n",
       "      <td>-1.650525e+20</td>\n",
       "      <td>0</td>\n",
       "      <td>0</td>\n",
       "      <td>0</td>\n",
       "    </tr>\n",
       "    <tr>\n",
       "      <th>9396148830887001</th>\n",
       "      <td>-5.837858e+18</td>\n",
       "      <td>0</td>\n",
       "      <td>0</td>\n",
       "      <td>11</td>\n",
       "    </tr>\n",
       "  </tbody>\n",
       "</table>\n",
       "</div>"
      ],
      "text/plain": [
       "                    session_id  user_registered_flag  KA_app_flag  \\\n",
       "user_id                                                             \n",
       "461023995001001   1.574111e+20                   139            0   \n",
       "3899589871790001  1.268540e+19                     9            0   \n",
       "6937833080824001 -3.123441e+19                     0            0   \n",
       "8828372710491001 -1.650525e+20                     0            0   \n",
       "9396148830887001 -5.837858e+18                     0            0   \n",
       "\n",
       "                  returned_user  \n",
       "user_id                          \n",
       "461023995001001             139  \n",
       "3899589871790001              0  \n",
       "6937833080824001              0  \n",
       "8828372710491001              0  \n",
       "9396148830887001             11  "
      ]
     },
     "execution_count": 24,
     "metadata": {},
     "output_type": "execute_result"
    }
   ],
   "source": [
    "df.head()"
   ]
  },
  {
   "cell_type": "code",
   "execution_count": 50,
   "id": "b5f88ade",
   "metadata": {},
   "outputs": [],
   "source": [
    "return_df = khan_data[khan_data['returned_user'] > 0]"
   ]
  },
  {
   "cell_type": "code",
   "execution_count": 51,
   "id": "4f114289",
   "metadata": {},
   "outputs": [
    {
     "data": {
      "text/html": [
       "<div>\n",
       "<style scoped>\n",
       "    .dataframe tbody tr th:only-of-type {\n",
       "        vertical-align: middle;\n",
       "    }\n",
       "\n",
       "    .dataframe tbody tr th {\n",
       "        vertical-align: top;\n",
       "    }\n",
       "\n",
       "    .dataframe thead th {\n",
       "        text-align: right;\n",
       "    }\n",
       "</style>\n",
       "<table border=\"1\" class=\"dataframe\">\n",
       "  <thead>\n",
       "    <tr style=\"text-align: right;\">\n",
       "      <th></th>\n",
       "      <th>timestamp</th>\n",
       "      <th>user_id</th>\n",
       "      <th>session_id</th>\n",
       "      <th>country</th>\n",
       "      <th>language</th>\n",
       "      <th>user_registered_flag</th>\n",
       "      <th>device_type</th>\n",
       "      <th>KA_app_flag</th>\n",
       "      <th>OS</th>\n",
       "      <th>URI</th>\n",
       "      <th>conversion</th>\n",
       "      <th>returned_user</th>\n",
       "      <th>returner</th>\n",
       "    </tr>\n",
       "  </thead>\n",
       "  <tbody>\n",
       "    <tr>\n",
       "      <th>0</th>\n",
       "      <td>2016-02-18 18:05:34.408245 UTC</td>\n",
       "      <td>461023995001001</td>\n",
       "      <td>7269247775762971847</td>\n",
       "      <td>US</td>\n",
       "      <td>en</td>\n",
       "      <td>True</td>\n",
       "      <td>desktop</td>\n",
       "      <td>False</td>\n",
       "      <td>Windows</td>\n",
       "      <td>NaN</td>\n",
       "      <td>login</td>\n",
       "      <td>1</td>\n",
       "      <td>Yes</td>\n",
       "    </tr>\n",
       "    <tr>\n",
       "      <th>1</th>\n",
       "      <td>2016-02-18 18:05:35.156166 UTC</td>\n",
       "      <td>461023995001001</td>\n",
       "      <td>7269247775762971847</td>\n",
       "      <td>US</td>\n",
       "      <td>en</td>\n",
       "      <td>True</td>\n",
       "      <td>desktop</td>\n",
       "      <td>False</td>\n",
       "      <td>Windows</td>\n",
       "      <td>NaN</td>\n",
       "      <td>homepage_view</td>\n",
       "      <td>1</td>\n",
       "      <td>Yes</td>\n",
       "    </tr>\n",
       "    <tr>\n",
       "      <th>2</th>\n",
       "      <td>2016-02-18 18:05:44.033396 UTC</td>\n",
       "      <td>461023995001001</td>\n",
       "      <td>7269247775762971847</td>\n",
       "      <td>US</td>\n",
       "      <td>en</td>\n",
       "      <td>True</td>\n",
       "      <td>desktop</td>\n",
       "      <td>False</td>\n",
       "      <td>Windows</td>\n",
       "      <td>\"/welcome\"</td>\n",
       "      <td>pageview</td>\n",
       "      <td>1</td>\n",
       "      <td>Yes</td>\n",
       "    </tr>\n",
       "    <tr>\n",
       "      <th>3</th>\n",
       "      <td>2016-02-18 18:06:39.681943 UTC</td>\n",
       "      <td>461023995001001</td>\n",
       "      <td>7269247775762971847</td>\n",
       "      <td>US</td>\n",
       "      <td>en</td>\n",
       "      <td>True</td>\n",
       "      <td>desktop</td>\n",
       "      <td>False</td>\n",
       "      <td>Windows</td>\n",
       "      <td>\"/math/cc-third-grade-math\"</td>\n",
       "      <td>pageview</td>\n",
       "      <td>1</td>\n",
       "      <td>Yes</td>\n",
       "    </tr>\n",
       "    <tr>\n",
       "      <th>4</th>\n",
       "      <td>2016-02-18 18:06:55.040427 UTC</td>\n",
       "      <td>461023995001001</td>\n",
       "      <td>7269247775762971847</td>\n",
       "      <td>US</td>\n",
       "      <td>en</td>\n",
       "      <td>True</td>\n",
       "      <td>desktop</td>\n",
       "      <td>False</td>\n",
       "      <td>Windows</td>\n",
       "      <td>\"/mission/cc-third-grade-math\"</td>\n",
       "      <td>pageview</td>\n",
       "      <td>1</td>\n",
       "      <td>Yes</td>\n",
       "    </tr>\n",
       "  </tbody>\n",
       "</table>\n",
       "</div>"
      ],
      "text/plain": [
       "                        timestamp          user_id           session_id  \\\n",
       "0  2016-02-18 18:05:34.408245 UTC  461023995001001  7269247775762971847   \n",
       "1  2016-02-18 18:05:35.156166 UTC  461023995001001  7269247775762971847   \n",
       "2  2016-02-18 18:05:44.033396 UTC  461023995001001  7269247775762971847   \n",
       "3  2016-02-18 18:06:39.681943 UTC  461023995001001  7269247775762971847   \n",
       "4  2016-02-18 18:06:55.040427 UTC  461023995001001  7269247775762971847   \n",
       "\n",
       "  country language  user_registered_flag device_type  KA_app_flag       OS  \\\n",
       "0      US       en                  True     desktop        False  Windows   \n",
       "1      US       en                  True     desktop        False  Windows   \n",
       "2      US       en                  True     desktop        False  Windows   \n",
       "3      US       en                  True     desktop        False  Windows   \n",
       "4      US       en                  True     desktop        False  Windows   \n",
       "\n",
       "                              URI     conversion  returned_user returner  \n",
       "0                             NaN          login              1      Yes  \n",
       "1                             NaN  homepage_view              1      Yes  \n",
       "2                      \"/welcome\"       pageview              1      Yes  \n",
       "3     \"/math/cc-third-grade-math\"       pageview              1      Yes  \n",
       "4  \"/mission/cc-third-grade-math\"       pageview              1      Yes  "
      ]
     },
     "execution_count": 51,
     "metadata": {},
     "output_type": "execute_result"
    }
   ],
   "source": [
    "return_df.head(5)"
   ]
  },
  {
   "cell_type": "code",
   "execution_count": 53,
   "id": "7b521196",
   "metadata": {},
   "outputs": [
    {
     "data": {
      "text/html": [
       "<div>\n",
       "<style scoped>\n",
       "    .dataframe tbody tr th:only-of-type {\n",
       "        vertical-align: middle;\n",
       "    }\n",
       "\n",
       "    .dataframe tbody tr th {\n",
       "        vertical-align: top;\n",
       "    }\n",
       "\n",
       "    .dataframe thead th {\n",
       "        text-align: right;\n",
       "    }\n",
       "</style>\n",
       "<table border=\"1\" class=\"dataframe\">\n",
       "  <thead>\n",
       "    <tr style=\"text-align: right;\">\n",
       "      <th></th>\n",
       "      <th>user_id</th>\n",
       "      <th>session_id</th>\n",
       "      <th>returned_user</th>\n",
       "    </tr>\n",
       "  </thead>\n",
       "  <tbody>\n",
       "    <tr>\n",
       "      <th>count</th>\n",
       "      <td>2.179000e+04</td>\n",
       "      <td>2.179000e+04</td>\n",
       "      <td>21790.000000</td>\n",
       "    </tr>\n",
       "    <tr>\n",
       "      <th>mean</th>\n",
       "      <td>4.807244e+18</td>\n",
       "      <td>-2.074884e+17</td>\n",
       "      <td>3.426251</td>\n",
       "    </tr>\n",
       "    <tr>\n",
       "      <th>std</th>\n",
       "      <td>2.699985e+18</td>\n",
       "      <td>5.207333e+18</td>\n",
       "      <td>3.055689</td>\n",
       "    </tr>\n",
       "    <tr>\n",
       "      <th>min</th>\n",
       "      <td>4.610240e+14</td>\n",
       "      <td>-9.221803e+18</td>\n",
       "      <td>1.000000</td>\n",
       "    </tr>\n",
       "    <tr>\n",
       "      <th>25%</th>\n",
       "      <td>2.527038e+18</td>\n",
       "      <td>-4.523321e+18</td>\n",
       "      <td>1.000000</td>\n",
       "    </tr>\n",
       "    <tr>\n",
       "      <th>50%</th>\n",
       "      <td>5.059945e+18</td>\n",
       "      <td>-2.042856e+17</td>\n",
       "      <td>2.000000</td>\n",
       "    </tr>\n",
       "    <tr>\n",
       "      <th>75%</th>\n",
       "      <td>7.032804e+18</td>\n",
       "      <td>4.150092e+18</td>\n",
       "      <td>4.000000</td>\n",
       "    </tr>\n",
       "    <tr>\n",
       "      <th>max</th>\n",
       "      <td>9.185771e+18</td>\n",
       "      <td>9.212772e+18</td>\n",
       "      <td>13.000000</td>\n",
       "    </tr>\n",
       "  </tbody>\n",
       "</table>\n",
       "</div>"
      ],
      "text/plain": [
       "            user_id    session_id  returned_user\n",
       "count  2.179000e+04  2.179000e+04   21790.000000\n",
       "mean   4.807244e+18 -2.074884e+17       3.426251\n",
       "std    2.699985e+18  5.207333e+18       3.055689\n",
       "min    4.610240e+14 -9.221803e+18       1.000000\n",
       "25%    2.527038e+18 -4.523321e+18       1.000000\n",
       "50%    5.059945e+18 -2.042856e+17       2.000000\n",
       "75%    7.032804e+18  4.150092e+18       4.000000\n",
       "max    9.185771e+18  9.212772e+18      13.000000"
      ]
     },
     "execution_count": 53,
     "metadata": {},
     "output_type": "execute_result"
    }
   ],
   "source": [
    "return_df.describe()\n",
    "# Verify dataframe consist of only returned users"
   ]
  },
  {
   "cell_type": "code",
   "execution_count": 58,
   "id": "7df0204c",
   "metadata": {},
   "outputs": [
    {
     "data": {
      "text/html": [
       "<div>\n",
       "<style scoped>\n",
       "    .dataframe tbody tr th:only-of-type {\n",
       "        vertical-align: middle;\n",
       "    }\n",
       "\n",
       "    .dataframe tbody tr th {\n",
       "        vertical-align: top;\n",
       "    }\n",
       "\n",
       "    .dataframe thead th {\n",
       "        text-align: right;\n",
       "    }\n",
       "</style>\n",
       "<table border=\"1\" class=\"dataframe\">\n",
       "  <thead>\n",
       "    <tr style=\"text-align: right;\">\n",
       "      <th></th>\n",
       "      <th>timestamp</th>\n",
       "      <th>user_id</th>\n",
       "      <th>session_id</th>\n",
       "      <th>country</th>\n",
       "      <th>language</th>\n",
       "      <th>user_registered_flag</th>\n",
       "      <th>device_type</th>\n",
       "      <th>KA_app_flag</th>\n",
       "      <th>OS</th>\n",
       "      <th>URI</th>\n",
       "      <th>conversion</th>\n",
       "      <th>returned_user</th>\n",
       "      <th>returner</th>\n",
       "    </tr>\n",
       "  </thead>\n",
       "  <tbody>\n",
       "    <tr>\n",
       "      <th>138</th>\n",
       "      <td>2016-02-19 16:19:11.355615 UTC</td>\n",
       "      <td>461023995001001</td>\n",
       "      <td>-5655212259149079409</td>\n",
       "      <td>US</td>\n",
       "      <td>en</td>\n",
       "      <td>True</td>\n",
       "      <td>desktop</td>\n",
       "      <td>False</td>\n",
       "      <td>Windows</td>\n",
       "      <td>\"/mission/cc-fifth-grade-math\"</td>\n",
       "      <td>pageview</td>\n",
       "      <td>1</td>\n",
       "      <td>Yes</td>\n",
       "    </tr>\n",
       "    <tr>\n",
       "      <th>209</th>\n",
       "      <td>2016-02-20 03:45:32.362904 UTC</td>\n",
       "      <td>9396148830887001</td>\n",
       "      <td>-778335911492825326</td>\n",
       "      <td>US</td>\n",
       "      <td>en</td>\n",
       "      <td>False</td>\n",
       "      <td>tablet</td>\n",
       "      <td>False</td>\n",
       "      <td>iOS</td>\n",
       "      <td>\"/science/health-and-medicine/human-anatomy-an...</td>\n",
       "      <td>pageview</td>\n",
       "      <td>1</td>\n",
       "      <td>Yes</td>\n",
       "    </tr>\n",
       "    <tr>\n",
       "      <th>243</th>\n",
       "      <td>2016-02-21 15:28:10.721395 UTC</td>\n",
       "      <td>74637567607782001</td>\n",
       "      <td>7162126794463536697</td>\n",
       "      <td>AE</td>\n",
       "      <td>en</td>\n",
       "      <td>True</td>\n",
       "      <td>desktop</td>\n",
       "      <td>False</td>\n",
       "      <td>Windows</td>\n",
       "      <td>\"/search\"</td>\n",
       "      <td>pageview</td>\n",
       "      <td>1</td>\n",
       "      <td>Yes</td>\n",
       "    </tr>\n",
       "    <tr>\n",
       "      <th>275</th>\n",
       "      <td>2016-02-21 17:06:23.010416 UTC</td>\n",
       "      <td>81767633900011001</td>\n",
       "      <td>7119046949360524718</td>\n",
       "      <td>US</td>\n",
       "      <td>en</td>\n",
       "      <td>True</td>\n",
       "      <td>desktop</td>\n",
       "      <td>False</td>\n",
       "      <td>Mac OS X</td>\n",
       "      <td>\"/search\"</td>\n",
       "      <td>pageview</td>\n",
       "      <td>2</td>\n",
       "      <td>Yes</td>\n",
       "    </tr>\n",
       "    <tr>\n",
       "      <th>313</th>\n",
       "      <td>2016-02-21 00:40:44.980191 UTC</td>\n",
       "      <td>83959543776228001</td>\n",
       "      <td>-6665995564916180123</td>\n",
       "      <td>NZ</td>\n",
       "      <td>en</td>\n",
       "      <td>True</td>\n",
       "      <td>desktop</td>\n",
       "      <td>False</td>\n",
       "      <td>Windows</td>\n",
       "      <td>\"/mission/algebra-basics/task/4504950610984960\"</td>\n",
       "      <td>pageview</td>\n",
       "      <td>2</td>\n",
       "      <td>Yes</td>\n",
       "    </tr>\n",
       "    <tr>\n",
       "      <th>...</th>\n",
       "      <td>...</td>\n",
       "      <td>...</td>\n",
       "      <td>...</td>\n",
       "      <td>...</td>\n",
       "      <td>...</td>\n",
       "      <td>...</td>\n",
       "      <td>...</td>\n",
       "      <td>...</td>\n",
       "      <td>...</td>\n",
       "      <td>...</td>\n",
       "      <td>...</td>\n",
       "      <td>...</td>\n",
       "      <td>...</td>\n",
       "    </tr>\n",
       "    <tr>\n",
       "      <th>31205</th>\n",
       "      <td>2016-02-18 19:21:08.784572 UTC</td>\n",
       "      <td>9122425802682030001</td>\n",
       "      <td>2088240948503387981</td>\n",
       "      <td>US</td>\n",
       "      <td>en</td>\n",
       "      <td>True</td>\n",
       "      <td>desktop</td>\n",
       "      <td>False</td>\n",
       "      <td>Windows</td>\n",
       "      <td>\"/computing/hour-of-code/hour-of-drawing-code/...</td>\n",
       "      <td>pageview</td>\n",
       "      <td>1</td>\n",
       "      <td>Yes</td>\n",
       "    </tr>\n",
       "    <tr>\n",
       "      <th>31236</th>\n",
       "      <td>2016-02-15 23:44:58.981123 UTC</td>\n",
       "      <td>9159091238978455001</td>\n",
       "      <td>5070113962107293020</td>\n",
       "      <td>AU</td>\n",
       "      <td>en</td>\n",
       "      <td>False</td>\n",
       "      <td>phone</td>\n",
       "      <td>False</td>\n",
       "      <td>iOS</td>\n",
       "      <td>\"/humanities/history/ancient-medieval/medieval...</td>\n",
       "      <td>pageview</td>\n",
       "      <td>1</td>\n",
       "      <td>Yes</td>\n",
       "    </tr>\n",
       "    <tr>\n",
       "      <th>31265</th>\n",
       "      <td>2016-02-19 16:56:44.264519 UTC</td>\n",
       "      <td>9163646750174043001</td>\n",
       "      <td>-780356836992673019</td>\n",
       "      <td>US</td>\n",
       "      <td>en</td>\n",
       "      <td>True</td>\n",
       "      <td>desktop</td>\n",
       "      <td>False</td>\n",
       "      <td>Chrome OS</td>\n",
       "      <td>NaN</td>\n",
       "      <td>video_started</td>\n",
       "      <td>4</td>\n",
       "      <td>Yes</td>\n",
       "    </tr>\n",
       "    <tr>\n",
       "      <th>31267</th>\n",
       "      <td>2016-02-20 21:15:50.377342 UTC</td>\n",
       "      <td>9167644762374088001</td>\n",
       "      <td>-5211036702150541581</td>\n",
       "      <td>MY</td>\n",
       "      <td>en</td>\n",
       "      <td>False</td>\n",
       "      <td>desktop</td>\n",
       "      <td>False</td>\n",
       "      <td>Windows</td>\n",
       "      <td>\"/science/chemistry/periodic-table/periodic-ta...</td>\n",
       "      <td>pageview</td>\n",
       "      <td>1</td>\n",
       "      <td>Yes</td>\n",
       "    </tr>\n",
       "    <tr>\n",
       "      <th>31425</th>\n",
       "      <td>2016-02-19 16:41:25.926693 UTC</td>\n",
       "      <td>9185770894933884001</td>\n",
       "      <td>-7512668114897161685</td>\n",
       "      <td>US</td>\n",
       "      <td>en</td>\n",
       "      <td>True</td>\n",
       "      <td>tablet</td>\n",
       "      <td>False</td>\n",
       "      <td>iOS</td>\n",
       "      <td>\"/math/algebra-basics/core-algebra-linear-equa...</td>\n",
       "      <td>pageview</td>\n",
       "      <td>4</td>\n",
       "      <td>Yes</td>\n",
       "    </tr>\n",
       "  </tbody>\n",
       "</table>\n",
       "<p>432 rows × 13 columns</p>\n",
       "</div>"
      ],
      "text/plain": [
       "                            timestamp              user_id  \\\n",
       "138    2016-02-19 16:19:11.355615 UTC      461023995001001   \n",
       "209    2016-02-20 03:45:32.362904 UTC     9396148830887001   \n",
       "243    2016-02-21 15:28:10.721395 UTC    74637567607782001   \n",
       "275    2016-02-21 17:06:23.010416 UTC    81767633900011001   \n",
       "313    2016-02-21 00:40:44.980191 UTC    83959543776228001   \n",
       "...                               ...                  ...   \n",
       "31205  2016-02-18 19:21:08.784572 UTC  9122425802682030001   \n",
       "31236  2016-02-15 23:44:58.981123 UTC  9159091238978455001   \n",
       "31265  2016-02-19 16:56:44.264519 UTC  9163646750174043001   \n",
       "31267  2016-02-20 21:15:50.377342 UTC  9167644762374088001   \n",
       "31425  2016-02-19 16:41:25.926693 UTC  9185770894933884001   \n",
       "\n",
       "                session_id country language  user_registered_flag device_type  \\\n",
       "138   -5655212259149079409      US       en                  True     desktop   \n",
       "209    -778335911492825326      US       en                 False      tablet   \n",
       "243    7162126794463536697      AE       en                  True     desktop   \n",
       "275    7119046949360524718      US       en                  True     desktop   \n",
       "313   -6665995564916180123      NZ       en                  True     desktop   \n",
       "...                    ...     ...      ...                   ...         ...   \n",
       "31205  2088240948503387981      US       en                  True     desktop   \n",
       "31236  5070113962107293020      AU       en                 False       phone   \n",
       "31265  -780356836992673019      US       en                  True     desktop   \n",
       "31267 -5211036702150541581      MY       en                 False     desktop   \n",
       "31425 -7512668114897161685      US       en                  True      tablet   \n",
       "\n",
       "       KA_app_flag         OS  \\\n",
       "138          False    Windows   \n",
       "209          False        iOS   \n",
       "243          False    Windows   \n",
       "275          False   Mac OS X   \n",
       "313          False    Windows   \n",
       "...            ...        ...   \n",
       "31205        False    Windows   \n",
       "31236        False        iOS   \n",
       "31265        False  Chrome OS   \n",
       "31267        False    Windows   \n",
       "31425        False        iOS   \n",
       "\n",
       "                                                     URI     conversion  \\\n",
       "138                       \"/mission/cc-fifth-grade-math\"       pageview   \n",
       "209    \"/science/health-and-medicine/human-anatomy-an...       pageview   \n",
       "243                                            \"/search\"       pageview   \n",
       "275                                            \"/search\"       pageview   \n",
       "313      \"/mission/algebra-basics/task/4504950610984960\"       pageview   \n",
       "...                                                  ...            ...   \n",
       "31205  \"/computing/hour-of-code/hour-of-drawing-code/...       pageview   \n",
       "31236  \"/humanities/history/ancient-medieval/medieval...       pageview   \n",
       "31265                                                NaN  video_started   \n",
       "31267  \"/science/chemistry/periodic-table/periodic-ta...       pageview   \n",
       "31425  \"/math/algebra-basics/core-algebra-linear-equa...       pageview   \n",
       "\n",
       "       returned_user returner  \n",
       "138                1      Yes  \n",
       "209                1      Yes  \n",
       "243                1      Yes  \n",
       "275                2      Yes  \n",
       "313                2      Yes  \n",
       "...              ...      ...  \n",
       "31205              1      Yes  \n",
       "31236              1      Yes  \n",
       "31265              4      Yes  \n",
       "31267              1      Yes  \n",
       "31425              4      Yes  \n",
       "\n",
       "[432 rows x 13 columns]"
      ]
     },
     "execution_count": 58,
     "metadata": {},
     "output_type": "execute_result"
    }
   ],
   "source": [
    "return_df.drop_duplicates(subset='user_id', keep='last')"
   ]
  },
  {
   "cell_type": "code",
   "execution_count": 59,
   "id": "d167c437",
   "metadata": {},
   "outputs": [
    {
     "data": {
      "text/html": [
       "<div>\n",
       "<style scoped>\n",
       "    .dataframe tbody tr th:only-of-type {\n",
       "        vertical-align: middle;\n",
       "    }\n",
       "\n",
       "    .dataframe tbody tr th {\n",
       "        vertical-align: top;\n",
       "    }\n",
       "\n",
       "    .dataframe thead th {\n",
       "        text-align: right;\n",
       "    }\n",
       "</style>\n",
       "<table border=\"1\" class=\"dataframe\">\n",
       "  <thead>\n",
       "    <tr style=\"text-align: right;\">\n",
       "      <th></th>\n",
       "      <th>timestamp</th>\n",
       "      <th>user_id</th>\n",
       "      <th>session_id</th>\n",
       "      <th>country</th>\n",
       "      <th>language</th>\n",
       "      <th>user_registered_flag</th>\n",
       "      <th>device_type</th>\n",
       "      <th>KA_app_flag</th>\n",
       "      <th>OS</th>\n",
       "      <th>URI</th>\n",
       "      <th>conversion</th>\n",
       "      <th>returned_user</th>\n",
       "      <th>returner</th>\n",
       "    </tr>\n",
       "  </thead>\n",
       "  <tbody>\n",
       "    <tr>\n",
       "      <th>0</th>\n",
       "      <td>2016-02-18 18:05:34.408245 UTC</td>\n",
       "      <td>461023995001001</td>\n",
       "      <td>7269247775762971847</td>\n",
       "      <td>US</td>\n",
       "      <td>en</td>\n",
       "      <td>True</td>\n",
       "      <td>desktop</td>\n",
       "      <td>False</td>\n",
       "      <td>Windows</td>\n",
       "      <td>NaN</td>\n",
       "      <td>login</td>\n",
       "      <td>1</td>\n",
       "      <td>Yes</td>\n",
       "    </tr>\n",
       "    <tr>\n",
       "      <th>1</th>\n",
       "      <td>2016-02-18 18:05:35.156166 UTC</td>\n",
       "      <td>461023995001001</td>\n",
       "      <td>7269247775762971847</td>\n",
       "      <td>US</td>\n",
       "      <td>en</td>\n",
       "      <td>True</td>\n",
       "      <td>desktop</td>\n",
       "      <td>False</td>\n",
       "      <td>Windows</td>\n",
       "      <td>NaN</td>\n",
       "      <td>homepage_view</td>\n",
       "      <td>1</td>\n",
       "      <td>Yes</td>\n",
       "    </tr>\n",
       "    <tr>\n",
       "      <th>2</th>\n",
       "      <td>2016-02-18 18:05:44.033396 UTC</td>\n",
       "      <td>461023995001001</td>\n",
       "      <td>7269247775762971847</td>\n",
       "      <td>US</td>\n",
       "      <td>en</td>\n",
       "      <td>True</td>\n",
       "      <td>desktop</td>\n",
       "      <td>False</td>\n",
       "      <td>Windows</td>\n",
       "      <td>\"/welcome\"</td>\n",
       "      <td>pageview</td>\n",
       "      <td>1</td>\n",
       "      <td>Yes</td>\n",
       "    </tr>\n",
       "    <tr>\n",
       "      <th>3</th>\n",
       "      <td>2016-02-18 18:06:39.681943 UTC</td>\n",
       "      <td>461023995001001</td>\n",
       "      <td>7269247775762971847</td>\n",
       "      <td>US</td>\n",
       "      <td>en</td>\n",
       "      <td>True</td>\n",
       "      <td>desktop</td>\n",
       "      <td>False</td>\n",
       "      <td>Windows</td>\n",
       "      <td>\"/math/cc-third-grade-math\"</td>\n",
       "      <td>pageview</td>\n",
       "      <td>1</td>\n",
       "      <td>Yes</td>\n",
       "    </tr>\n",
       "    <tr>\n",
       "      <th>4</th>\n",
       "      <td>2016-02-18 18:06:55.040427 UTC</td>\n",
       "      <td>461023995001001</td>\n",
       "      <td>7269247775762971847</td>\n",
       "      <td>US</td>\n",
       "      <td>en</td>\n",
       "      <td>True</td>\n",
       "      <td>desktop</td>\n",
       "      <td>False</td>\n",
       "      <td>Windows</td>\n",
       "      <td>\"/mission/cc-third-grade-math\"</td>\n",
       "      <td>pageview</td>\n",
       "      <td>1</td>\n",
       "      <td>Yes</td>\n",
       "    </tr>\n",
       "  </tbody>\n",
       "</table>\n",
       "</div>"
      ],
      "text/plain": [
       "                        timestamp          user_id           session_id  \\\n",
       "0  2016-02-18 18:05:34.408245 UTC  461023995001001  7269247775762971847   \n",
       "1  2016-02-18 18:05:35.156166 UTC  461023995001001  7269247775762971847   \n",
       "2  2016-02-18 18:05:44.033396 UTC  461023995001001  7269247775762971847   \n",
       "3  2016-02-18 18:06:39.681943 UTC  461023995001001  7269247775762971847   \n",
       "4  2016-02-18 18:06:55.040427 UTC  461023995001001  7269247775762971847   \n",
       "\n",
       "  country language  user_registered_flag device_type  KA_app_flag       OS  \\\n",
       "0      US       en                  True     desktop        False  Windows   \n",
       "1      US       en                  True     desktop        False  Windows   \n",
       "2      US       en                  True     desktop        False  Windows   \n",
       "3      US       en                  True     desktop        False  Windows   \n",
       "4      US       en                  True     desktop        False  Windows   \n",
       "\n",
       "                              URI     conversion  returned_user returner  \n",
       "0                             NaN          login              1      Yes  \n",
       "1                             NaN  homepage_view              1      Yes  \n",
       "2                      \"/welcome\"       pageview              1      Yes  \n",
       "3     \"/math/cc-third-grade-math\"       pageview              1      Yes  \n",
       "4  \"/mission/cc-third-grade-math\"       pageview              1      Yes  "
      ]
     },
     "execution_count": 59,
     "metadata": {},
     "output_type": "execute_result"
    }
   ],
   "source": [
    "return_df.head()"
   ]
  },
  {
   "cell_type": "code",
   "execution_count": 27,
   "id": "51ecde03",
   "metadata": {},
   "outputs": [
    {
     "data": {
      "text/plain": [
       "count     31481\n",
       "unique       77\n",
       "top          US\n",
       "freq      21973\n",
       "Name: country, dtype: object"
      ]
     },
     "execution_count": 27,
     "metadata": {},
     "output_type": "execute_result"
    }
   ],
   "source": [
    "khan_data.country.describe()"
   ]
  },
  {
   "cell_type": "code",
   "execution_count": 60,
   "id": "d42dbff2",
   "metadata": {},
   "outputs": [
    {
     "data": {
      "text/plain": [
       "country\n",
       "US    14761\n",
       "CA     1529\n",
       "IE      992\n",
       "BR      461\n",
       "GB      441\n",
       "NL      417\n",
       "AU      350\n",
       "NZ      330\n",
       "IN      278\n",
       "ZA      247\n",
       "ES      226\n",
       "RU      210\n",
       "MX      209\n",
       "NO      154\n",
       "PT      140\n",
       "CN      118\n",
       "SG       88\n",
       "DE       87\n",
       "JP       72\n",
       "GT       66\n",
       "MY       66\n",
       "KH       54\n",
       "DK       53\n",
       "RW       50\n",
       "IL       46\n",
       "NG       38\n",
       "BD       38\n",
       "RS       36\n",
       "SE       28\n",
       "EG       27\n",
       "PL       24\n",
       "AE       21\n",
       "JM       20\n",
       "KR       19\n",
       "ID       16\n",
       "UA       16\n",
       "TR       15\n",
       "KE       14\n",
       "PH       13\n",
       "TT       13\n",
       "BZ        3\n",
       "AT        2\n",
       "GU        2\n",
       "dtype: int64"
      ]
     },
     "execution_count": 60,
     "metadata": {},
     "output_type": "execute_result"
    }
   ],
   "source": [
    "return_df.groupby(by='country').size().sort_values(ascending=False)"
   ]
  },
  {
   "cell_type": "code",
   "execution_count": 64,
   "id": "bd201a32",
   "metadata": {},
   "outputs": [
    {
     "data": {
      "text/plain": [
       "country\n",
       "US    21973\n",
       "CA     1842\n",
       "IE     1049\n",
       "GB      649\n",
       "BR      617\n",
       "      ...  \n",
       "CI        2\n",
       "GU        2\n",
       "AM        1\n",
       "MA        1\n",
       "DO        1\n",
       "Length: 77, dtype: int64"
      ]
     },
     "execution_count": 64,
     "metadata": {},
     "output_type": "execute_result"
    }
   ],
   "source": [
    "khan_data.groupby(by='country').size().sort_values(ascending=False)"
   ]
  },
  {
   "cell_type": "markdown",
   "id": "a5a4baab",
   "metadata": {},
   "source": [
    "We can see that the US has the most returned users, with Canada second\n",
    "\n",
    "We would expect that English is the most common language - lets confirm "
   ]
  },
  {
   "cell_type": "code",
   "execution_count": 102,
   "id": "4e4f6a16",
   "metadata": {},
   "outputs": [
    {
     "data": {
      "image/png": "[encoded data removed]",
      "text/plain": [
       "<Figure size 360x360 with 1 Axes>"
      ]
     },
     "metadata": {
      "needs_background": "light"
     },
     "output_type": "display_data"
    }
   ],
   "source": [
    "sns.catplot(x='country', kind='count', data=return_df)\n",
    "plt.show()"
   ]
  },
  {
   "cell_type": "code",
   "execution_count": 136,
   "id": "86be09b2",
   "metadata": {},
   "outputs": [
    {
     "name": "stderr",
     "output_type": "stream",
     "text": [
      "/var/folders/fm/r8vdcc0j4hvbghm21g_f8gvh0000gn/T/ipykernel_55063/1008615516.py:7: SettingWithCopyWarning: \n",
      "A value is trying to be set on a copy of a slice from a DataFrame.\n",
      "Try using .loc[row_indexer,col_indexer] = value instead\n",
      "\n",
      "See the caveats in the documentation: https://pandas.pydata.org/pandas-docs/stable/user_guide/indexing.html#returning-a-view-versus-a-copy\n",
      "  return_df['country_mapped'] = return_df.country.map(mapping)\n"
     ]
    }
   ],
   "source": [
    "mapping = {'US':'USA', 'CA':'NA', 'IE':'UK', 'BR':'SA', 'GB':'UK', 'NL':'P', 'AU':'P', 'NZ':'P', 'IN':'AS', 'ZA':'AF',\n",
    "'ES':'EU', 'RU':'EU', 'MX':'NA', 'NO':'EU', 'PT':'EU', 'CN':'AS', 'SG':'AS', 'DE':'EU', 'JP':'AS', 'GT': 'SA',\n",
    " 'MY':'AS', 'KH':'AS', 'DK':'EU', 'RW':'AF', 'IL':'ME', 'NG':'AF', 'BD':'AS', 'RS':'EU', 'SE':'EU', 'EG':'ME',\n",
    " 'PL':'EU', 'AE':'ME', 'JM':'CAR', 'KR':'AS', 'ID':'AS', 'UA':'EU', 'TR':'EU', 'KE':'AF','PH':'AS', 'TT':'CAR',\n",
    " 'BZ':'SA','AT':'EU', 'GU':'P'}\n",
    "\n",
    "return_df['country_mapped'] = return_df.country.map(mapping)"
   ]
  },
  {
   "cell_type": "code",
   "execution_count": 137,
   "id": "8e334b2f",
   "metadata": {},
   "outputs": [
    {
     "data": {
      "image/png": "[encoded data removed]",
      "text/plain": [
       "<Figure size 360x360 with 1 Axes>"
      ]
     },
     "metadata": {
      "needs_background": "light"
     },
     "output_type": "display_data"
    }
   ],
   "source": [
    "ax = sns.catplot(x='country_mapped', kind='count', data=return_df)\n",
    "plt.show()"
   ]
  },
  {
   "cell_type": "markdown",
   "id": "7fd2ac37",
   "metadata": {},
   "source": [
    "ME=Middle East, EU=Europe, CAR=Carribean, AS=Asia, AF= Africa, NA=North America(not including USA),\n",
    "UK=United Kingdom, SA=South America, P= Pacific"
   ]
  },
  {
   "cell_type": "code",
   "execution_count": 132,
   "id": "bbc85b67",
   "metadata": {},
   "outputs": [
    {
     "data": {
      "text/plain": [
       "language\n",
       "en         29697\n",
       "es           904\n",
       "pt           620\n",
       "nb           161\n",
       "pl            38\n",
       "tr            24\n",
       "da            19\n",
       "fr            11\n",
       "th             4\n",
       "zh-HANS        2\n",
       "de             1\n",
       "dtype: int64"
      ]
     },
     "execution_count": 132,
     "metadata": {},
     "output_type": "execute_result"
    }
   ],
   "source": [
    "khan_data.groupby(by='language').size().sort_values(ascending=False)"
   ]
  },
  {
   "cell_type": "markdown",
   "id": "f55d4eb2",
   "metadata": {},
   "source": [
    "English is by far the most common language for returned users and users outside of the english speaking countries are learning in english. This is to be expected as most of Khan Academy's videos are in english"
   ]
  },
  {
   "cell_type": "code",
   "execution_count": 114,
   "id": "8f0ebc60",
   "metadata": {},
   "outputs": [
    {
     "data": {
      "image/png": "[encoded data removed]",
      "text/plain": [
       "<Figure size 360x360 with 1 Axes>"
      ]
     },
     "metadata": {
      "needs_background": "light"
     },
     "output_type": "display_data"
    }
   ],
   "source": [
    "sns.catplot(x='language', kind='count', data=return_df)\n",
    "plt.show()"
   ]
  },
  {
   "cell_type": "code",
   "execution_count": 67,
   "id": "959918af",
   "metadata": {},
   "outputs": [
    {
     "data": {
      "text/plain": [
       "user_registered_flag\n",
       "True     26140\n",
       "False     5341\n",
       "dtype: int64"
      ]
     },
     "execution_count": 67,
     "metadata": {},
     "output_type": "execute_result"
    }
   ],
   "source": [
    "khan_data.groupby(by='user_registered_flag').size().sort_values(ascending=False)"
   ]
  },
  {
   "cell_type": "code",
   "execution_count": 66,
   "id": "e34b337f",
   "metadata": {},
   "outputs": [
    {
     "data": {
      "text/plain": [
       "user_registered_flag\n",
       "True     19711\n",
       "False     2079\n",
       "dtype: int64"
      ]
     },
     "execution_count": 66,
     "metadata": {},
     "output_type": "execute_result"
    }
   ],
   "source": [
    "return_df.groupby(by='user_registered_flag').size().sort_values(ascending=False)"
   ]
  },
  {
   "cell_type": "markdown",
   "id": "66a78c15",
   "metadata": {},
   "source": [
    "Most of the returned users are also registered users, this makes sense as a return user would want to track their videos. Interestingly a large portion of non-return users are registered users, this could be due to that the data is just for the month of Feburary and these people are return users that return after a month "
   ]
  },
  {
   "cell_type": "code",
   "execution_count": 115,
   "id": "0f822d14",
   "metadata": {},
   "outputs": [
    {
     "data": {
      "image/png": "[encoded data removed]",
      "text/plain": [
       "<Figure size 360x360 with 1 Axes>"
      ]
     },
     "metadata": {
      "needs_background": "light"
     },
     "output_type": "display_data"
    }
   ],
   "source": [
    "sns.catplot(x='user_registered_flag', kind='count', data=return_df)\n",
    "plt.show()"
   ]
  },
  {
   "cell_type": "code",
   "execution_count": 69,
   "id": "22b7ca7c",
   "metadata": {},
   "outputs": [
    {
     "data": {
      "text/plain": [
       "device_type\n",
       "desktop          26885\n",
       "tablet            2717\n",
       "phone             1872\n",
       "unknown/other        7\n",
       "dtype: int64"
      ]
     },
     "execution_count": 69,
     "metadata": {},
     "output_type": "execute_result"
    }
   ],
   "source": [
    "khan_data.groupby(by='device_type').size().sort_values(ascending=False)"
   ]
  },
  {
   "cell_type": "code",
   "execution_count": 68,
   "id": "04092f56",
   "metadata": {},
   "outputs": [
    {
     "data": {
      "text/plain": [
       "device_type\n",
       "desktop    18622\n",
       "tablet      2020\n",
       "phone       1148\n",
       "dtype: int64"
      ]
     },
     "execution_count": 68,
     "metadata": {},
     "output_type": "execute_result"
    }
   ],
   "source": [
    "return_df.groupby(by='device_type').size().sort_values(ascending=False)"
   ]
  },
  {
   "cell_type": "code",
   "execution_count": 116,
   "id": "22f8606d",
   "metadata": {},
   "outputs": [
    {
     "data": {
      "image/png": "[encoded data removed]",
      "text/plain": [
       "<Figure size 360x360 with 1 Axes>"
      ]
     },
     "metadata": {
      "needs_background": "light"
     },
     "output_type": "display_data"
    }
   ],
   "source": [
    "sns.catplot(x='device_type', kind='count', data=return_df)\n",
    "plt.show()"
   ]
  },
  {
   "cell_type": "markdown",
   "id": "c8c84ac2",
   "metadata": {},
   "source": [
    "Desktop is the most used device type that returned users are using. Thus, we would expect the app is not hevialy utilized."
   ]
  },
  {
   "cell_type": "code",
   "execution_count": 71,
   "id": "1e0806f8",
   "metadata": {},
   "outputs": [
    {
     "data": {
      "text/plain": [
       "KA_app_flag\n",
       "False    30885\n",
       "True       596\n",
       "dtype: int64"
      ]
     },
     "execution_count": 71,
     "metadata": {},
     "output_type": "execute_result"
    }
   ],
   "source": [
    "khan_data.groupby(by='KA_app_flag').size().sort_values(ascending=False)"
   ]
  },
  {
   "cell_type": "code",
   "execution_count": 70,
   "id": "4440299e",
   "metadata": {},
   "outputs": [
    {
     "data": {
      "text/plain": [
       "KA_app_flag\n",
       "False    21387\n",
       "True       403\n",
       "dtype: int64"
      ]
     },
     "execution_count": 70,
     "metadata": {},
     "output_type": "execute_result"
    }
   ],
   "source": [
    "return_df.groupby(by='KA_app_flag').size().sort_values(ascending=False)"
   ]
  },
  {
   "cell_type": "code",
   "execution_count": 138,
   "id": "1d3f1b2a",
   "metadata": {},
   "outputs": [
    {
     "data": {
      "image/png": "[encoded data removed]",
      "text/plain": [
       "<Figure size 360x360 with 1 Axes>"
      ]
     },
     "metadata": {
      "needs_background": "light"
     },
     "output_type": "display_data"
    }
   ],
   "source": [
    "sns.catplot(x='KA_app_flag', kind='count', data=return_df)\n",
    "plt.show()"
   ]
  },
  {
   "cell_type": "markdown",
   "id": "944dc505",
   "metadata": {},
   "source": [
    "As expected the Khan Academy app is not a platform that is heavily utilized. "
   ]
  },
  {
   "cell_type": "code",
   "execution_count": 73,
   "id": "526f3a58",
   "metadata": {},
   "outputs": [
    {
     "data": {
      "text/plain": [
       "OS\n",
       "Windows          17124\n",
       "Mac OS X          5505\n",
       "Chrome OS         3739\n",
       "iOS               2966\n",
       "Android           1504\n",
       "Ubuntu             439\n",
       "Linux              180\n",
       "Windows Phone       14\n",
       "Other                7\n",
       "BlackBerry OS        3\n",
       "dtype: int64"
      ]
     },
     "execution_count": 73,
     "metadata": {},
     "output_type": "execute_result"
    }
   ],
   "source": [
    "khan_data.groupby(by='OS').size().sort_values(ascending=False)"
   ]
  },
  {
   "cell_type": "code",
   "execution_count": 72,
   "id": "dab81ed1",
   "metadata": {},
   "outputs": [
    {
     "data": {
      "text/plain": [
       "OS\n",
       "Windows          12116\n",
       "Mac OS X          3710\n",
       "Chrome OS         2379\n",
       "iOS               2022\n",
       "Android           1055\n",
       "Ubuntu             412\n",
       "Linux               82\n",
       "Windows Phone       14\n",
       "dtype: int64"
      ]
     },
     "execution_count": 72,
     "metadata": {},
     "output_type": "execute_result"
    }
   ],
   "source": [
    "return_df.groupby(by='OS').size().sort_values(ascending=False)"
   ]
  },
  {
   "cell_type": "code",
   "execution_count": 139,
   "id": "171c1302",
   "metadata": {},
   "outputs": [
    {
     "data": {
      "image/png": "[encoded data removed]",
      "text/plain": [
       "<Figure size 360x360 with 1 Axes>"
      ]
     },
     "metadata": {
      "needs_background": "light"
     },
     "output_type": "display_data"
    }
   ],
   "source": [
    "sns.catplot(x='OS', kind='count', data=return_df)\n",
    "plt.show()"
   ]
  },
  {
   "cell_type": "markdown",
   "id": "fbdb9dc5",
   "metadata": {},
   "source": [
    "Most returned users are using Windows, this is expected as it is the dominant operating system. And as expected Mac OS is the second most as the most used device type is a desktop (computer). "
   ]
  },
  {
   "cell_type": "markdown",
   "id": "bc417fe1",
   "metadata": {},
   "source": [
    "### Explore the dependant variable"
   ]
  },
  {
   "cell_type": "code",
   "execution_count": 31,
   "id": "3aed3a04",
   "metadata": {},
   "outputs": [
    {
     "data": {
      "image/png": "[encoded data removed]",
      "text/plain": [
       "<Figure size 432x288 with 1 Axes>"
      ]
     },
     "metadata": {
      "needs_background": "light"
     },
     "output_type": "display_data"
    }
   ],
   "source": [
    "# Exploring the dependant variable of returned_user \n",
    "sns.histplot(data=khan_data, x=\"returned_user\")\n",
    "plt.show()"
   ]
  },
  {
   "cell_type": "code",
   "execution_count": 74,
   "id": "15c0ff57",
   "metadata": {},
   "outputs": [
    {
     "data": {
      "text/plain": [
       "0     9691\n",
       "1     7110\n",
       "2     4685\n",
       "3     2819\n",
       "4     2740\n",
       "11    1484\n",
       "9      960\n",
       "5      869\n",
       "8      618\n",
       "6      197\n",
       "13     195\n",
       "7      113\n",
       "Name: returned_user, dtype: int64"
      ]
     },
     "execution_count": 74,
     "metadata": {},
     "output_type": "execute_result"
    }
   ],
   "source": [
    "khan_data.returned_user.value_counts()"
   ]
  },
  {
   "cell_type": "markdown",
   "id": "b2cfe420",
   "metadata": {},
   "source": [
    "We have 804 returned users and 30,677 non-returned users in the data set"
   ]
  },
  {
   "cell_type": "code",
   "execution_count": 77,
   "id": "97ead3ad",
   "metadata": {},
   "outputs": [
    {
     "data": {
      "text/html": [
       "<div>\n",
       "<style scoped>\n",
       "    .dataframe tbody tr th:only-of-type {\n",
       "        vertical-align: middle;\n",
       "    }\n",
       "\n",
       "    .dataframe tbody tr th {\n",
       "        vertical-align: top;\n",
       "    }\n",
       "\n",
       "    .dataframe thead th {\n",
       "        text-align: right;\n",
       "    }\n",
       "</style>\n",
       "<table border=\"1\" class=\"dataframe\">\n",
       "  <thead>\n",
       "    <tr style=\"text-align: right;\">\n",
       "      <th></th>\n",
       "      <th>user_id</th>\n",
       "      <th>session_id</th>\n",
       "      <th>user_registered_flag</th>\n",
       "      <th>KA_app_flag</th>\n",
       "      <th>returned_user</th>\n",
       "    </tr>\n",
       "  </thead>\n",
       "  <tbody>\n",
       "    <tr>\n",
       "      <th>user_id</th>\n",
       "      <td>1.000000</td>\n",
       "      <td>-0.015130</td>\n",
       "      <td>0.013555</td>\n",
       "      <td>0.025828</td>\n",
       "      <td>0.209970</td>\n",
       "    </tr>\n",
       "    <tr>\n",
       "      <th>session_id</th>\n",
       "      <td>-0.015130</td>\n",
       "      <td>1.000000</td>\n",
       "      <td>-0.004922</td>\n",
       "      <td>0.019978</td>\n",
       "      <td>0.017478</td>\n",
       "    </tr>\n",
       "    <tr>\n",
       "      <th>user_registered_flag</th>\n",
       "      <td>0.013555</td>\n",
       "      <td>-0.004922</td>\n",
       "      <td>1.000000</td>\n",
       "      <td>-0.192436</td>\n",
       "      <td>0.223096</td>\n",
       "    </tr>\n",
       "    <tr>\n",
       "      <th>KA_app_flag</th>\n",
       "      <td>0.025828</td>\n",
       "      <td>0.019978</td>\n",
       "      <td>-0.192436</td>\n",
       "      <td>1.000000</td>\n",
       "      <td>0.021297</td>\n",
       "    </tr>\n",
       "    <tr>\n",
       "      <th>returned_user</th>\n",
       "      <td>0.209970</td>\n",
       "      <td>0.017478</td>\n",
       "      <td>0.223096</td>\n",
       "      <td>0.021297</td>\n",
       "      <td>1.000000</td>\n",
       "    </tr>\n",
       "  </tbody>\n",
       "</table>\n",
       "</div>"
      ],
      "text/plain": [
       "                       user_id  session_id  user_registered_flag  KA_app_flag  \\\n",
       "user_id               1.000000   -0.015130              0.013555     0.025828   \n",
       "session_id           -0.015130    1.000000             -0.004922     0.019978   \n",
       "user_registered_flag  0.013555   -0.004922              1.000000    -0.192436   \n",
       "KA_app_flag           0.025828    0.019978             -0.192436     1.000000   \n",
       "returned_user         0.209970    0.017478              0.223096     0.021297   \n",
       "\n",
       "                      returned_user  \n",
       "user_id                    0.209970  \n",
       "session_id                 0.017478  \n",
       "user_registered_flag       0.223096  \n",
       "KA_app_flag                0.021297  \n",
       "returned_user              1.000000  "
      ]
     },
     "execution_count": 77,
     "metadata": {},
     "output_type": "execute_result"
    }
   ],
   "source": [
    "khan_data.corr()"
   ]
  },
  {
   "cell_type": "code",
   "execution_count": 15,
   "id": "217b7520",
   "metadata": {},
   "outputs": [],
   "source": [
    "#Turning boolean values into 1,0\n",
    "#khan_data.KA_app_flag = np.multiply(khan_data.KA_app_flag, 1)"
   ]
  },
  {
   "cell_type": "code",
   "execution_count": 16,
   "id": "a250ff0c",
   "metadata": {},
   "outputs": [],
   "source": [
    "#khan_data.user_registered_flag = np.multiply(khan_data.user_registered_flag, 1)"
   ]
  },
  {
   "cell_type": "code",
   "execution_count": null,
   "id": "5b55906b",
   "metadata": {},
   "outputs": [],
   "source": []
  }
 ],
 "metadata": {
  "kernelspec": {
   "display_name": "Python 3 (ipykernel)",
   "language": "python",
   "name": "python3"
  },
  "language_info": {
   "codemirror_mode": {
    "name": "ipython",
    "version": 3
   },
   "file_extension": ".py",
   "mimetype": "text/x-python",
   "name": "python",
   "nbconvert_exporter": "python",
   "pygments_lexer": "ipython3",
   "version": "3.9.7"
  }
 },
 "nbformat": 4,
 "nbformat_minor": 5
}

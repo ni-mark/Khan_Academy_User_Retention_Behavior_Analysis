{
 "cells": [
  {
   "cell_type": "markdown",
   "id": "f0e22a4c",
   "metadata": {},
   "source": [
    "##### modeling section, should do a machine learning model of random forest or decision tree and this will tell which features is more important in terms of given the model predictive power and should align with my chi2 and anova test. ML is need to test if the data is under or over fitted"
   ]
  },
  {
   "cell_type": "code",
   "execution_count": 1,
   "id": "98f7138e",
   "metadata": {},
   "outputs": [],
   "source": [
    "# Import packages \n",
    "import pandas as pd\n",
    "import numpy as np \n",
    "import seaborn as sns\n",
    "import matplotlib.pyplot as plt\n",
    "\n",
    "# Machine Learning Predictive Model packages\n",
    "from sklearn.ensemble import RandomForestClassifier\n",
    "from sklearn.preprocessing import StandardScaler, QuantileTransformer\n",
    "from sklearn.model_selection import train_test_split, cross_val_score, GridSearchCV\n",
    "from sklearn.metrics import precision_recall_fscore_support, confusion_matrix\n",
    "from sklearn.linear_model import LogisticRegression "
   ]
  },
  {
   "cell_type": "code",
   "execution_count": 2,
   "id": "0ef7c42d",
   "metadata": {},
   "outputs": [],
   "source": [
    "khan_data = pd.read_csv('./data/kdata_final.csv')"
   ]
  },
  {
   "cell_type": "code",
   "execution_count": 3,
   "id": "c727569e",
   "metadata": {},
   "outputs": [
    {
     "data": {
      "text/html": [
       "<div>\n",
       "<style scoped>\n",
       "    .dataframe tbody tr th:only-of-type {\n",
       "        vertical-align: middle;\n",
       "    }\n",
       "\n",
       "    .dataframe tbody tr th {\n",
       "        vertical-align: top;\n",
       "    }\n",
       "\n",
       "    .dataframe thead th {\n",
       "        text-align: right;\n",
       "    }\n",
       "</style>\n",
       "<table border=\"1\" class=\"dataframe\">\n",
       "  <thead>\n",
       "    <tr style=\"text-align: right;\">\n",
       "      <th></th>\n",
       "      <th>Unnamed: 0</th>\n",
       "      <th>timestamp</th>\n",
       "      <th>user_id</th>\n",
       "      <th>session_id</th>\n",
       "      <th>country</th>\n",
       "      <th>language</th>\n",
       "      <th>user_registered_flag</th>\n",
       "      <th>device_type</th>\n",
       "      <th>KA_app_flag</th>\n",
       "      <th>OS</th>\n",
       "      <th>...</th>\n",
       "      <th>conversion</th>\n",
       "      <th>returned_user</th>\n",
       "      <th>returner</th>\n",
       "      <th>lang_filter</th>\n",
       "      <th>lang_encode</th>\n",
       "      <th>country_filter</th>\n",
       "      <th>country_encode</th>\n",
       "      <th>registered_user</th>\n",
       "      <th>lang_3</th>\n",
       "      <th>country_3</th>\n",
       "    </tr>\n",
       "  </thead>\n",
       "  <tbody>\n",
       "    <tr>\n",
       "      <th>0</th>\n",
       "      <td>0</td>\n",
       "      <td>2016-02-18 18:05:34.408245 UTC</td>\n",
       "      <td>461023995001001</td>\n",
       "      <td>7269247775762971847</td>\n",
       "      <td>US</td>\n",
       "      <td>en</td>\n",
       "      <td>True</td>\n",
       "      <td>desktop</td>\n",
       "      <td>False</td>\n",
       "      <td>Windows</td>\n",
       "      <td>...</td>\n",
       "      <td>login</td>\n",
       "      <td>1</td>\n",
       "      <td>Yes</td>\n",
       "      <td>eng</td>\n",
       "      <td>1</td>\n",
       "      <td>USA</td>\n",
       "      <td>1</td>\n",
       "      <td>1</td>\n",
       "      <td>eng</td>\n",
       "      <td>us</td>\n",
       "    </tr>\n",
       "    <tr>\n",
       "      <th>1</th>\n",
       "      <td>1</td>\n",
       "      <td>2016-02-18 18:05:35.156166 UTC</td>\n",
       "      <td>461023995001001</td>\n",
       "      <td>7269247775762971847</td>\n",
       "      <td>US</td>\n",
       "      <td>en</td>\n",
       "      <td>True</td>\n",
       "      <td>desktop</td>\n",
       "      <td>False</td>\n",
       "      <td>Windows</td>\n",
       "      <td>...</td>\n",
       "      <td>homepage_view</td>\n",
       "      <td>1</td>\n",
       "      <td>Yes</td>\n",
       "      <td>eng</td>\n",
       "      <td>1</td>\n",
       "      <td>USA</td>\n",
       "      <td>1</td>\n",
       "      <td>1</td>\n",
       "      <td>eng</td>\n",
       "      <td>us</td>\n",
       "    </tr>\n",
       "    <tr>\n",
       "      <th>2</th>\n",
       "      <td>2</td>\n",
       "      <td>2016-02-18 18:05:44.033396 UTC</td>\n",
       "      <td>461023995001001</td>\n",
       "      <td>7269247775762971847</td>\n",
       "      <td>US</td>\n",
       "      <td>en</td>\n",
       "      <td>True</td>\n",
       "      <td>desktop</td>\n",
       "      <td>False</td>\n",
       "      <td>Windows</td>\n",
       "      <td>...</td>\n",
       "      <td>pageview</td>\n",
       "      <td>1</td>\n",
       "      <td>Yes</td>\n",
       "      <td>eng</td>\n",
       "      <td>1</td>\n",
       "      <td>USA</td>\n",
       "      <td>1</td>\n",
       "      <td>1</td>\n",
       "      <td>eng</td>\n",
       "      <td>us</td>\n",
       "    </tr>\n",
       "    <tr>\n",
       "      <th>3</th>\n",
       "      <td>3</td>\n",
       "      <td>2016-02-18 18:06:39.681943 UTC</td>\n",
       "      <td>461023995001001</td>\n",
       "      <td>7269247775762971847</td>\n",
       "      <td>US</td>\n",
       "      <td>en</td>\n",
       "      <td>True</td>\n",
       "      <td>desktop</td>\n",
       "      <td>False</td>\n",
       "      <td>Windows</td>\n",
       "      <td>...</td>\n",
       "      <td>pageview</td>\n",
       "      <td>1</td>\n",
       "      <td>Yes</td>\n",
       "      <td>eng</td>\n",
       "      <td>1</td>\n",
       "      <td>USA</td>\n",
       "      <td>1</td>\n",
       "      <td>1</td>\n",
       "      <td>eng</td>\n",
       "      <td>us</td>\n",
       "    </tr>\n",
       "    <tr>\n",
       "      <th>4</th>\n",
       "      <td>4</td>\n",
       "      <td>2016-02-18 18:06:55.040427 UTC</td>\n",
       "      <td>461023995001001</td>\n",
       "      <td>7269247775762971847</td>\n",
       "      <td>US</td>\n",
       "      <td>en</td>\n",
       "      <td>True</td>\n",
       "      <td>desktop</td>\n",
       "      <td>False</td>\n",
       "      <td>Windows</td>\n",
       "      <td>...</td>\n",
       "      <td>pageview</td>\n",
       "      <td>1</td>\n",
       "      <td>Yes</td>\n",
       "      <td>eng</td>\n",
       "      <td>1</td>\n",
       "      <td>USA</td>\n",
       "      <td>1</td>\n",
       "      <td>1</td>\n",
       "      <td>eng</td>\n",
       "      <td>us</td>\n",
       "    </tr>\n",
       "  </tbody>\n",
       "</table>\n",
       "<p>5 rows × 21 columns</p>\n",
       "</div>"
      ],
      "text/plain": [
       "   Unnamed: 0                       timestamp          user_id  \\\n",
       "0           0  2016-02-18 18:05:34.408245 UTC  461023995001001   \n",
       "1           1  2016-02-18 18:05:35.156166 UTC  461023995001001   \n",
       "2           2  2016-02-18 18:05:44.033396 UTC  461023995001001   \n",
       "3           3  2016-02-18 18:06:39.681943 UTC  461023995001001   \n",
       "4           4  2016-02-18 18:06:55.040427 UTC  461023995001001   \n",
       "\n",
       "            session_id country language  user_registered_flag device_type  \\\n",
       "0  7269247775762971847      US       en                  True     desktop   \n",
       "1  7269247775762971847      US       en                  True     desktop   \n",
       "2  7269247775762971847      US       en                  True     desktop   \n",
       "3  7269247775762971847      US       en                  True     desktop   \n",
       "4  7269247775762971847      US       en                  True     desktop   \n",
       "\n",
       "   KA_app_flag       OS  ...     conversion returned_user  returner  \\\n",
       "0        False  Windows  ...          login             1       Yes   \n",
       "1        False  Windows  ...  homepage_view             1       Yes   \n",
       "2        False  Windows  ...       pageview             1       Yes   \n",
       "3        False  Windows  ...       pageview             1       Yes   \n",
       "4        False  Windows  ...       pageview             1       Yes   \n",
       "\n",
       "  lang_filter lang_encode  country_filter country_encode  registered_user  \\\n",
       "0         eng           1             USA              1                1   \n",
       "1         eng           1             USA              1                1   \n",
       "2         eng           1             USA              1                1   \n",
       "3         eng           1             USA              1                1   \n",
       "4         eng           1             USA              1                1   \n",
       "\n",
       "   lang_3 country_3  \n",
       "0     eng        us  \n",
       "1     eng        us  \n",
       "2     eng        us  \n",
       "3     eng        us  \n",
       "4     eng        us  \n",
       "\n",
       "[5 rows x 21 columns]"
      ]
     },
     "execution_count": 3,
     "metadata": {},
     "output_type": "execute_result"
    }
   ],
   "source": [
    "khan_data.head()"
   ]
  },
  {
   "cell_type": "code",
   "execution_count": 4,
   "id": "420273fa",
   "metadata": {},
   "outputs": [],
   "source": [
    "khan_data = khan_data.drop(['Unnamed: 0'], axis =1)"
   ]
  },
  {
   "cell_type": "code",
   "execution_count": 5,
   "id": "191ef5ac",
   "metadata": {},
   "outputs": [],
   "source": [
    "# Drop Datetime features and user & session id for predictive modeling \n",
    "khan_data = khan_data.drop(['timestamp', 'user_id', 'session_id'], axis =1)"
   ]
  },
  {
   "cell_type": "code",
   "execution_count": 6,
   "id": "5a479541",
   "metadata": {},
   "outputs": [],
   "source": [
    "# Create encoded dataframe w/ only numerical values\n",
    "khan_encoded = khan_data.drop(['URI','country','language','user_registered_flag','conversion','returner','lang_filter','country_filter','lang_3','country_3'], axis=1)"
   ]
  },
  {
   "cell_type": "code",
   "execution_count": 7,
   "id": "26156aa1",
   "metadata": {},
   "outputs": [
    {
     "data": {
      "text/html": [
       "<div>\n",
       "<style scoped>\n",
       "    .dataframe tbody tr th:only-of-type {\n",
       "        vertical-align: middle;\n",
       "    }\n",
       "\n",
       "    .dataframe tbody tr th {\n",
       "        vertical-align: top;\n",
       "    }\n",
       "\n",
       "    .dataframe thead th {\n",
       "        text-align: right;\n",
       "    }\n",
       "</style>\n",
       "<table border=\"1\" class=\"dataframe\">\n",
       "  <thead>\n",
       "    <tr style=\"text-align: right;\">\n",
       "      <th></th>\n",
       "      <th>returned_user</th>\n",
       "      <th>lang_encode</th>\n",
       "      <th>country_encode</th>\n",
       "      <th>registered_user</th>\n",
       "      <th>device_type_desktop</th>\n",
       "      <th>device_type_phone</th>\n",
       "      <th>device_type_tablet</th>\n",
       "      <th>device_type_unknown/other</th>\n",
       "      <th>KA_app_flag_False</th>\n",
       "      <th>KA_app_flag_True</th>\n",
       "      <th>OS_Android</th>\n",
       "      <th>OS_BlackBerry OS</th>\n",
       "      <th>OS_Chrome OS</th>\n",
       "      <th>OS_Linux</th>\n",
       "      <th>OS_Mac OS X</th>\n",
       "      <th>OS_Other</th>\n",
       "      <th>OS_Ubuntu</th>\n",
       "      <th>OS_Windows</th>\n",
       "      <th>OS_Windows Phone</th>\n",
       "      <th>OS_iOS</th>\n",
       "    </tr>\n",
       "  </thead>\n",
       "  <tbody>\n",
       "    <tr>\n",
       "      <th>0</th>\n",
       "      <td>1</td>\n",
       "      <td>1</td>\n",
       "      <td>1</td>\n",
       "      <td>1</td>\n",
       "      <td>1</td>\n",
       "      <td>0</td>\n",
       "      <td>0</td>\n",
       "      <td>0</td>\n",
       "      <td>1</td>\n",
       "      <td>0</td>\n",
       "      <td>0</td>\n",
       "      <td>0</td>\n",
       "      <td>0</td>\n",
       "      <td>0</td>\n",
       "      <td>0</td>\n",
       "      <td>0</td>\n",
       "      <td>0</td>\n",
       "      <td>1</td>\n",
       "      <td>0</td>\n",
       "      <td>0</td>\n",
       "    </tr>\n",
       "    <tr>\n",
       "      <th>1</th>\n",
       "      <td>1</td>\n",
       "      <td>1</td>\n",
       "      <td>1</td>\n",
       "      <td>1</td>\n",
       "      <td>1</td>\n",
       "      <td>0</td>\n",
       "      <td>0</td>\n",
       "      <td>0</td>\n",
       "      <td>1</td>\n",
       "      <td>0</td>\n",
       "      <td>0</td>\n",
       "      <td>0</td>\n",
       "      <td>0</td>\n",
       "      <td>0</td>\n",
       "      <td>0</td>\n",
       "      <td>0</td>\n",
       "      <td>0</td>\n",
       "      <td>1</td>\n",
       "      <td>0</td>\n",
       "      <td>0</td>\n",
       "    </tr>\n",
       "    <tr>\n",
       "      <th>2</th>\n",
       "      <td>1</td>\n",
       "      <td>1</td>\n",
       "      <td>1</td>\n",
       "      <td>1</td>\n",
       "      <td>1</td>\n",
       "      <td>0</td>\n",
       "      <td>0</td>\n",
       "      <td>0</td>\n",
       "      <td>1</td>\n",
       "      <td>0</td>\n",
       "      <td>0</td>\n",
       "      <td>0</td>\n",
       "      <td>0</td>\n",
       "      <td>0</td>\n",
       "      <td>0</td>\n",
       "      <td>0</td>\n",
       "      <td>0</td>\n",
       "      <td>1</td>\n",
       "      <td>0</td>\n",
       "      <td>0</td>\n",
       "    </tr>\n",
       "    <tr>\n",
       "      <th>3</th>\n",
       "      <td>1</td>\n",
       "      <td>1</td>\n",
       "      <td>1</td>\n",
       "      <td>1</td>\n",
       "      <td>1</td>\n",
       "      <td>0</td>\n",
       "      <td>0</td>\n",
       "      <td>0</td>\n",
       "      <td>1</td>\n",
       "      <td>0</td>\n",
       "      <td>0</td>\n",
       "      <td>0</td>\n",
       "      <td>0</td>\n",
       "      <td>0</td>\n",
       "      <td>0</td>\n",
       "      <td>0</td>\n",
       "      <td>0</td>\n",
       "      <td>1</td>\n",
       "      <td>0</td>\n",
       "      <td>0</td>\n",
       "    </tr>\n",
       "    <tr>\n",
       "      <th>4</th>\n",
       "      <td>1</td>\n",
       "      <td>1</td>\n",
       "      <td>1</td>\n",
       "      <td>1</td>\n",
       "      <td>1</td>\n",
       "      <td>0</td>\n",
       "      <td>0</td>\n",
       "      <td>0</td>\n",
       "      <td>1</td>\n",
       "      <td>0</td>\n",
       "      <td>0</td>\n",
       "      <td>0</td>\n",
       "      <td>0</td>\n",
       "      <td>0</td>\n",
       "      <td>0</td>\n",
       "      <td>0</td>\n",
       "      <td>0</td>\n",
       "      <td>1</td>\n",
       "      <td>0</td>\n",
       "      <td>0</td>\n",
       "    </tr>\n",
       "  </tbody>\n",
       "</table>\n",
       "</div>"
      ],
      "text/plain": [
       "   returned_user  lang_encode  country_encode  registered_user  \\\n",
       "0              1            1               1                1   \n",
       "1              1            1               1                1   \n",
       "2              1            1               1                1   \n",
       "3              1            1               1                1   \n",
       "4              1            1               1                1   \n",
       "\n",
       "   device_type_desktop  device_type_phone  device_type_tablet  \\\n",
       "0                    1                  0                   0   \n",
       "1                    1                  0                   0   \n",
       "2                    1                  0                   0   \n",
       "3                    1                  0                   0   \n",
       "4                    1                  0                   0   \n",
       "\n",
       "   device_type_unknown/other  KA_app_flag_False  KA_app_flag_True  OS_Android  \\\n",
       "0                          0                  1                 0           0   \n",
       "1                          0                  1                 0           0   \n",
       "2                          0                  1                 0           0   \n",
       "3                          0                  1                 0           0   \n",
       "4                          0                  1                 0           0   \n",
       "\n",
       "   OS_BlackBerry OS  OS_Chrome OS  OS_Linux  OS_Mac OS X  OS_Other  OS_Ubuntu  \\\n",
       "0                 0             0         0            0         0          0   \n",
       "1                 0             0         0            0         0          0   \n",
       "2                 0             0         0            0         0          0   \n",
       "3                 0             0         0            0         0          0   \n",
       "4                 0             0         0            0         0          0   \n",
       "\n",
       "   OS_Windows  OS_Windows Phone  OS_iOS  \n",
       "0           1                 0       0  \n",
       "1           1                 0       0  \n",
       "2           1                 0       0  \n",
       "3           1                 0       0  \n",
       "4           1                 0       0  "
      ]
     },
     "execution_count": 7,
     "metadata": {},
     "output_type": "execute_result"
    }
   ],
   "source": [
    "# Generate dummies for features that are not encoded\n",
    "khan_encoded = pd.get_dummies(khan_encoded, columns = ['device_type', 'KA_app_flag', 'OS'])\n",
    "khan_encoded.head()"
   ]
  },
  {
   "cell_type": "code",
   "execution_count": 8,
   "id": "ed8d23ba",
   "metadata": {},
   "outputs": [
    {
     "name": "stdout",
     "output_type": "stream",
     "text": [
      "<class 'pandas.core.frame.DataFrame'>\n",
      "RangeIndex: 31481 entries, 0 to 31480\n",
      "Data columns (total 17 columns):\n",
      " #   Column                Non-Null Count  Dtype \n",
      "---  ------                --------------  ----- \n",
      " 0   country               31481 non-null  object\n",
      " 1   language              31481 non-null  object\n",
      " 2   user_registered_flag  31481 non-null  bool  \n",
      " 3   device_type           31481 non-null  object\n",
      " 4   KA_app_flag           31481 non-null  bool  \n",
      " 5   OS                    31481 non-null  object\n",
      " 6   URI                   26149 non-null  object\n",
      " 7   conversion            31481 non-null  object\n",
      " 8   returned_user         31481 non-null  int64 \n",
      " 9   returner              31481 non-null  object\n",
      " 10  lang_filter           31481 non-null  object\n",
      " 11  lang_encode           31481 non-null  int64 \n",
      " 12  country_filter        31481 non-null  object\n",
      " 13  country_encode        31481 non-null  int64 \n",
      " 14  registered_user       31481 non-null  int64 \n",
      " 15  lang_3                31481 non-null  object\n",
      " 16  country_3             31481 non-null  object\n",
      "dtypes: bool(2), int64(4), object(11)\n",
      "memory usage: 3.7+ MB\n"
     ]
    }
   ],
   "source": [
    "khan_data.info()"
   ]
  },
  {
   "cell_type": "code",
   "execution_count": 9,
   "id": "4b0927aa",
   "metadata": {},
   "outputs": [
    {
     "name": "stdout",
     "output_type": "stream",
     "text": [
      "<class 'pandas.core.frame.DataFrame'>\n",
      "RangeIndex: 31481 entries, 0 to 31480\n",
      "Data columns (total 20 columns):\n",
      " #   Column                     Non-Null Count  Dtype\n",
      "---  ------                     --------------  -----\n",
      " 0   returned_user              31481 non-null  int64\n",
      " 1   lang_encode                31481 non-null  int64\n",
      " 2   country_encode             31481 non-null  int64\n",
      " 3   registered_user            31481 non-null  int64\n",
      " 4   device_type_desktop        31481 non-null  uint8\n",
      " 5   device_type_phone          31481 non-null  uint8\n",
      " 6   device_type_tablet         31481 non-null  uint8\n",
      " 7   device_type_unknown/other  31481 non-null  uint8\n",
      " 8   KA_app_flag_False          31481 non-null  uint8\n",
      " 9   KA_app_flag_True           31481 non-null  uint8\n",
      " 10  OS_Android                 31481 non-null  uint8\n",
      " 11  OS_BlackBerry OS           31481 non-null  uint8\n",
      " 12  OS_Chrome OS               31481 non-null  uint8\n",
      " 13  OS_Linux                   31481 non-null  uint8\n",
      " 14  OS_Mac OS X                31481 non-null  uint8\n",
      " 15  OS_Other                   31481 non-null  uint8\n",
      " 16  OS_Ubuntu                  31481 non-null  uint8\n",
      " 17  OS_Windows                 31481 non-null  uint8\n",
      " 18  OS_Windows Phone           31481 non-null  uint8\n",
      " 19  OS_iOS                     31481 non-null  uint8\n",
      "dtypes: int64(4), uint8(16)\n",
      "memory usage: 1.4 MB\n"
     ]
    }
   ],
   "source": [
    "khan_encoded.info()"
   ]
  },
  {
   "cell_type": "markdown",
   "id": "a60e9147",
   "metadata": {},
   "source": [
    "### Building a Predictive Model"
   ]
  },
  {
   "cell_type": "code",
   "execution_count": 10,
   "id": "05742910",
   "metadata": {},
   "outputs": [
    {
     "data": {
      "text/plain": [
       "0     30.783647\n",
       "1     22.585051\n",
       "2     14.881992\n",
       "3      8.954608\n",
       "4      8.703663\n",
       "11     4.713954\n",
       "9      3.049458\n",
       "5      2.760395\n",
       "8      1.963089\n",
       "6      0.625774\n",
       "13     0.619421\n",
       "7      0.358947\n",
       "Name: returned_user, dtype: float64"
      ]
     },
     "execution_count": 10,
     "metadata": {},
     "output_type": "execute_result"
    }
   ],
   "source": [
    "khan_data.returned_user.value_counts(normalize=True)*100"
   ]
  },
  {
   "cell_type": "code",
   "execution_count": 11,
   "id": "1f6ea160",
   "metadata": {},
   "outputs": [],
   "source": [
    "# Group returner encode to 0 = non-returner, 1 = returner\n",
    "khan_data['return'] = np.where(khan_data['returned_user'] >= 1, 1, 0)"
   ]
  },
  {
   "cell_type": "code",
   "execution_count": 12,
   "id": "81132f03",
   "metadata": {},
   "outputs": [
    {
     "data": {
      "text/plain": [
       "1    69.216353\n",
       "0    30.783647\n",
       "Name: return, dtype: float64"
      ]
     },
     "execution_count": 12,
     "metadata": {},
     "output_type": "execute_result"
    }
   ],
   "source": [
    "khan_data['return'].value_counts(normalize=True)*100"
   ]
  },
  {
   "cell_type": "markdown",
   "id": "f65f10a0",
   "metadata": {},
   "source": [
    "Here we can see that 69% of the users are returnered users and 31% are non-return users. "
   ]
  },
  {
   "cell_type": "code",
   "execution_count": 13,
   "id": "970ddc1c",
   "metadata": {},
   "outputs": [],
   "source": [
    "#This needs to be completed on the encoded data set and drop orginal returned_user column\n",
    "khan_encoded['return'] = np.where(khan_encoded['returned_user'] >= 1, 1, 0)"
   ]
  },
  {
   "cell_type": "code",
   "execution_count": 14,
   "id": "f8532368",
   "metadata": {},
   "outputs": [],
   "source": [
    "# Generate y (target) \n",
    "y = khan_encoded['return'].values"
   ]
  },
  {
   "cell_type": "code",
   "execution_count": 15,
   "id": "c1cae05d",
   "metadata": {},
   "outputs": [],
   "source": [
    "# Drop target feature frome encoded dataframe \n",
    "khan_encoded = khan_encoded.drop(['returned_user','return'], axis =1)"
   ]
  },
  {
   "cell_type": "code",
   "execution_count": 16,
   "id": "7ce686c5",
   "metadata": {},
   "outputs": [
    {
     "data": {
      "text/html": [
       "<div>\n",
       "<style scoped>\n",
       "    .dataframe tbody tr th:only-of-type {\n",
       "        vertical-align: middle;\n",
       "    }\n",
       "\n",
       "    .dataframe tbody tr th {\n",
       "        vertical-align: top;\n",
       "    }\n",
       "\n",
       "    .dataframe thead th {\n",
       "        text-align: right;\n",
       "    }\n",
       "</style>\n",
       "<table border=\"1\" class=\"dataframe\">\n",
       "  <thead>\n",
       "    <tr style=\"text-align: right;\">\n",
       "      <th></th>\n",
       "      <th>lang_encode</th>\n",
       "      <th>country_encode</th>\n",
       "      <th>registered_user</th>\n",
       "      <th>device_type_desktop</th>\n",
       "      <th>device_type_phone</th>\n",
       "      <th>device_type_tablet</th>\n",
       "      <th>device_type_unknown/other</th>\n",
       "      <th>KA_app_flag_False</th>\n",
       "      <th>KA_app_flag_True</th>\n",
       "      <th>OS_Android</th>\n",
       "      <th>OS_BlackBerry OS</th>\n",
       "      <th>OS_Chrome OS</th>\n",
       "      <th>OS_Linux</th>\n",
       "      <th>OS_Mac OS X</th>\n",
       "      <th>OS_Other</th>\n",
       "      <th>OS_Ubuntu</th>\n",
       "      <th>OS_Windows</th>\n",
       "      <th>OS_Windows Phone</th>\n",
       "      <th>OS_iOS</th>\n",
       "    </tr>\n",
       "  </thead>\n",
       "  <tbody>\n",
       "    <tr>\n",
       "      <th>0</th>\n",
       "      <td>1</td>\n",
       "      <td>1</td>\n",
       "      <td>1</td>\n",
       "      <td>1</td>\n",
       "      <td>0</td>\n",
       "      <td>0</td>\n",
       "      <td>0</td>\n",
       "      <td>1</td>\n",
       "      <td>0</td>\n",
       "      <td>0</td>\n",
       "      <td>0</td>\n",
       "      <td>0</td>\n",
       "      <td>0</td>\n",
       "      <td>0</td>\n",
       "      <td>0</td>\n",
       "      <td>0</td>\n",
       "      <td>1</td>\n",
       "      <td>0</td>\n",
       "      <td>0</td>\n",
       "    </tr>\n",
       "    <tr>\n",
       "      <th>1</th>\n",
       "      <td>1</td>\n",
       "      <td>1</td>\n",
       "      <td>1</td>\n",
       "      <td>1</td>\n",
       "      <td>0</td>\n",
       "      <td>0</td>\n",
       "      <td>0</td>\n",
       "      <td>1</td>\n",
       "      <td>0</td>\n",
       "      <td>0</td>\n",
       "      <td>0</td>\n",
       "      <td>0</td>\n",
       "      <td>0</td>\n",
       "      <td>0</td>\n",
       "      <td>0</td>\n",
       "      <td>0</td>\n",
       "      <td>1</td>\n",
       "      <td>0</td>\n",
       "      <td>0</td>\n",
       "    </tr>\n",
       "    <tr>\n",
       "      <th>2</th>\n",
       "      <td>1</td>\n",
       "      <td>1</td>\n",
       "      <td>1</td>\n",
       "      <td>1</td>\n",
       "      <td>0</td>\n",
       "      <td>0</td>\n",
       "      <td>0</td>\n",
       "      <td>1</td>\n",
       "      <td>0</td>\n",
       "      <td>0</td>\n",
       "      <td>0</td>\n",
       "      <td>0</td>\n",
       "      <td>0</td>\n",
       "      <td>0</td>\n",
       "      <td>0</td>\n",
       "      <td>0</td>\n",
       "      <td>1</td>\n",
       "      <td>0</td>\n",
       "      <td>0</td>\n",
       "    </tr>\n",
       "    <tr>\n",
       "      <th>3</th>\n",
       "      <td>1</td>\n",
       "      <td>1</td>\n",
       "      <td>1</td>\n",
       "      <td>1</td>\n",
       "      <td>0</td>\n",
       "      <td>0</td>\n",
       "      <td>0</td>\n",
       "      <td>1</td>\n",
       "      <td>0</td>\n",
       "      <td>0</td>\n",
       "      <td>0</td>\n",
       "      <td>0</td>\n",
       "      <td>0</td>\n",
       "      <td>0</td>\n",
       "      <td>0</td>\n",
       "      <td>0</td>\n",
       "      <td>1</td>\n",
       "      <td>0</td>\n",
       "      <td>0</td>\n",
       "    </tr>\n",
       "    <tr>\n",
       "      <th>4</th>\n",
       "      <td>1</td>\n",
       "      <td>1</td>\n",
       "      <td>1</td>\n",
       "      <td>1</td>\n",
       "      <td>0</td>\n",
       "      <td>0</td>\n",
       "      <td>0</td>\n",
       "      <td>1</td>\n",
       "      <td>0</td>\n",
       "      <td>0</td>\n",
       "      <td>0</td>\n",
       "      <td>0</td>\n",
       "      <td>0</td>\n",
       "      <td>0</td>\n",
       "      <td>0</td>\n",
       "      <td>0</td>\n",
       "      <td>1</td>\n",
       "      <td>0</td>\n",
       "      <td>0</td>\n",
       "    </tr>\n",
       "  </tbody>\n",
       "</table>\n",
       "</div>"
      ],
      "text/plain": [
       "   lang_encode  country_encode  registered_user  device_type_desktop  \\\n",
       "0            1               1                1                    1   \n",
       "1            1               1                1                    1   \n",
       "2            1               1                1                    1   \n",
       "3            1               1                1                    1   \n",
       "4            1               1                1                    1   \n",
       "\n",
       "   device_type_phone  device_type_tablet  device_type_unknown/other  \\\n",
       "0                  0                   0                          0   \n",
       "1                  0                   0                          0   \n",
       "2                  0                   0                          0   \n",
       "3                  0                   0                          0   \n",
       "4                  0                   0                          0   \n",
       "\n",
       "   KA_app_flag_False  KA_app_flag_True  OS_Android  OS_BlackBerry OS  \\\n",
       "0                  1                 0           0                 0   \n",
       "1                  1                 0           0                 0   \n",
       "2                  1                 0           0                 0   \n",
       "3                  1                 0           0                 0   \n",
       "4                  1                 0           0                 0   \n",
       "\n",
       "   OS_Chrome OS  OS_Linux  OS_Mac OS X  OS_Other  OS_Ubuntu  OS_Windows  \\\n",
       "0             0         0            0         0          0           1   \n",
       "1             0         0            0         0          0           1   \n",
       "2             0         0            0         0          0           1   \n",
       "3             0         0            0         0          0           1   \n",
       "4             0         0            0         0          0           1   \n",
       "\n",
       "   OS_Windows Phone  OS_iOS  \n",
       "0                 0       0  \n",
       "1                 0       0  \n",
       "2                 0       0  \n",
       "3                 0       0  \n",
       "4                 0       0  "
      ]
     },
     "execution_count": 16,
     "metadata": {},
     "output_type": "execute_result"
    }
   ],
   "source": [
    "khan_encoded.head(5)"
   ]
  },
  {
   "cell_type": "code",
   "execution_count": 17,
   "id": "22a76c14",
   "metadata": {},
   "outputs": [],
   "source": [
    "# Generate X (features) from khan_encoded dataframe \n",
    "X = khan_encoded.values"
   ]
  },
  {
   "cell_type": "code",
   "execution_count": 18,
   "id": "b0ed97d9",
   "metadata": {},
   "outputs": [
    {
     "data": {
      "text/plain": [
       "array([1, 1, 1, 1, 0, 0, 0, 1, 0, 0, 0, 0, 0, 0, 0, 0, 1, 0, 0])"
      ]
     },
     "execution_count": 18,
     "metadata": {},
     "output_type": "execute_result"
    }
   ],
   "source": [
    "# Verify first row of X\n",
    "X[0]"
   ]
  },
  {
   "cell_type": "code",
   "execution_count": 19,
   "id": "5032b25e",
   "metadata": {},
   "outputs": [
    {
     "data": {
      "text/plain": [
       "1"
      ]
     },
     "execution_count": 19,
     "metadata": {},
     "output_type": "execute_result"
    }
   ],
   "source": [
    "# Verify first row of y\n",
    "y[0]"
   ]
  },
  {
   "cell_type": "code",
   "execution_count": 20,
   "id": "f4b894b8",
   "metadata": {},
   "outputs": [],
   "source": [
    "# Split the data set: 80% Train, 20% Test\n",
    "X_train, X_test, y_train, y_test = train_test_split(X, y, test_size = 0.2, random_state = 0)"
   ]
  },
  {
   "cell_type": "code",
   "execution_count": 21,
   "id": "2ff0d03a",
   "metadata": {},
   "outputs": [
    {
     "data": {
      "text/plain": [
       "array([1, 1, 1, 1, 0, 0, 0, 1, 0, 0, 0, 0, 0, 1, 0, 0, 0, 0, 0])"
      ]
     },
     "execution_count": 21,
     "metadata": {},
     "output_type": "execute_result"
    }
   ],
   "source": [
    "# Inspect the first row of the training set \n",
    "X_train[0]"
   ]
  },
  {
   "cell_type": "code",
   "execution_count": 22,
   "id": "9e4ec47c",
   "metadata": {},
   "outputs": [],
   "source": [
    "# DO NOT THINK I NEED TO SCALE SINCE ALL FEATURES ARE BINARY (0,1), \n",
    "# but knowing the mean for some features are import so a StandardScaler to fit and transform the data is used.\n",
    "scaler = StandardScaler() \n",
    "X_train = scaler.fit_transform(X_train)\n",
    "X_test = scaler.transform(X_test)"
   ]
  },
  {
   "cell_type": "code",
   "execution_count": 23,
   "id": "049d2406",
   "metadata": {},
   "outputs": [
    {
     "data": {
      "text/plain": [
       "array([ 0.24380766,  0.65959649,  0.45331577,  0.41223056, -0.24942466,\n",
       "       -0.30768646, -0.01409178,  0.13820287, -0.13820287, -0.22211108,\n",
       "       -0.01091501, -0.36683475, -0.07766619,  2.16891454, -0.01409178,\n",
       "       -0.11940246, -1.09249126, -0.02183392, -0.32230976])"
      ]
     },
     "execution_count": 23,
     "metadata": {},
     "output_type": "execute_result"
    }
   ],
   "source": [
    "# We can see that the first row has been scaled \n",
    "X_train[0] "
   ]
  },
  {
   "cell_type": "code",
   "execution_count": 24,
   "id": "e16cd5a6",
   "metadata": {},
   "outputs": [],
   "source": [
    "# Build Random Forest \n",
    "rf = RandomForestClassifier(n_estimators=1000)\n",
    "rf.fit(X_train, y_train)\n",
    "y_pred = rf.predict(X_test)"
   ]
  },
  {
   "cell_type": "code",
   "execution_count": 25,
   "id": "0a790973",
   "metadata": {},
   "outputs": [
    {
     "data": {
      "text/plain": [
       "0.7478164205177068"
      ]
     },
     "execution_count": 25,
     "metadata": {},
     "output_type": "execute_result"
    }
   ],
   "source": [
    "rf.score(X_test, y_test)"
   ]
  },
  {
   "cell_type": "code",
   "execution_count": 26,
   "id": "bf63069e",
   "metadata": {},
   "outputs": [
    {
     "name": "stdout",
     "output_type": "stream",
     "text": [
      "[0.75555556 0.7484127  0.74900715 0.74821287 0.74662431]\n",
      "Mean Cross Validated Score: 0.7497212451302998\n"
     ]
    }
   ],
   "source": [
    "print(cross_val_score(rf,X_test,np.ravel(y_test),cv=5))\n",
    "print('Mean Cross Validated Score:',np.mean(cross_val_score(rf,X_test,np.ravel(y_test),cv=5)))"
   ]
  },
  {
   "cell_type": "code",
   "execution_count": 27,
   "id": "f6eecaab",
   "metadata": {},
   "outputs": [
    {
     "data": {
      "text/html": [
       "<div>\n",
       "<style scoped>\n",
       "    .dataframe tbody tr th:only-of-type {\n",
       "        vertical-align: middle;\n",
       "    }\n",
       "\n",
       "    .dataframe tbody tr th {\n",
       "        vertical-align: top;\n",
       "    }\n",
       "\n",
       "    .dataframe thead th {\n",
       "        text-align: right;\n",
       "    }\n",
       "</style>\n",
       "<table border=\"1\" class=\"dataframe\">\n",
       "  <thead>\n",
       "    <tr style=\"text-align: right;\">\n",
       "      <th></th>\n",
       "      <th>feature</th>\n",
       "      <th>importance</th>\n",
       "    </tr>\n",
       "  </thead>\n",
       "  <tbody>\n",
       "    <tr>\n",
       "      <th>2</th>\n",
       "      <td>registered_user</td>\n",
       "      <td>0.526168</td>\n",
       "    </tr>\n",
       "    <tr>\n",
       "      <th>0</th>\n",
       "      <td>lang_encode</td>\n",
       "      <td>0.094701</td>\n",
       "    </tr>\n",
       "    <tr>\n",
       "      <th>1</th>\n",
       "      <td>country_encode</td>\n",
       "      <td>0.090661</td>\n",
       "    </tr>\n",
       "    <tr>\n",
       "      <th>13</th>\n",
       "      <td>OS_Mac OS X</td>\n",
       "      <td>0.039429</td>\n",
       "    </tr>\n",
       "    <tr>\n",
       "      <th>9</th>\n",
       "      <td>OS_Android</td>\n",
       "      <td>0.031251</td>\n",
       "    </tr>\n",
       "    <tr>\n",
       "      <th>16</th>\n",
       "      <td>OS_Windows</td>\n",
       "      <td>0.029851</td>\n",
       "    </tr>\n",
       "    <tr>\n",
       "      <th>18</th>\n",
       "      <td>OS_iOS</td>\n",
       "      <td>0.027905</td>\n",
       "    </tr>\n",
       "    <tr>\n",
       "      <th>11</th>\n",
       "      <td>OS_Chrome OS</td>\n",
       "      <td>0.027064</td>\n",
       "    </tr>\n",
       "    <tr>\n",
       "      <th>5</th>\n",
       "      <td>device_type_tablet</td>\n",
       "      <td>0.022487</td>\n",
       "    </tr>\n",
       "    <tr>\n",
       "      <th>12</th>\n",
       "      <td>OS_Linux</td>\n",
       "      <td>0.018530</td>\n",
       "    </tr>\n",
       "    <tr>\n",
       "      <th>3</th>\n",
       "      <td>device_type_desktop</td>\n",
       "      <td>0.018204</td>\n",
       "    </tr>\n",
       "    <tr>\n",
       "      <th>7</th>\n",
       "      <td>KA_app_flag_False</td>\n",
       "      <td>0.017622</td>\n",
       "    </tr>\n",
       "    <tr>\n",
       "      <th>8</th>\n",
       "      <td>KA_app_flag_True</td>\n",
       "      <td>0.017230</td>\n",
       "    </tr>\n",
       "    <tr>\n",
       "      <th>4</th>\n",
       "      <td>device_type_phone</td>\n",
       "      <td>0.016895</td>\n",
       "    </tr>\n",
       "    <tr>\n",
       "      <th>15</th>\n",
       "      <td>OS_Ubuntu</td>\n",
       "      <td>0.016556</td>\n",
       "    </tr>\n",
       "    <tr>\n",
       "      <th>17</th>\n",
       "      <td>OS_Windows Phone</td>\n",
       "      <td>0.002643</td>\n",
       "    </tr>\n",
       "    <tr>\n",
       "      <th>14</th>\n",
       "      <td>OS_Other</td>\n",
       "      <td>0.001039</td>\n",
       "    </tr>\n",
       "    <tr>\n",
       "      <th>6</th>\n",
       "      <td>device_type_unknown/other</td>\n",
       "      <td>0.000967</td>\n",
       "    </tr>\n",
       "    <tr>\n",
       "      <th>10</th>\n",
       "      <td>OS_BlackBerry OS</td>\n",
       "      <td>0.000798</td>\n",
       "    </tr>\n",
       "  </tbody>\n",
       "</table>\n",
       "</div>"
      ],
      "text/plain": [
       "                      feature  importance\n",
       "2             registered_user    0.526168\n",
       "0                 lang_encode    0.094701\n",
       "1              country_encode    0.090661\n",
       "13                OS_Mac OS X    0.039429\n",
       "9                  OS_Android    0.031251\n",
       "16                 OS_Windows    0.029851\n",
       "18                     OS_iOS    0.027905\n",
       "11               OS_Chrome OS    0.027064\n",
       "5          device_type_tablet    0.022487\n",
       "12                   OS_Linux    0.018530\n",
       "3         device_type_desktop    0.018204\n",
       "7           KA_app_flag_False    0.017622\n",
       "8            KA_app_flag_True    0.017230\n",
       "4           device_type_phone    0.016895\n",
       "15                  OS_Ubuntu    0.016556\n",
       "17           OS_Windows Phone    0.002643\n",
       "14                   OS_Other    0.001039\n",
       "6   device_type_unknown/other    0.000967\n",
       "10           OS_BlackBerry OS    0.000798"
      ]
     },
     "execution_count": 27,
     "metadata": {},
     "output_type": "execute_result"
    }
   ],
   "source": [
    "df_importance = pd.DataFrame(zip(list(khan_encoded.columns),rf.feature_importances_),\n",
    "                             index=range(khan_encoded.columns.shape[0]),columns=['feature','importance'])\n",
    "df_importance.sort_values(by='importance',ascending=False)"
   ]
  },
  {
   "cell_type": "markdown",
   "id": "d5c4492d",
   "metadata": {},
   "source": [
    "\n",
    "As expected from our feature analysis the most important features in predicted a return user (defined as returning after 4 hours or more) are:\n",
    "\n",
    "    registered_user, language, Country, OS, and Device type\n",
    "\n",
    "The first three have the highest level of importance at 0.5, 0.09, 0.09 respectively. "
   ]
  },
  {
   "cell_type": "markdown",
   "id": "b699179b",
   "metadata": {},
   "source": [
    "In conclusion, these results match with our results from Chi-Squared test and ANOVA test"
   ]
  },
  {
   "cell_type": "code",
   "execution_count": 28,
   "id": "905785d3",
   "metadata": {},
   "outputs": [
    {
     "data": {
      "text/plain": [
       "(array([0.70177268, 0.75608842]),\n",
       " array([0.34075949, 0.93382693]),\n",
       " array([0.45875937, 0.83561077]),\n",
       " array([1975, 4322]))"
      ]
     },
     "execution_count": 28,
     "metadata": {},
     "output_type": "execute_result"
    }
   ],
   "source": [
    "# Extra metrics for the model \n",
    "precision_recall_fscore_support(y_test,y_pred)"
   ]
  },
  {
   "cell_type": "code",
   "execution_count": 29,
   "id": "5055e1b0",
   "metadata": {},
   "outputs": [
    {
     "data": {
      "text/plain": [
       "(0.7390527561315842, 0.7478164205177068, 0.7174145612619851, None)"
      ]
     },
     "execution_count": 29,
     "metadata": {},
     "output_type": "execute_result"
    }
   ],
   "source": [
    "# Apply weighted metrics\n",
    "precision_recall_fscore_support(y_test,y_pred,average='weighted')"
   ]
  },
  {
   "cell_type": "code",
   "execution_count": 30,
   "id": "85ffb0f0",
   "metadata": {},
   "outputs": [
    {
     "data": {
      "text/plain": [
       "array([[ 673, 1302],\n",
       "       [ 286, 4036]])"
      ]
     },
     "execution_count": 30,
     "metadata": {},
     "output_type": "execute_result"
    }
   ],
   "source": [
    "# Generate confusion matrix\n",
    "confusion_matrix(y_test,y_pred)"
   ]
  },
  {
   "cell_type": "markdown",
   "id": "e2499a8d",
   "metadata": {},
   "source": [
    "Accuracy at 75% is a good start and we will try a logistic regression model with hyper paramater tuning taken from buidling Random Forest model.\n",
    "\n",
    "A logistic regression is used because of the categorical variables in the model and to measure the odds of being an active user based on the output coefficient"
   ]
  },
  {
   "cell_type": "code",
   "execution_count": 31,
   "id": "eb6cd875",
   "metadata": {},
   "outputs": [
    {
     "data": {
      "text/plain": [
       "GridSearchCV(cv=5, estimator=LogisticRegression(),\n",
       "             param_grid={'C': array([0.5, 0.6, 0.7, 0.8, 0.9, 1. , 1.1, 1.2, 1.3, 1.4, 1.5, 1.6, 1.7,\n",
       "       1.8, 1.9, 2. , 2.1, 2.2, 2.3, 2.4, 2.5, 2.6, 2.7, 2.8, 2.9, 3. ,\n",
       "       3.1, 3.2, 3.3, 3.4, 3.5, 3.6, 3.7, 3.8, 3.9, 4. , 4.1, 4.2, 4.3,\n",
       "       4.4, 4.5, 4.6, 4.7, 4.8, 4.9, 5. ])})"
      ]
     },
     "execution_count": 31,
     "metadata": {},
     "output_type": "execute_result"
    }
   ],
   "source": [
    "# Intialize logistic model \n",
    "logit = LogisticRegression(solver = 'lbfgs')\n",
    "\n",
    "#set parameter grid\n",
    "param_grid = {'C':np.arange(0.5,5.1,0.1)}\n",
    "\n",
    "#instantiate and fit grid search object\n",
    "grid = GridSearchCV(logit,param_grid,cv=5)\n",
    "grid.fit(X_train,np.ravel(y_train))\n"
   ]
  },
  {
   "cell_type": "code",
   "execution_count": 32,
   "id": "3e7a3a8c",
   "metadata": {},
   "outputs": [
    {
     "data": {
      "text/plain": [
       "0.5"
      ]
     },
     "execution_count": 32,
     "metadata": {},
     "output_type": "execute_result"
    }
   ],
   "source": [
    "grid.best_estimator_.C"
   ]
  },
  {
   "cell_type": "code",
   "execution_count": 33,
   "id": "31458f32",
   "metadata": {},
   "outputs": [
    {
     "data": {
      "text/html": [
       "<div>\n",
       "<style scoped>\n",
       "    .dataframe tbody tr th:only-of-type {\n",
       "        vertical-align: middle;\n",
       "    }\n",
       "\n",
       "    .dataframe tbody tr th {\n",
       "        vertical-align: top;\n",
       "    }\n",
       "\n",
       "    .dataframe thead th {\n",
       "        text-align: right;\n",
       "    }\n",
       "</style>\n",
       "<table border=\"1\" class=\"dataframe\">\n",
       "  <thead>\n",
       "    <tr style=\"text-align: right;\">\n",
       "      <th></th>\n",
       "      <th>feature</th>\n",
       "      <th>coefficient</th>\n",
       "    </tr>\n",
       "  </thead>\n",
       "  <tbody>\n",
       "    <tr>\n",
       "      <th>2</th>\n",
       "      <td>registered_user</td>\n",
       "      <td>0.645401</td>\n",
       "    </tr>\n",
       "    <tr>\n",
       "      <th>15</th>\n",
       "      <td>OS_Ubuntu</td>\n",
       "      <td>0.225816</td>\n",
       "    </tr>\n",
       "    <tr>\n",
       "      <th>5</th>\n",
       "      <td>device_type_tablet</td>\n",
       "      <td>0.220803</td>\n",
       "    </tr>\n",
       "    <tr>\n",
       "      <th>16</th>\n",
       "      <td>OS_Windows</td>\n",
       "      <td>0.154175</td>\n",
       "    </tr>\n",
       "    <tr>\n",
       "      <th>0</th>\n",
       "      <td>lang_encode</td>\n",
       "      <td>0.149767</td>\n",
       "    </tr>\n",
       "    <tr>\n",
       "      <th>17</th>\n",
       "      <td>OS_Windows Phone</td>\n",
       "      <td>0.148470</td>\n",
       "    </tr>\n",
       "    <tr>\n",
       "      <th>4</th>\n",
       "      <td>device_type_phone</td>\n",
       "      <td>0.114831</td>\n",
       "    </tr>\n",
       "    <tr>\n",
       "      <th>13</th>\n",
       "      <td>OS_Mac OS X</td>\n",
       "      <td>0.099133</td>\n",
       "    </tr>\n",
       "    <tr>\n",
       "      <th>8</th>\n",
       "      <td>KA_app_flag_True</td>\n",
       "      <td>0.024563</td>\n",
       "    </tr>\n",
       "    <tr>\n",
       "      <th>7</th>\n",
       "      <td>KA_app_flag_False</td>\n",
       "      <td>-0.024563</td>\n",
       "    </tr>\n",
       "    <tr>\n",
       "      <th>11</th>\n",
       "      <td>OS_Chrome OS</td>\n",
       "      <td>-0.053476</td>\n",
       "    </tr>\n",
       "    <tr>\n",
       "      <th>6</th>\n",
       "      <td>device_type_unknown/other</td>\n",
       "      <td>-0.068806</td>\n",
       "    </tr>\n",
       "    <tr>\n",
       "      <th>14</th>\n",
       "      <td>OS_Other</td>\n",
       "      <td>-0.068806</td>\n",
       "    </tr>\n",
       "    <tr>\n",
       "      <th>10</th>\n",
       "      <td>OS_BlackBerry OS</td>\n",
       "      <td>-0.089599</td>\n",
       "    </tr>\n",
       "    <tr>\n",
       "      <th>12</th>\n",
       "      <td>OS_Linux</td>\n",
       "      <td>-0.111472</td>\n",
       "    </tr>\n",
       "    <tr>\n",
       "      <th>9</th>\n",
       "      <td>OS_Android</td>\n",
       "      <td>-0.137552</td>\n",
       "    </tr>\n",
       "    <tr>\n",
       "      <th>1</th>\n",
       "      <td>country_encode</td>\n",
       "      <td>-0.201253</td>\n",
       "    </tr>\n",
       "    <tr>\n",
       "      <th>3</th>\n",
       "      <td>device_type_desktop</td>\n",
       "      <td>-0.249911</td>\n",
       "    </tr>\n",
       "    <tr>\n",
       "      <th>18</th>\n",
       "      <td>OS_iOS</td>\n",
       "      <td>-0.299152</td>\n",
       "    </tr>\n",
       "  </tbody>\n",
       "</table>\n",
       "</div>"
      ],
      "text/plain": [
       "                      feature  coefficient\n",
       "2             registered_user     0.645401\n",
       "15                  OS_Ubuntu     0.225816\n",
       "5          device_type_tablet     0.220803\n",
       "16                 OS_Windows     0.154175\n",
       "0                 lang_encode     0.149767\n",
       "17           OS_Windows Phone     0.148470\n",
       "4           device_type_phone     0.114831\n",
       "13                OS_Mac OS X     0.099133\n",
       "8            KA_app_flag_True     0.024563\n",
       "7           KA_app_flag_False    -0.024563\n",
       "11               OS_Chrome OS    -0.053476\n",
       "6   device_type_unknown/other    -0.068806\n",
       "14                   OS_Other    -0.068806\n",
       "10           OS_BlackBerry OS    -0.089599\n",
       "12                   OS_Linux    -0.111472\n",
       "9                  OS_Android    -0.137552\n",
       "1              country_encode    -0.201253\n",
       "3         device_type_desktop    -0.249911\n",
       "18                     OS_iOS    -0.299152"
      ]
     },
     "execution_count": 33,
     "metadata": {},
     "output_type": "execute_result"
    }
   ],
   "source": [
    "#find coefficients from Logistic Regression\n",
    "logit_coef = LogisticRegression(C=grid.best_estimator_.C)\n",
    "logit_coef.fit(X_train,y_train)\n",
    "df_coef = pd.DataFrame(zip(list(khan_encoded.columns),logit_coef.coef_[0]),index=range\n",
    "                       (khan_encoded.columns.shape[0]),columns=['feature','coefficient'])\n",
    "df_coef.sort_values(by='coefficient',ascending=False)"
   ]
  },
  {
   "cell_type": "code",
   "execution_count": 34,
   "id": "92d545c7",
   "metadata": {},
   "outputs": [
    {
     "name": "stdout",
     "output_type": "stream",
     "text": [
      "0.7365392034494497\n"
     ]
    }
   ],
   "source": [
    "print(np.mean(cross_val_score(grid, X_test, np.ravel(y_test), cv=5)))"
   ]
  },
  {
   "cell_type": "markdown",
   "id": "1b8e2a7d",
   "metadata": {},
   "source": [
    "The logistic regression has an prediction accuracy of 74%\n",
    "\n",
    "Having a similar accuracy to the random forest model we can assume that the coefficents from the logestic regression are accurate \n",
    "\n",
    "Note: Can use a Tobit regression rather than Logit, need to verify. "
   ]
  },
  {
   "cell_type": "markdown",
   "id": "d58bccd5",
   "metadata": {},
   "source": [
    "### Conclusion \n",
    "\n",
    "The Random Forest model predicted a returner with 75% accuracy and listed features by importance. The features of most importance were registered user, language, and country. Registered user is defined as having a registered account with Khan Academy. Language in the model is defined as being in english or not. Country in the model is defiened as being from the US or not.\n",
    "\n",
    "Country had 77 unique values. USA consist of 47% of those values, with the second most Canada consist of 5% of the sample. Language, similiary, had 11 unique values with english comprising of 94% of the sample.\n",
    "\n",
    "Next to find the predicted results a logisitic regression was used to derive interprebable predictions when predicting a return user. The regression had an accuracy of 74%, thus, can be used in hand with the Random Forest model. \n",
    "\n",
    "Logistic results on features of importance: \n",
    "registered_user = 0.64540, lang_encode = 0.149767, country_encode = -0.201253 "
   ]
  },
  {
   "cell_type": "code",
   "execution_count": null,
   "id": "471f7cad",
   "metadata": {},
   "outputs": [],
   "source": []
  }
 ],
 "metadata": {
  "kernelspec": {
   "display_name": "Python 3 (ipykernel)",
   "language": "python",
   "name": "python3"
  },
  "language_info": {
   "codemirror_mode": {
    "name": "ipython",
    "version": 3
   },
   "file_extension": ".py",
   "mimetype": "text/x-python",
   "name": "python",
   "nbconvert_exporter": "python",
   "pygments_lexer": "ipython3",
   "version": "3.9.7"
  }
 },
 "nbformat": 4,
 "nbformat_minor": 5
}
